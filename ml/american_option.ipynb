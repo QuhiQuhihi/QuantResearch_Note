{
  "nbformat": 4,
  "nbformat_minor": 0,
  "metadata": {
    "colab": {
      "name": "American_Option",
      "provenance": [],
      "collapsed_sections": [],
      "authorship_tag": "ABX9TyN1hJHbW6gEOIkXtIJA/R9P",
      "include_colab_link": true
    },
    "kernelspec": {
      "name": "python3",
      "display_name": "Python 3"
    }
  },
  "cells": [
    {
      "cell_type": "markdown",
      "metadata": {
        "id": "view-in-github",
        "colab_type": "text"
      },
      "source": [
        "<a href=\"https://colab.research.google.com/github/letianzj/QuantResearch/blob/master/ml/american_option.ipynb\" target=\"_parent\"><img src=\"https://colab.research.google.com/assets/colab-badge.svg\" alt=\"Open In Colab\"/></a>"
      ]
    },
    {
      "cell_type": "markdown",
      "metadata": {
        "id": "LPsT-tou7RVo",
        "colab_type": "text"
      },
      "source": [
        "### Introduction\n",
        "\n",
        "This notebook uses reinforcement learning to price American option assuming flat volatility surface. \n",
        "\n",
        "It has three sections, corresponding to three packages used.\n",
        "\n",
        "1. Analytical baseline and QuantLib: to price European option and American option as reference values.\n",
        "\n",
        "2. Gym and Monte Carlo simulation: to create OpenAI gym environment.\n",
        "\n",
        "3. TF-Agent and Optimal stopping policy: to training a reinforement learning agent and policy."
      ]
    },
    {
      "cell_type": "markdown",
      "metadata": {
        "id": "6YIxnvS-9oJE",
        "colab_type": "text"
      },
      "source": [
        "### Section One -- Baseline"
      ]
    },
    {
      "cell_type": "code",
      "metadata": {
        "id": "lmXsqxw9_42S",
        "colab_type": "code",
        "colab": {
          "base_uri": "https://localhost:8080/",
          "height": 136
        },
        "outputId": "9a184c0e-db5a-4579-fa5d-d69544525811"
      },
      "source": [
        "# !pip install QuantLib-Python"
      ],
      "execution_count": 2,
      "outputs": [
        {
          "output_type": "stream",
          "text": [
            "Collecting QuantLib-Python\n",
            "  Downloading https://files.pythonhosted.org/packages/7e/a9/4c6fac9c3c9b1625ab573531bbe9666d2f7cd6bc0a5eeb1f5792b947d9b2/QuantLib_Python-1.18-py2.py3-none-any.whl\n",
            "Collecting QuantLib\n",
            "\u001b[?25l  Downloading https://files.pythonhosted.org/packages/02/48/cd7c50ee6fd0681fb9c007052ff50909050fac01ffd1d211e52df43c3af6/QuantLib-1.19-cp36-cp36m-manylinux1_x86_64.whl (18.5MB)\n",
            "\u001b[K     |████████████████████████████████| 18.5MB 1.3MB/s \n",
            "\u001b[?25hInstalling collected packages: QuantLib, QuantLib-Python\n",
            "Successfully installed QuantLib-1.19 QuantLib-Python-1.18\n"
          ],
          "name": "stdout"
        }
      ]
    },
    {
      "cell_type": "code",
      "metadata": {
        "id": "D-pGm_YPAs-b",
        "colab_type": "code",
        "colab": {}
      },
      "source": [
        "import QuantLib as ql \n",
        "\n",
        "maturity = ql.Date(31, 12, 2019)\n",
        "S0 = 100\n",
        "K = 100\n",
        "r = 0.02\n",
        "sigma = 0.20\n",
        "d =  0.0\n",
        "otype = ql.Option.Put\n",
        "dc = ql.Actual365Fixed()\n",
        "calendar = ql.NullCalendar()\n",
        "\n",
        "today = ql.Date(1, 1, 2019)\n",
        "ql.Settings.instance().evaluationDate = today"
      ],
      "execution_count": 3,
      "outputs": []
    },
    {
      "cell_type": "code",
      "metadata": {
        "id": "v1UQkRyuA2qJ",
        "colab_type": "code",
        "colab": {}
      },
      "source": [
        "payoff = ql.PlainVanillaPayoff(otype, K)\n",
        "\n",
        "european_exercise = ql.EuropeanExercise(maturity)\n",
        "european_option = ql.VanillaOption(payoff, european_exercise)\n",
        "\n",
        "american_exercise = ql.AmericanExercise(today, maturity)\n",
        "american_option = ql.VanillaOption(payoff, american_exercise)"
      ],
      "execution_count": 4,
      "outputs": []
    },
    {
      "cell_type": "code",
      "metadata": {
        "id": "sn83i6ZrA5Ld",
        "colab_type": "code",
        "colab": {}
      },
      "source": [
        "d_ts = ql.YieldTermStructureHandle(ql.FlatForward(today, d, dc))\n",
        "r_ts = ql.YieldTermStructureHandle(ql.FlatForward(today, r, dc))\n",
        "sigma_ts = ql.BlackVolTermStructureHandle(ql.BlackConstantVol(today, calendar, sigma, dc))\n",
        "bsm_process = ql.BlackScholesMertonProcess(ql.QuoteHandle(ql.SimpleQuote(S0)), d_ts, r_ts, sigma_ts)"
      ],
      "execution_count": 5,
      "outputs": []
    },
    {
      "cell_type": "code",
      "metadata": {
        "id": "LWW5XQueA7jG",
        "colab_type": "code",
        "colab": {
          "base_uri": "https://localhost:8080/",
          "height": 34
        },
        "outputId": "f9d14c17-cdad-44cd-f773-f924fc737a51"
      },
      "source": [
        "pricing_dict = {}\n",
        "\n",
        "bsm73 = ql.AnalyticEuropeanEngine(bsm_process)\n",
        "european_option.setPricingEngine(bsm73)\n",
        "pricing_dict['BlackScholesEuropean'] = european_option.NPV()\n",
        "\n",
        "analytical_engine = ql.BaroneAdesiWhaleyEngine(bsm_process)\n",
        "american_option.setPricingEngine(analytical_engine)\n",
        "pricing_dict['BawApproximation'] = american_option.NPV()\n",
        "\n",
        "binomial_engine = ql.BinomialVanillaEngine(bsm_process, \"crr\", 100)\n",
        "american_option.setPricingEngine(binomial_engine)\n",
        "pricing_dict['BinomialTree'] = american_option.NPV()\n",
        "\n",
        "# fd_engine = ql.FdBlackScholesVanillaEngine(bsm_process)\n",
        "# american_option.setPricingEngine(fd_engine)\n",
        "# pricing_dict['FiniteDifference'] = american_option.NPV()\n",
        "\n",
        "print(pricing_dict)"
      ],
      "execution_count": 6,
      "outputs": [
        {
          "output_type": "stream",
          "text": [
            "{'BlackScholesEuropean': 6.92786901829998, 'BawApproximation': 7.091254636695334, 'BinomialTree': 7.090924645858217}\n"
          ],
          "name": "stdout"
        }
      ]
    },
    {
      "cell_type": "markdown",
      "metadata": {
        "id": "1nTMuUEkp2wN",
        "colab_type": "text"
      },
      "source": [
        "European option price is \\$6.928; American Option is \\$7.091; The value of early exercise is \\$0.163."
      ]
    },
    {
      "cell_type": "markdown",
      "metadata": {
        "id": "TklAYRUS-i8b",
        "colab_type": "text"
      },
      "source": [
        "### Section Two -- Gym Environment"
      ]
    },
    {
      "cell_type": "code",
      "metadata": {
        "id": "vy2qUsT7PM1t",
        "colab_type": "code",
        "colab": {}
      },
      "source": [
        "import numpy as np\n",
        "import gym\n",
        "class AmeriOptionEnv(gym.Env):\n",
        "    def __init__(self):\n",
        "        self.S0 = 100.0\n",
        "        self.K = 100.0\n",
        "        self.r = 0.02\n",
        "        self.sigma = 0.20\n",
        "        self.T = 1.0\n",
        "        self.N = 365    # 365 day\n",
        "\n",
        "        self.S1 = 0\n",
        "        self.reward = 0\n",
        "        self.day_step = 0    # from day 0 taking N steps to day N\n",
        "\n",
        "        self.action_space = gym.spaces.Discrete(2)         # 0: hold, 1:exercise\n",
        "        self.observation_space = gym.spaces.Box(low=np.array([0, 0]), high=np.array([np.inf, 1.0]), dtype=np.float32)      # S in [0, inf], tao in [0, 1]\n",
        "\n",
        "    def step(self, action):\n",
        "        if action == 1:        # exercise\n",
        "            reward = max(K-self.S1, 0.0) * np.exp(-self.r * self.T * (self.day_step/self.N))\n",
        "            done = True\n",
        "        else:       # hold\n",
        "            if self.day_step == self.N:    # at maturity\n",
        "                reward = max(self.K-self.S1, 0.0) * np.exp(-self.r * self.T)\n",
        "                done = True\n",
        "            else: # move to tomorrow\n",
        "                reward = 0\n",
        "                # lnS1 - lnS0 = (r - 0.5*sigma^2)*t + sigma * Wt\n",
        "                self.S1 = self.S1 * np.exp((self.r - 0.5 * self.sigma**2) * (self.T/self.N) + self.sigma * np.sqrt(self.T/self.N) * np.random.normal())\n",
        "                self.day_step += 1\n",
        "                done = False\n",
        "\n",
        "        tao = 1.0-self.day_step/self.N        # time to maturity, in unit of years\n",
        "        return np.array([self.S1, tao]), reward, done, {}\n",
        "\n",
        "    def reset(self):\n",
        "        self.day_step = 0\n",
        "        self.S1 = self.S0\n",
        "        tao = 1.0-self.day_step/self.N        # time to maturity, in unit of years\n",
        "        return [self.S1, tao]\n",
        "    \n",
        "    def render(self):\n",
        "        \"\"\"\n",
        "        make video\n",
        "        \"\"\"\n",
        "        pass\n",
        "\n",
        "    def close(self):\n",
        "        pass"
      ],
      "execution_count": 7,
      "outputs": []
    },
    {
      "cell_type": "markdown",
      "metadata": {
        "id": "8gy2JFxz-r8K",
        "colab_type": "text"
      },
      "source": [
        "To simulate stock prices, set policy to not exercise or hold"
      ]
    },
    {
      "cell_type": "code",
      "metadata": {
        "id": "edCHLZhwPlws",
        "colab_type": "code",
        "colab": {
          "base_uri": "https://localhost:8080/",
          "height": 330
        },
        "outputId": "9dc23049-65e4-4b74-85e9-bbce6cbedf6b"
      },
      "source": [
        "import matplotlib.pyplot as plt\n",
        "\n",
        "env = AmeriOptionEnv()\n",
        "s = env.reset()\n",
        "\n",
        "sim_prices = []\n",
        "sim_prices.append(s[0])\n",
        "for i in range(365):\n",
        "  action = 0\n",
        "  s_next, reward, done, info = env.step(action)\n",
        "  sim_prices.append(s_next[0])\n",
        "\n",
        "plt.xlabel('Date')\n",
        "plt.ylabel('Stock Price')\n",
        "plt.plot(sim_prices)"
      ],
      "execution_count": 32,
      "outputs": [
        {
          "output_type": "stream",
          "text": [
            "/usr/local/lib/python3.6/dist-packages/gym/logger.py:30: UserWarning: \u001b[33mWARN: Box bound precision lowered by casting to float32\u001b[0m\n",
            "  warnings.warn(colorize('%s: %s'%('WARN', msg % args), 'yellow'))\n"
          ],
          "name": "stderr"
        },
        {
          "output_type": "execute_result",
          "data": {
            "text/plain": [
              "[<matplotlib.lines.Line2D at 0x7f33f4a8a128>]"
            ]
          },
          "metadata": {
            "tags": []
          },
          "execution_count": 32
        },
        {
          "output_type": "display_data",
          "data": {
            "image/png": "[encoded data removed]",
            "text/plain": [
              "<Figure size 432x288 with 1 Axes>"
            ]
          },
          "metadata": {
            "tags": [],
            "needs_background": "light"
          }
        }
      ]
    },
    {
      "cell_type": "markdown",
      "metadata": {
        "id": "yqkjpADQ_btB",
        "colab_type": "text"
      },
      "source": [
        "### Section Three -- Reinforcement Learning\n",
        "\n",
        "This section follows closely the [TF-Agent documentation](https://www.tensorflow.org/agents)"
      ]
    },
    {
      "cell_type": "code",
      "metadata": {
        "id": "EiamAtrtzi3Y",
        "colab_type": "code",
        "colab": {
          "base_uri": "https://localhost:8080/",
          "height": 34
        },
        "outputId": "4f895083-c3ba-4a01-bcee-0e2978f4956a"
      },
      "source": [
        "!pip install -q tf-agents"
      ],
      "execution_count": 12,
      "outputs": [
        {
          "output_type": "stream",
          "text": [
            "\u001b[K     |████████████████████████████████| 1.1MB 2.8MB/s \n",
            "\u001b[?25h"
          ],
          "name": "stdout"
        }
      ]
    },
    {
      "cell_type": "code",
      "metadata": {
        "id": "z7glhOFbzxaW",
        "colab_type": "code",
        "colab": {}
      },
      "source": [
        "import tensorflow as tf\n",
        "import numpy as np\n",
        "\n",
        "from tf_agents.environments import  gym_wrapper           # wrap OpenAI gym\n",
        "from tf_agents.environments import tf_py_environment      # gym to tf gym\n",
        "from tf_agents.networks import q_network                  # Q net\n",
        "from tf_agents.agents.dqn import dqn_agent                # DQN Agent\n",
        "from tf_agents.replay_buffers import tf_uniform_replay_buffer      # replay buffer\n",
        "from tf_agents.trajectories import trajectory              # s->s' trajectory\n",
        "from tf_agents.utils import common                       # loss function"
      ],
      "execution_count": 13,
      "outputs": []
    },
    {
      "cell_type": "code",
      "metadata": {
        "id": "mfGnbc0eAvYu",
        "colab_type": "code",
        "colab": {}
      },
      "source": [
        "# Hyper-parameters\n",
        "num_iterations = 20000 # @param {type:\"integer\"}\n",
        "\n",
        "collect_steps_per_iteration = 10  # @param {type:\"integer\"}\n",
        "replay_buffer_max_length = 100000  # @param {type:\"integer\"}\n",
        "batch_size = 256  # @param {type:\"integer\"}\n",
        "\n",
        "learning_rate = 1e-3  # @param {type:\"number\"}\n",
        "num_eval_episodes = 10  # @param {type:\"integer\"}\n",
        "\n",
        "eval_interval = 1000  # @param {type:\"integer\"}\n",
        "log_interval = 200  # @param {type:\"integer\"}"
      ],
      "execution_count": 14,
      "outputs": []
    },
    {
      "cell_type": "markdown",
      "metadata": {
        "id": "1FtV-1MkFh3Q",
        "colab_type": "text"
      },
      "source": [
        "#### Section 3.1 Define Environment"
      ]
    },
    {
      "cell_type": "code",
      "metadata": {
        "id": "cWkMWaUjz915",
        "colab_type": "code",
        "colab": {
          "base_uri": "https://localhost:8080/",
          "height": 51
        },
        "outputId": "04819377-3107-4a59-be32-7bbf80b4aa96"
      },
      "source": [
        "train_env_gym = AmeriOptionEnv()\n",
        "eval_env_gym = AmeriOptionEnv()\n",
        "\n",
        "train_env_wrap = gym_wrapper.GymWrapper(train_env_gym)\n",
        "eval_env_wrap = gym_wrapper.GymWrapper(eval_env_gym)\n",
        "\n",
        "train_env  = tf_py_environment.TFPyEnvironment(train_env_wrap)\n",
        "eval_env = tf_py_environment.TFPyEnvironment(eval_env_wrap)"
      ],
      "execution_count": 15,
      "outputs": [
        {
          "output_type": "stream",
          "text": [
            "/usr/local/lib/python3.6/dist-packages/gym/logger.py:30: UserWarning: \u001b[33mWARN: Box bound precision lowered by casting to float32\u001b[0m\n",
            "  warnings.warn(colorize('%s: %s'%('WARN', msg % args), 'yellow'))\n"
          ],
          "name": "stderr"
        }
      ]
    },
    {
      "cell_type": "markdown",
      "metadata": {
        "id": "RzH7SYbBFrRf",
        "colab_type": "text"
      },
      "source": [
        "#### Section 3.2 Define Q Net"
      ]
    },
    {
      "cell_type": "code",
      "metadata": {
        "id": "J7jpKho5w7kM",
        "colab_type": "code",
        "colab": {}
      },
      "source": [
        "fc_layer_params = (100,)\n",
        "\n",
        "q_net = q_network.QNetwork(\n",
        "    train_env.observation_spec(),\n",
        "    train_env.action_spec(),\n",
        "    fc_layer_params=fc_layer_params)"
      ],
      "execution_count": 16,
      "outputs": []
    },
    {
      "cell_type": "markdown",
      "metadata": {
        "id": "N2Y84kHxFu8a",
        "colab_type": "text"
      },
      "source": [
        "#### Section 3.3 Define DQN Agent"
      ]
    },
    {
      "cell_type": "code",
      "metadata": {
        "id": "ed9QJG1QxFZS",
        "colab_type": "code",
        "colab": {}
      },
      "source": [
        "optimizer = tf.compat.v1.train.AdamOptimizer(learning_rate=learning_rate)\n",
        "\n",
        "train_step_counter = tf.Variable(0)\n",
        "\n",
        "agent = dqn_agent.DqnAgent(\n",
        "    train_env.time_step_spec(),\n",
        "    train_env.action_spec(),\n",
        "    q_network=q_net,\n",
        "    optimizer=optimizer,\n",
        "    td_errors_loss_fn=common.element_wise_squared_loss,\n",
        "    train_step_counter=train_step_counter)\n",
        "\n",
        "agent.initialize()"
      ],
      "execution_count": 17,
      "outputs": []
    },
    {
      "cell_type": "markdown",
      "metadata": {
        "id": "3fzyCueeF2lW",
        "colab_type": "text"
      },
      "source": [
        "#### Section 3.4 - Construct Experience Replay Buffer"
      ]
    },
    {
      "cell_type": "code",
      "metadata": {
        "id": "0jcMGgYuyTv8",
        "colab_type": "code",
        "colab": {}
      },
      "source": [
        "replay_buffer = tf_uniform_replay_buffer.TFUniformReplayBuffer(\n",
        "    data_spec=agent.collect_data_spec,\n",
        "    batch_size=train_env.batch_size,\n",
        "    max_length=replay_buffer_max_length)"
      ],
      "execution_count": 18,
      "outputs": []
    },
    {
      "cell_type": "code",
      "metadata": {
        "id": "JFYE2xC8ydt0",
        "colab_type": "code",
        "colab": {}
      },
      "source": [
        "# Data Collection\n",
        "\n",
        "def collect_step(environment, policy, buffer):\n",
        "  time_step = environment.current_time_step()\n",
        "  action_step = policy.action(time_step)\n",
        "  next_time_step = environment.step(action_step.action)\n",
        "  traj = trajectory.from_transition(time_step, action_step, next_time_step)\n",
        "\n",
        "  # Add trajectory to the replay buffer\n",
        "  buffer.add_batch(traj)\n",
        "\n",
        "def collect_data(env, policy, buffer, steps):\n",
        "  for _ in range(steps):\n",
        "    collect_step(env, policy, buffer)"
      ],
      "execution_count": 19,
      "outputs": []
    },
    {
      "cell_type": "code",
      "metadata": {
        "id": "EFfjRLuX0gtX",
        "colab_type": "code",
        "colab": {
          "base_uri": "https://localhost:8080/",
          "height": 68
        },
        "outputId": "f7c3a7a7-fa70-4dcf-a1e1-45e2927f3d31"
      },
      "source": [
        "# Fetch experience\n",
        "\n",
        "dataset = replay_buffer.as_dataset(\n",
        "    num_parallel_calls=3, \n",
        "    sample_batch_size=batch_size, \n",
        "    num_steps=2).prefetch(3)\n",
        "\n",
        "iterator = iter(dataset)"
      ],
      "execution_count": 20,
      "outputs": [
        {
          "output_type": "stream",
          "text": [
            "WARNING:tensorflow:From /usr/local/lib/python3.6/dist-packages/tensorflow/python/autograph/operators/control_flow.py:1004: ReplayBuffer.get_next (from tf_agents.replay_buffers.replay_buffer) is deprecated and will be removed in a future version.\n",
            "Instructions for updating:\n",
            "Use `as_dataset(..., single_deterministic_pass=False) instead.\n"
          ],
          "name": "stdout"
        }
      ]
    },
    {
      "cell_type": "markdown",
      "metadata": {
        "id": "On5yCJ0mF-mv",
        "colab_type": "text"
      },
      "source": [
        "#### Section 3.5 - Training"
      ]
    },
    {
      "cell_type": "code",
      "metadata": {
        "id": "ZF9NgvO6GBUP",
        "colab_type": "code",
        "colab": {}
      },
      "source": [
        "# eval_env evaluation\n",
        "def compute_avg_return(environment, policy, num_episodes=10):\n",
        "\n",
        "  total_return = 0.0\n",
        "  for _ in range(num_episodes):\n",
        "\n",
        "    time_step = environment.reset()\n",
        "    episode_return = 0.0\n",
        "\n",
        "    while not time_step.is_last():\n",
        "      action_step = policy.action(time_step)\n",
        "      time_step = environment.step(action_step.action)\n",
        "      episode_return += time_step.reward\n",
        "    total_return += episode_return\n",
        "\n",
        "  avg_return = total_return / num_episodes\n",
        "  return avg_return.numpy()[0]"
      ],
      "execution_count": 21,
      "outputs": []
    },
    {
      "cell_type": "code",
      "metadata": {
        "id": "H3aEpL9bzOn9",
        "colab_type": "code",
        "colab": {
          "base_uri": "https://localhost:8080/",
          "height": 1000
        },
        "outputId": "391d080d-50eb-43f5-95f3-5a01773749c2"
      },
      "source": [
        "# step 5 - training - takes a while\n",
        "# (Optional) Optimize by wrapping some of the code in a graph using TF function.\n",
        "agent.train = common.function(agent.train)\n",
        "\n",
        "# Reset the train step\n",
        "agent.train_step_counter.assign(0)\n",
        "\n",
        "# Evaluate the agent's policy once before training.\n",
        "avg_return = compute_avg_return(eval_env, agent.policy, num_eval_episodes)\n",
        "returns = [avg_return]\n",
        "\n",
        "for _ in range(num_iterations):\n",
        "\n",
        "  # Collect a few steps using collect_policy and save to the replay buffer.\n",
        "  for _ in range(collect_steps_per_iteration):\n",
        "    collect_step(train_env, agent.collect_policy, replay_buffer)\n",
        "\n",
        "  # Sample a batch of data from the buffer and update the agent's network.\n",
        "  experience, unused_info = next(iterator)\n",
        "  train_loss = agent.train(experience).loss\n",
        "\n",
        "  step = agent.train_step_counter.numpy()\n",
        "\n",
        "  if step % log_interval == 0:\n",
        "    print('step = {0}: loss = {1}'.format(step, train_loss))\n",
        "\n",
        "  if step % eval_interval == 0:\n",
        "    avg_return = compute_avg_return(eval_env, agent.policy, num_eval_episodes)\n",
        "    print('step = {0}: Average Return = {1}'.format(step, avg_return))\n",
        "    returns.append(avg_return)"
      ],
      "execution_count": 22,
      "outputs": [
        {
          "output_type": "stream",
          "text": [
            "WARNING:tensorflow:From /usr/local/lib/python3.6/dist-packages/tensorflow/python/util/dispatch.py:201: calling foldr_v2 (from tensorflow.python.ops.functional_ops) with back_prop=False is deprecated and will be removed in a future version.\n",
            "Instructions for updating:\n",
            "back_prop=False is deprecated. Consider using tf.stop_gradient instead.\n",
            "Instead of:\n",
            "results = tf.foldr(fn, elems, back_prop=False)\n",
            "Use:\n",
            "results = tf.nest.map_structure(tf.stop_gradient, tf.foldr(fn, elems))\n",
            "step = 200: loss = 59.832584381103516\n",
            "step = 400: loss = 238.35992431640625\n",
            "step = 600: loss = 626.5194091796875\n",
            "step = 800: loss = 1394.18701171875\n",
            "step = 1000: loss = 1666.5810546875\n",
            "step = 1000: Average Return = 7.270626068115234\n",
            "step = 1200: loss = 1957.728759765625\n",
            "step = 1400: loss = 1191.81884765625\n",
            "step = 1600: loss = 1217.3583984375\n",
            "step = 1800: loss = 1168.137451171875\n",
            "step = 2000: loss = 1351.412109375\n",
            "step = 2000: Average Return = 8.32473087310791\n",
            "step = 2200: loss = 1633.104248046875\n",
            "step = 2400: loss = 1531.072021484375\n",
            "step = 2600: loss = 1716.333251953125\n",
            "step = 2800: loss = 2605.77685546875\n",
            "step = 3000: loss = 3474.59033203125\n",
            "step = 3000: Average Return = 8.851873397827148\n",
            "step = 3200: loss = 3067.1572265625\n",
            "step = 3400: loss = 2595.955810546875\n",
            "step = 3600: loss = 2869.69287109375\n",
            "step = 3800: loss = 3171.66796875\n",
            "step = 4000: loss = 2977.46728515625\n",
            "step = 4000: Average Return = 7.773991584777832\n",
            "step = 4200: loss = 2923.05224609375\n",
            "step = 4400: loss = 3331.69677734375\n",
            "step = 4600: loss = 3646.66845703125\n",
            "step = 4800: loss = 4468.64306640625\n",
            "step = 5000: loss = 3540.42236328125\n",
            "step = 5000: Average Return = 6.310206413269043\n",
            "step = 5200: loss = 3945.1953125\n",
            "step = 5400: loss = 3682.572998046875\n",
            "step = 5600: loss = 2957.159912109375\n",
            "step = 5800: loss = 3450.229248046875\n",
            "step = 6000: loss = 3282.22509765625\n",
            "step = 6000: Average Return = 3.704317092895508\n",
            "step = 6200: loss = 4112.20166015625\n",
            "step = 6400: loss = 3733.779296875\n",
            "step = 6600: loss = 3758.38525390625\n",
            "step = 6800: loss = 3866.689453125\n",
            "step = 7000: loss = 4750.37255859375\n",
            "step = 7000: Average Return = 4.393885135650635\n",
            "step = 7200: loss = 4063.758544921875\n",
            "step = 7400: loss = 4408.9833984375\n",
            "step = 7600: loss = 3571.4580078125\n",
            "step = 7800: loss = 4285.1865234375\n",
            "step = 8000: loss = 4719.5146484375\n",
            "step = 8000: Average Return = 9.878602981567383\n",
            "step = 8200: loss = 3374.521728515625\n",
            "step = 8400: loss = 3679.5966796875\n",
            "step = 8600: loss = 3294.890380859375\n",
            "step = 8800: loss = 4248.90234375\n",
            "step = 9000: loss = 4398.8662109375\n",
            "step = 9000: Average Return = 10.974069595336914\n",
            "step = 9200: loss = 4877.45654296875\n",
            "step = 9400: loss = 4924.79296875\n",
            "step = 9600: loss = 6406.14404296875\n",
            "step = 9800: loss = 6251.0146484375\n",
            "step = 10000: loss = 5566.1396484375\n",
            "step = 10000: Average Return = 7.104763984680176\n",
            "step = 10200: loss = 5940.2431640625\n",
            "step = 10400: loss = 6727.74951171875\n",
            "step = 10600: loss = 5354.83056640625\n",
            "step = 10800: loss = 6944.0458984375\n",
            "step = 11000: loss = 6237.296875\n",
            "step = 11000: Average Return = 9.988594055175781\n",
            "step = 11200: loss = 7092.5\n",
            "step = 11400: loss = 6782.16259765625\n",
            "step = 11600: loss = 7195.4892578125\n",
            "step = 11800: loss = 6972.521484375\n",
            "step = 12000: loss = 7839.734375\n",
            "step = 12000: Average Return = 6.589081764221191\n",
            "step = 12200: loss = 7124.73095703125\n",
            "step = 12400: loss = 9350.556640625\n",
            "step = 12600: loss = 8233.65625\n",
            "step = 12800: loss = 8683.29296875\n",
            "step = 13000: loss = 8907.5009765625\n",
            "step = 13000: Average Return = 5.671632289886475\n",
            "step = 13200: loss = 9058.08203125\n",
            "step = 13400: loss = 9229.42578125\n",
            "step = 13600: loss = 9006.544921875\n",
            "step = 13800: loss = 8510.9853515625\n",
            "step = 14000: loss = 9647.751953125\n",
            "step = 14000: Average Return = 5.804669380187988\n",
            "step = 14200: loss = 12039.1845703125\n",
            "step = 14400: loss = 10787.4482421875\n",
            "step = 14600: loss = 9600.1943359375\n",
            "step = 14800: loss = 12051.8154296875\n",
            "step = 15000: loss = 12085.916015625\n",
            "step = 15000: Average Return = 1.3238499164581299\n",
            "step = 15200: loss = 11897.4033203125\n",
            "step = 15400: loss = 12195.90234375\n",
            "step = 15600: loss = 13908.0703125\n",
            "step = 15800: loss = 13883.7294921875\n",
            "step = 16000: loss = 16726.701171875\n",
            "step = 16000: Average Return = 4.567616939544678\n",
            "step = 16200: loss = 18005.771484375\n",
            "step = 16400: loss = 16287.5205078125\n",
            "step = 16600: loss = 14791.625\n",
            "step = 16800: loss = 17904.505859375\n",
            "step = 17000: loss = 15225.501953125\n",
            "step = 17000: Average Return = 13.814481735229492\n",
            "step = 17200: loss = 19509.3359375\n",
            "step = 17400: loss = 14184.224609375\n",
            "step = 17600: loss = 20179.828125\n",
            "step = 17800: loss = 20171.0546875\n",
            "step = 18000: loss = 20839.328125\n",
            "step = 18000: Average Return = 5.019478797912598\n",
            "step = 18200: loss = 18506.23828125\n",
            "step = 18400: loss = 26637.939453125\n",
            "step = 18600: loss = 20928.078125\n",
            "step = 18800: loss = 20780.12109375\n",
            "step = 19000: loss = 18977.041015625\n",
            "step = 19000: Average Return = 3.841068983078003\n",
            "step = 19200: loss = 18923.05078125\n",
            "step = 19400: loss = 23536.375\n",
            "step = 19600: loss = 18502.41796875\n",
            "step = 19800: loss = 16992.486328125\n",
            "step = 20000: loss = 20572.65625\n",
            "step = 20000: Average Return = 4.349373817443848\n"
          ],
          "name": "stdout"
        }
      ]
    },
    {
      "cell_type": "code",
      "metadata": {
        "id": "l5sgVeOCz1FH",
        "colab_type": "code",
        "colab": {
          "base_uri": "https://localhost:8080/",
          "height": 300
        },
        "outputId": "ef8a60c6-4315-4791-92fb-dc373be37538"
      },
      "source": [
        "# plot training iterations\n",
        "iterations = range(0, num_iterations + 1, eval_interval)\n",
        "plt.plot(iterations, returns)\n",
        "plt.ylabel('Average Return')\n",
        "plt.xlabel('Iterations')\n",
        "plt.ylim(top=20)"
      ],
      "execution_count": 23,
      "outputs": [
        {
          "output_type": "execute_result",
          "data": {
            "text/plain": [
              "(0.6993183255195617, 20.0)"
            ]
          },
          "metadata": {
            "tags": []
          },
          "execution_count": 23
        },
        {
          "output_type": "display_data",
          "data": {
            "image/png": "[encoded data removed]",
            "text/plain": [
              "<Figure size 432x288 with 1 Axes>"
            ]
          },
          "metadata": {
            "tags": [],
            "needs_background": "light"
          }
        }
      ]
    },
    {
      "cell_type": "markdown",
      "metadata": {
        "id": "x0-XQ5DMGFkX",
        "colab_type": "text"
      },
      "source": [
        "#### Section 3.6 Price American Option"
      ]
    },
    {
      "cell_type": "code",
      "metadata": {
        "id": "WhK5tPofGcCO",
        "colab_type": "code",
        "colab": {
          "base_uri": "https://localhost:8080/",
          "height": 85
        },
        "outputId": "f43c54b0-05f4-4eff-90bb-24ca79dbf33b"
      },
      "source": [
        "# save policy\n",
        "import os\n",
        "import tempfile\n",
        "from tf_agents.policies import policy_saver\n",
        "\n",
        "tempdir = os.getenv(\"TEST_TMPDIR\", tempfile.gettempdir())\n",
        "policy_dir = os.path.join(tempdir, 'policy')\n",
        "tf_policy_saver = policy_saver.PolicySaver(agent.policy)\n",
        "tf_policy_saver.save(policy_dir)\n",
        "\n",
        "saved_policy = tf.compat.v2.saved_model.load(policy_dir)"
      ],
      "execution_count": 24,
      "outputs": [
        {
          "output_type": "stream",
          "text": [
            "WARNING:tensorflow:From /usr/local/lib/python3.6/dist-packages/tensorflow/python/training/tracking/tracking.py:111: Layer.updates (from tensorflow.python.keras.engine.base_layer) is deprecated and will be removed in a future version.\n",
            "Instructions for updating:\n",
            "This property should not be used in TensorFlow 2.0, as updates are applied automatically.\n",
            "INFO:tensorflow:Assets written to: /tmp/policy/assets\n"
          ],
          "name": "stdout"
        }
      ]
    },
    {
      "cell_type": "code",
      "metadata": {
        "id": "NuKzu-YR3MAy",
        "colab_type": "code",
        "colab": {
          "base_uri": "https://localhost:8080/",
          "height": 34
        },
        "outputId": "039b1384-fabd-4c9b-f751-4f9d53aaabba"
      },
      "source": [
        "# Monte Carlo simulation -- takes a while\n",
        "# npv = compute_avg_return(eval_env, saved_policy, num_episodes=2_000)\n",
        "npv = compute_avg_return(eval_env, agent.policy, num_episodes=2_000)\n",
        "pricing_dict['ReinforcementAgent'] = npv\n",
        "print(npv)"
      ],
      "execution_count": 25,
      "outputs": [
        {
          "output_type": "stream",
          "text": [
            "7.057035\n"
          ],
          "name": "stdout"
        }
      ]
    },
    {
      "cell_type": "code",
      "metadata": {
        "id": "aXz88SHGBhy5",
        "colab_type": "code",
        "colab": {
          "base_uri": "https://localhost:8080/",
          "height": 173
        },
        "outputId": "a926d632-aeaa-4c59-ffe3-7aa86b22c42a"
      },
      "source": [
        "import pandas as pd\n",
        "pricing_df = pd.DataFrame.from_dict(pricing_dict, orient='index')\n",
        "pricing_df.columns = ['Price']\n",
        "pricing_df"
      ],
      "execution_count": 31,
      "outputs": [
        {
          "output_type": "execute_result",
          "data": {
            "text/html": [
              "<div>\n",
              "<style scoped>\n",
              "    .dataframe tbody tr th:only-of-type {\n",
              "        vertical-align: middle;\n",
              "    }\n",
              "\n",
              "    .dataframe tbody tr th {\n",
              "        vertical-align: top;\n",
              "    }\n",
              "\n",
              "    .dataframe thead th {\n",
              "        text-align: right;\n",
              "    }\n",
              "</style>\n",
              "<table border=\"1\" class=\"dataframe\">\n",
              "  <thead>\n",
              "    <tr style=\"text-align: right;\">\n",
              "      <th></th>\n",
              "      <th>Price</th>\n",
              "    </tr>\n",
              "  </thead>\n",
              "  <tbody>\n",
              "    <tr>\n",
              "      <th>BlackScholesEuropean</th>\n",
              "      <td>6.927869</td>\n",
              "    </tr>\n",
              "    <tr>\n",
              "      <th>BawApproximation</th>\n",
              "      <td>7.091255</td>\n",
              "    </tr>\n",
              "    <tr>\n",
              "      <th>BinomialTree</th>\n",
              "      <td>7.090925</td>\n",
              "    </tr>\n",
              "    <tr>\n",
              "      <th>ReinforcementAgent</th>\n",
              "      <td>7.057035</td>\n",
              "    </tr>\n",
              "  </tbody>\n",
              "</table>\n",
              "</div>"
            ],
            "text/plain": [
              "                         Price\n",
              "BlackScholesEuropean  6.927869\n",
              "BawApproximation      7.091255\n",
              "BinomialTree          7.090925\n",
              "ReinforcementAgent    7.057035"
            ]
          },
          "metadata": {
            "tags": []
          },
          "execution_count": 31
        }
      ]
    },
    {
      "cell_type": "markdown",
      "metadata": {
        "id": "8aWKrv4CV4z0",
        "colab_type": "text"
      },
      "source": [
        "#### TODO\n",
        "\n",
        "Some [variance reduction](https://en.wikipedia.org/wiki/Variance_reduction) techniques can be applied to improve simulation efficiency.\n",
        "\n",
        "1. Use another AmeriOption gym environment to provide [Antithetic variates](https://en.wikipedia.org/wiki/Antithetic_variates)\n",
        "\n",
        "2. In function compute_avg_return, continue the simulation path to price European option as [Control Variates](https://en.wikipedia.org/wiki/Control_variates)"
      ]
    },
    {
      "cell_type": "code",
      "metadata": {
        "id": "ETrCNGP-VaEP",
        "colab_type": "code",
        "colab": {}
      },
      "source": [
        ""
      ],
      "execution_count": null,
      "outputs": []
    }
  ]
}