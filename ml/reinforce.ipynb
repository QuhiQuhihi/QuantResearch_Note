{
  "nbformat": 4,
  "nbformat_minor": 0,
  "metadata": {
    "colab": {
      "name": "reinforce.ipynb",
      "provenance": [],
      "collapsed_sections": [],
      "authorship_tag": "ABX9TyPsMNqYXtbNkyFhna612LEV",
      "include_colab_link": true
    },
    "kernelspec": {
      "name": "python3",
      "display_name": "Python 3"
    }
  },
  "cells": [
    {
      "cell_type": "markdown",
      "metadata": {
        "id": "view-in-github",
        "colab_type": "text"
      },
      "source": [
        "<a href=\"https://colab.research.google.com/github/letianzj/QuantResearch/blob/master/ml/reinforce.ipynb\" target=\"_parent\"><img src=\"https://colab.research.google.com/assets/colab-badge.svg\" alt=\"Open In Colab\"/></a>"
      ]
    },
    {
      "cell_type": "markdown",
      "metadata": {
        "id": "JlNkxcEuDTVn",
        "colab_type": "text"
      },
      "source": [
        "## Monte Carlo Policy Gradient CartPole\n",
        "\n",
        "Use MC-PG, a.k.a REINFORCE, to solve CartPole game.\n",
        "\n",
        "[OpenAI Gym CartPole](https://gym.openai.com/envs/CartPole-v0/) has four states, cart position, cart speed, pole angle, and pole speed. The actions are either going left or right. The objective is to keep pole from falling. Every move that doesn't lead to a fall gets reward 1.\n",
        "\n",
        "Monte-Carlo policy gradient is on-policy model-free sampling method. The expected total rewards,\n",
        "\n",
        "$$\n",
        "J(\\theta)=E_{\\tau \\sim \\pi_{\\theta}(\\tau)}[R(\\tau)]=\\int R(\\tau) p_{\\theta}(\\tau)d\\tau\n",
        "$$\n",
        "\n",
        "and its derivative on policy parameter $\\theta$ is,\n",
        "\n",
        "$$\n",
        "\\begin{aligned}\n",
        "\\frac{\\partial J}{\\partial \\theta}&=\\int \\left( \\frac{\\partial}{\\partial \\theta} p_{\\theta}(\\tau) \\right) R(\\tau)d\\tau \\\\\n",
        "&=\\int p_{\\theta}(\\tau) \\left(\\frac{\\partial}{\\partial\\theta}log p_{\\theta}(\\tau)\\right) R(\\tau)d\\tau \\\\\n",
        "&=E_{\\tau \\sim \\pi_{\\theta}(\\tau)} \\left[\\frac{\\partial}{\\partial\\theta}log p_{\\theta}(\\tau) R(\\tau) \\right] \\\\\n",
        "&=E_{\\tau \\sim \\pi_{\\theta}(\\tau)} \\left[\\sum_{t=1}^{T} \\frac{\\partial}{\\partial\\theta}log \\left( \\pi_{\\theta}(a_t|s_t) \\right)R(\\tau) \\right] \\\\\n",
        "&\\approx \\frac{1}{N} \\sum_{n=1}^N \\left( \\left( \\sum_{t=1}^{T} \\frac{\\partial}{\\partial \\theta} log \\pi_{\\theta} \\left( a_t^{(n)} | s_t^{(n)}\\right) \\right) R\\left(\\tau^{(n)}\\right) \\right)\n",
        "\\end{aligned}\n",
        "$$\n",
        "\n",
        "Policy gradient updates parameters iteratively along every sample trajectory. We can calculate the gradient directly, or construct a cross-entropy loss function whose gradient is equal to the policy gradient as well explained [here](https://adventuresinmachinelearning.com/policy-gradient-tensorflow-2/). \n",
        "\n",
        "$$\n",
        "Loss= CE = \\left( \\sum_{t=1}^{T} logp_{\\theta} \\left( a_t^{(n)} | s_t^{(n)}\\right) \\right) R\\left(\\tau^{(n)}\\right)\n",
        "$$\n",
        "\n",
        "Below it uses the former and code structure follows closely [here](https://github.com/dragen1860/Deep-Learning-with-TensorFlow-book/blob/master/ch14-%E5%BC%BA%E5%8C%96%E5%AD%A6%E4%B9%A0/REINFORCE_tf.py).\n",
        "\n",
        "REINFORCE is usually adjusted by a basline to reduce variance.\n",
        "\n",
        "\n",
        "__Reference__\n",
        "* Sutton, Richard S., and Andrew G. Barto. Reinforcement learning: An introduction. MIT press, 2018.\n",
        "* [RL by David Silver](https://www.davidsilver.uk/teaching/)\n",
        "* [OpenAI Spinning Up](https://spinningup.openai.com/en/latest/)\n",
        "* [Lil'Log](https://lilianweng.github.io/lil-log/)\n",
        "* [Deep Learning with TensorFlow](https://github.com/dragen1860/Deep-Learning-with-TensorFlow-book)"
      ]
    },
    {
      "cell_type": "code",
      "metadata": {
        "id": "0lOf7OSWHOvv",
        "colab_type": "code",
        "colab": {
          "base_uri": "https://localhost:8080/",
          "height": 238
        },
        "outputId": "4ef1ee3f-33e1-48df-ea19-3eb203d72657"
      },
      "source": [
        "import gym\n",
        "import numpy as np\n",
        "from \tmatplotlib import pyplot as plt\n",
        "import tensorflow as tf\n",
        "from tensorflow import keras\n",
        "from tensorflow.keras import layers, optimizers\n",
        "\n",
        "env = gym.make('CartPole-v1')\n",
        "print(f'CartPole state {env.observation_space.shape[0]},  action {env.action_space.n}') # state size = 4, action = 0 or 1\n",
        "env.seed(5555)\n",
        "tf.random.set_seed(5555)\n",
        "np.random.seed(5555)\n",
        "\n",
        "epoch = 300\n",
        "learning_rate = 0.0002\n",
        "gamma = 0.98\n",
        "reward_to_go = True\n",
        "\n",
        "class Policy(keras.Model):\n",
        "    def __init__(self):\n",
        "        super(Policy, self).__init__()\n",
        "        self.fc1 = layers.Dense(128, kernel_initializer='he_normal', activation='tanh')\n",
        "        self.fc2 = layers.Dense(2, kernel_initializer='he_normal', activation=None)\n",
        "        self.optimizer = optimizers.Adam(lr=learning_rate)\n",
        "\n",
        "    def call(self, inputs, training=None):\n",
        "        x = self.fc1(inputs)          # [b, 4]  ==> [b 32]\n",
        "        x = self.fc2(x)               # [b, 32] ==> [b, 2]\n",
        "        # x = tf.nn.softmax(x, axis=1)       # return prob instead of logits\n",
        "        return x\n",
        "\n",
        "model = Policy()\n",
        "model(tf.random.normal((10,4)))           # batch=10, output=(10,2)\n",
        "model.summary()"
      ],
      "execution_count": 18,
      "outputs": [
        {
          "output_type": "stream",
          "text": [
            "CartPole state 4,  action 2\n",
            "Model: \"policy_7\"\n",
            "_________________________________________________________________\n",
            "Layer (type)                 Output Shape              Param #   \n",
            "=================================================================\n",
            "dense_14 (Dense)             multiple                  640       \n",
            "_________________________________________________________________\n",
            "dense_15 (Dense)             multiple                  258       \n",
            "=================================================================\n",
            "Total params: 898\n",
            "Trainable params: 898\n",
            "Non-trainable params: 0\n",
            "_________________________________________________________________\n"
          ],
          "name": "stdout"
        }
      ]
    },
    {
      "cell_type": "code",
      "metadata": {
        "id": "lAmz6UWC_mex",
        "colab_type": "code",
        "colab": {}
      },
      "source": [
        "scores = []\n",
        "\n",
        "for n_epi in range(epoch):             # epoch\n",
        "    with tf.GradientTape(persistent=True) as tape:\n",
        "        s = env.reset()          # return s0\n",
        "        done = False\n",
        "        log_probs = []\n",
        "        rs = []\n",
        "\n",
        "        # sample one game, one trajectory\n",
        "        while not done:\n",
        "            s = tf.constant(s,dtype=tf.float32)\n",
        "            s = tf.expand_dims(s, axis=0)                   # [4] => [1,4]\n",
        "            logits = model(s)                                    # shape = [1, 2]\n",
        "            a = tf.random.categorical(logits, 1)[0]           # categorical accepts logits, not prob\n",
        "            a = int(a)                                      # Tensor to int\n",
        "            s_prime, r, done, info = env.step(a)\n",
        "            rs.append(r)                                 # rewards\n",
        "            prob = tf.nn.softmax(logits)                 # take softmax\n",
        "            log_probs.append(tf.math.log(prob[0][a]))    # log(prob)\n",
        "            s = s_prime\n",
        "        \n",
        "        scores.append(np.sum(rs))\n",
        "        # print(f\"# of episode :{n_epi}, avg score : {scores[-1]}\")\n",
        "\n",
        "        # after game over, for each time step, update parameters\n",
        "        rs = tf.convert_to_tensor(rs, dtype=tf.float32)\n",
        "        log_probs = tf.convert_to_tensor(log_probs, dtype=tf.float32)\n",
        "\n",
        "        R = 0                                     # reward to go\n",
        "        LP = 0                                    # log\\pi to go\n",
        "        for t in range(len(rs)-1, -1, -1):\n",
        "            R = rs[t] + gamma * R\n",
        "            LP = LP + log_probs[t]\n",
        "            loss = - LP * R                 # negative sign means gradient ascent\n",
        "            with tape.stop_recording():\n",
        "                grads = tape.gradient(loss, model.trainable_variables)\n",
        "                model.optimizer.apply_gradients(zip(grads, model.trainable_variables))  \n",
        "        # rts = [np.sum(rs[i:]) for i in range(len(rs))]\n",
        "        # rts = tf.convert_to_tensor(rts, dtype=tf.float32)\n",
        "        # log_probs = tf.convert_to_tensor(log_probs, dtype=tf.float32)\n",
        "        # if reward_to_go:\n",
        "        #     loss = - tf.math.reduce_sum(log_probs * rts)         # use r(tau)_t:T; negative sign means gradient ascent\n",
        "        # else:\n",
        "        #     loss = - tf.math.reduce_sum(log_probs * rts[0])      # use r(tau); negative sign means gradient ascent\n",
        "        # grads = tape.gradient(loss, model.trainable_variables)\n",
        "        # model.optimizer.apply_gradients(zip(grads, model.trainable_variables))\n",
        "\n",
        "    del tape\n",
        "    \n",
        "env.close()"
      ],
      "execution_count": 19,
      "outputs": []
    },
    {
      "cell_type": "code",
      "metadata": {
        "id": "NSz4Nd4iERFR",
        "colab_type": "code",
        "colab": {
          "base_uri": "https://localhost:8080/",
          "height": 279
        },
        "outputId": "63474ba8-6c52-4fb7-c87f-6af41da8f3bb"
      },
      "source": [
        "plt.plot(np.arange(epoch), scores)\n",
        "plt.plot(np.arange(epoch), scores, 's')\n",
        "plt.xlabel('epoch')\n",
        "plt.ylabel('score')\n",
        "plt.show()"
      ],
      "execution_count": 23,
      "outputs": [
        {
          "output_type": "display_data",
          "data": {
            "image/png": "[encoded data removed]",
            "text/plain": [
              "<Figure size 432x288 with 1 Axes>"
            ]
          },
          "metadata": {
            "tags": [],
            "needs_background": "light"
          }
        }
      ]
    },
    {
      "cell_type": "code",
      "metadata": {
        "id": "A8YZpNIpmmtb",
        "colab_type": "code",
        "colab": {}
      },
      "source": [
        ""
      ],
      "execution_count": null,
      "outputs": []
    }
  ]
}