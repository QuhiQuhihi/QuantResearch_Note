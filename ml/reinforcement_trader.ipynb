{
  "cells": [
    {
      "cell_type": "markdown",
      "metadata": {
        "id": "view-in-github",
        "colab_type": "text"
      },
      "source": [
        "<a href=\"https://colab.research.google.com/github/letianzj/QuantResearch/blob/master/ml/reinforcement_trader.ipynb\" target=\"_parent\"><img src=\"https://colab.research.google.com/assets/colab-badge.svg\" alt=\"Open In Colab\"/></a>"
      ]
    },
    {
      "cell_type": "markdown",
      "metadata": {
        "id": "escS5QYOGuOO"
      },
      "source": [
        "(Use Open in Colab button above to see trading vidoes)\n",
        "\n",
        "## Introduction\n",
        "\n",
        "From reinforcement gamer to reinforcement trader. Part II.\n",
        "\n",
        "For reinforcement gamer, Part I, check out [the previous notebook](https://github.com/letianzj/QuantResearch/blob/master/ml/atari_space_invaders.ipynb). This noteboook shares a lot of resemblance to the previous one.\n",
        "\n",
        "As illustrated in the figure below, investing bears a clear resemblance to game playing. In fact, some good poke players, such as Edward Thorp, also stand out in the stock markets.\n",
        "\n",
        "\n",
        "![From Game Player to Stock Trader](https://files.gitbook.com/v0/b/gitbook-x-prod.appspot.com/o/spaces%2F-MSGPuOMqasmUECLHyXj%2Fuploads%2Fgit-blob-87626e4bd747bdb40439277c09abce3e5aeb822d%2Fch5_rl_stock_trading.PNG?alt=media)\n",
        "\n",
        "source: [Chapter Machine Learning](https://letianzj.gitbook.io/systematic-investing/products_and_methodologies/machine_learning)"
      ]
    },
    {
      "cell_type": "markdown",
      "metadata": {
        "id": "Q39719xvSNFh"
      },
      "source": [
        "Reinforcement learning has been applied to stock trading and portfolio management. Xiong, Zhuoran, et al (2018) explore the stock market and Zhang, et al (2020) trade the futures market. Nan, et al (2020) add news headline sentiments into the training. Spooner, Thomas, et al (2018) study the market makers who face inventory risk. Fischer, T. G. (2018) provides a survey of current reinforcement learning status in financial markets.\n",
        "\n",
        "This notebook focuses on the trading part. It trains a reinforcement trader to buy and sell stocks. The objective is to achieve higher end dollar profits. Of course, other risk adjusted objectives such as Sharpe ratio are also viable.\n",
        "\n",
        "The next notebook will focus on the portfolio management part, by training a reinforcement portfolio management to perform strategic allocation among stocks or asset classes."
      ]
    },
    {
      "cell_type": "markdown",
      "metadata": {
        "id": "DaRVWdDAxe4j"
      },
      "source": [
        "## Setup"
      ]
    },
    {
      "cell_type": "markdown",
      "metadata": {
        "id": "FuQbinnVg0ts"
      },
      "source": [
        "Uncomment to execute once"
      ]
    },
    {
      "cell_type": "code",
      "execution_count": 4,
      "metadata": {
        "id": "_ZBIKqpQGwDo"
      },
      "outputs": [],
      "source": [
        "# !sudo apt-get update\n",
        "# !pip install yfinance\n",
        "# !pip install ta\n",
        "# !pip install -U gym==0.21.0\n",
        "# !pip install -U quanttrader==0.5.5\n",
        "# !pip install -U pyfolio==0.9.2\n",
        "\n",
        "# !sudo apt-get install -y xvfb ffmpeg freeglut3-dev\n",
        "# !pip install 'imageio==2.4.0'\n",
        "# !pip install pyvirtualdisplay\n",
        "# !pip install tf-agents[reverb]\n",
        "# !pip install pyglet\n",
        "# !pip install -U PyYaml==3.13"
      ]
    },
    {
      "cell_type": "markdown",
      "metadata": {
        "id": "VfL0ASnxg4Ir"
      },
      "source": [
        "Restart the runtime to take PyYaml==3.13 into effect. Otherwise pyfolio will complain on yaml.load error. \n",
        "\n",
        "Code below might needs to run twice."
      ]
    },
    {
      "cell_type": "code",
      "execution_count": 6,
      "metadata": {
        "id": "ER_W-4TKMo4k"
      },
      "outputs": [],
      "source": [
        "import os\n",
        "import io\n",
        "import tempfile\n",
        "import shutil\n",
        "import zipfile\n",
        "from google.colab import files\n",
        "\n",
        "from datetime import datetime\n",
        "import matplotlib.pyplot as plt\n",
        "import numpy as np\n",
        "import pandas as pd\n",
        "import yfinance as yf\n",
        "import gym\n",
        "import quanttrader as qt\n",
        "from quanttrader import TradingEnv\n",
        "import pyfolio as pf\n",
        "\n",
        "import tensorflow as tf\n",
        "from tf_agents.agents.dqn import dqn_agent\n",
        "from tf_agents.drivers import py_driver\n",
        "from tf_agents.drivers.dynamic_step_driver import DynamicStepDriver\n",
        "from tf_agents.environments import tf_py_environment\n",
        "from tf_agents.environments import suite_gym\n",
        "from tf_agents.eval import metric_utils\n",
        "from tf_agents.metrics import tf_metrics\n",
        "from tf_agents.networks import sequential, q_network, network\n",
        "from tf_agents.policies import py_tf_eager_policy\n",
        "from tf_agents.policies import random_tf_policy\n",
        "from tf_agents.policies import policy_saver\n",
        "from tf_agents.replay_buffers import TFUniformReplayBuffer\n",
        "from tf_agents.trajectories import trajectory\n",
        "from tf_agents.specs import tensor_spec\n",
        "from tf_agents.utils import common\n",
        "\n",
        "import base64\n",
        "import imageio\n",
        "import IPython\n",
        "import matplotlib\n",
        "import matplotlib.pyplot as plt\n",
        "import numpy as np\n",
        "import PIL.Image\n",
        "import pyvirtualdisplay\n",
        "import reverb"
      ]
    },
    {
      "cell_type": "code",
      "execution_count": 7,
      "metadata": {
        "colab": {
          "base_uri": "https://localhost:8080/"
        },
        "id": "sT2DoLgqTK-U",
        "outputId": "8a98c6d2-b87d-4203-de33-4fb8cdda7a8e"
      },
      "outputs": [
        {
          "output_type": "execute_result",
          "data": {
            "text/plain": [
              "('0.21.0', '0.5.5', '0.9.2')"
            ]
          },
          "metadata": {},
          "execution_count": 7
        }
      ],
      "source": [
        "gym.__version__, qt.__version__, pf.__version__"
      ]
    },
    {
      "cell_type": "code",
      "execution_count": 8,
      "metadata": {
        "id": "5fSV1DwxRVeK"
      },
      "outputs": [],
      "source": [
        "def load_data():\n",
        "    from datetime import timedelta\n",
        "    import ta\n",
        "\n",
        "    start_date = datetime(2010, 1, 1)\n",
        "    end_date = datetime(2020, 12, 31)\n",
        "    syms = ['SPY']\n",
        "    max_price_scaler = 5_000.0\n",
        "    max_price_scaler = 1\n",
        "    max_volume_scaler = 1.5e8\n",
        "    df_obs = pd.DataFrame()             # observation\n",
        "    df_exch = pd.DataFrame()            # exchange; for order match\n",
        "\n",
        "    for sym in syms:\n",
        "        df = yf.download(sym, start=start_date, end=end_date)\n",
        "        df.index = pd.to_datetime(df.index) + timedelta(hours=15, minutes=59, seconds=59)\n",
        "\n",
        "        df_exch = pd.concat([df_exch, df['Close'].rename(sym)], axis=1)\n",
        "\n",
        "        df['Open'] = df['Adj Close'] / df['Close'] * df['Open'] / max_price_scaler\n",
        "        df['High'] = df['Adj Close'] / df['Close'] * df['High'] / max_price_scaler\n",
        "        df['Low'] = df['Adj Close'] / df['Close'] * df['Low'] / max_price_scaler\n",
        "        df['Volume'] = df['Adj Close'] / df['Close'] * df['Volume'] / max_volume_scaler\n",
        "        df['Close'] = df['Adj Close'] / max_price_scaler\n",
        "        df = df[['Open', 'High', 'Low', 'Close', 'Volume']]\n",
        "        df.columns = [f'{sym}:{c.lower()}' for c in df.columns]\n",
        "\n",
        "        macd = ta.trend.MACD(close=df[f'{sym}:close'])\n",
        "        df[f'{sym}:macd'] = macd.macd()\n",
        "        df[f'{sym}:macd_diff'] = macd.macd_diff()\n",
        "        df[f'{sym}:macd_signal'] = macd.macd_signal()\n",
        "\n",
        "        rsi = ta.momentum.RSIIndicator(close=df[f'{sym}:close'])\n",
        "        df[f'{sym}:rsi'] = rsi.rsi()\n",
        "\n",
        "        bb = ta.volatility.BollingerBands(close=df[f'{sym}:close'], window=20, window_dev=2)\n",
        "        df[f'{sym}:bb_bbm'] = bb.bollinger_mavg()\n",
        "        df[f'{sym}:bb_bbh'] = bb.bollinger_hband()\n",
        "        df[f'{sym}:bb_bbl'] = bb.bollinger_lband()\n",
        "\n",
        "        atr = ta.volatility.AverageTrueRange(high=df[f'{sym}:high'], low=df[f'{sym}:low'], close=df[f'{sym}:close'])\n",
        "        df[f'{sym}:atr'] = atr.average_true_range()\n",
        "\n",
        "        df_obs = pd.concat([df_obs, df], axis=1)\n",
        "\n",
        "    return df_obs, df_exch"
      ]
    },
    {
      "cell_type": "code",
      "execution_count": 9,
      "metadata": {
        "colab": {
          "base_uri": "https://localhost:8080/"
        },
        "id": "q2t0L_4sM_O7",
        "outputId": "6fc8769f-758c-4217-82c6-c7200b858bdb"
      },
      "outputs": [
        {
          "output_type": "stream",
          "name": "stdout",
          "text": [
            "\r[*********************100%***********************]  1 of 1 completed\n"
          ]
        }
      ],
      "source": [
        "df_obs, df_exch = load_data()"
      ]
    },
    {
      "cell_type": "markdown",
      "metadata": {
        "id": "opp8zTMeBOLE"
      },
      "source": [
        "## Trading Environment"
      ]
    },
    {
      "cell_type": "code",
      "execution_count": 10,
      "metadata": {
        "id": "WCv1oFGgNArj"
      },
      "outputs": [],
      "source": [
        "look_back = 10\n",
        "cash = 100_000.0\n",
        "max_nav_scaler = cash\n",
        "\n",
        "train_qt_env = TradingEnv(2, df_obs, df_exch)\n",
        "train_qt_env.set_cash(cash)\n",
        "train_qt_env.set_commission(0.0001)\n",
        "train_qt_env.set_steps(n_lookback=10, n_warmup=50, n_maxsteps=250)\n",
        "train_qt_env.set_feature_scaling(max_nav_scaler)\n",
        "\n",
        "eval_qt_env = TradingEnv(2, df_obs, df_exch)\n",
        "eval_qt_env.set_cash(cash)\n",
        "eval_qt_env.set_commission(0.0001)\n",
        "eval_qt_env.set_steps(n_lookback=10, n_warmup=50, n_maxsteps=2000, n_init_step=504)         # index 504 is 2012-01-03\n",
        "eval_qt_env.set_feature_scaling(max_nav_scaler)"
      ]
    },
    {
      "cell_type": "markdown",
      "metadata": {
        "id": "gnVSDgbAq5Pv"
      },
      "source": [
        "Take one step to see how the environment works."
      ]
    },
    {
      "cell_type": "code",
      "execution_count": 11,
      "metadata": {
        "id": "HuQnPoBISRQ0"
      },
      "outputs": [],
      "source": [
        "o1 = eval_qt_env.reset()\n",
        "total_reward = 0.0\n",
        "while True:\n",
        "    #action = eval_qt_env.action_space.sample()\n",
        "    action = 1\n",
        "    o2, reward, done, info = eval_qt_env.step(action)\n",
        "    total_reward += reward\n",
        "    #print(action, reward * max_nav_scaler, info)\n",
        "    #if done:\n",
        "    #  break\n",
        "    break"
      ]
    },
    {
      "cell_type": "markdown",
      "metadata": {
        "id": "mqkDZZdmrJ56"
      },
      "source": [
        "The observation has 10 features, and lookback is 14 days."
      ]
    },
    {
      "cell_type": "code",
      "execution_count": 12,
      "metadata": {
        "colab": {
          "base_uri": "https://localhost:8080/"
        },
        "id": "03M_kp7_rju3",
        "outputId": "acec4041-78ce-4ea5-8c3b-fa119a239d33"
      },
      "outputs": [
        {
          "output_type": "execute_result",
          "data": {
            "text/plain": [
              "((10, 14), (10, 14))"
            ]
          },
          "metadata": {},
          "execution_count": 12
        }
      ],
      "source": [
        "o1.shape, o2.shape"
      ]
    },
    {
      "cell_type": "code",
      "execution_count": 13,
      "metadata": {
        "colab": {
          "base_uri": "https://localhost:8080/",
          "height": 175
        },
        "id": "vcfVof1HrM-B",
        "outputId": "a957f103-3737-452f-cb6e-933597c63555"
      },
      "outputs": [
        {
          "output_type": "execute_result",
          "data": {
            "text/html": [
              "\n",
              "  <div id=\"df-77f08052-5ef5-406a-acf5-bda578a3c1c6\">\n",
              "    <div class=\"colab-df-container\">\n",
              "      <div>\n",
              "<style scoped>\n",
              "    .dataframe tbody tr th:only-of-type {\n",
              "        vertical-align: middle;\n",
              "    }\n",
              "\n",
              "    .dataframe tbody tr th {\n",
              "        vertical-align: top;\n",
              "    }\n",
              "\n",
              "    .dataframe thead th {\n",
              "        text-align: right;\n",
              "    }\n",
              "</style>\n",
              "<table border=\"1\" class=\"dataframe\">\n",
              "  <thead>\n",
              "    <tr style=\"text-align: right;\">\n",
              "      <th></th>\n",
              "      <th>SPY:open</th>\n",
              "      <th>SPY:high</th>\n",
              "      <th>SPY:low</th>\n",
              "      <th>SPY:close</th>\n",
              "      <th>SPY:volume</th>\n",
              "      <th>SPY:macd</th>\n",
              "      <th>SPY:macd_diff</th>\n",
              "      <th>SPY:macd_signal</th>\n",
              "      <th>SPY:rsi</th>\n",
              "      <th>SPY:bb_bbm</th>\n",
              "      <th>SPY:bb_bbh</th>\n",
              "      <th>SPY:bb_bbl</th>\n",
              "      <th>SPY:atr</th>\n",
              "    </tr>\n",
              "    <tr>\n",
              "      <th>Date</th>\n",
              "      <th></th>\n",
              "      <th></th>\n",
              "      <th></th>\n",
              "      <th></th>\n",
              "      <th></th>\n",
              "      <th></th>\n",
              "      <th></th>\n",
              "      <th></th>\n",
              "      <th></th>\n",
              "      <th></th>\n",
              "      <th></th>\n",
              "      <th></th>\n",
              "      <th></th>\n",
              "    </tr>\n",
              "  </thead>\n",
              "  <tbody>\n",
              "    <tr>\n",
              "      <th>2012-01-03 15:59:59</th>\n",
              "      <td>105.490874</td>\n",
              "      <td>106.002808</td>\n",
              "      <td>105.218393</td>\n",
              "      <td>105.276192</td>\n",
              "      <td>1.066237</td>\n",
              "      <td>0.885566</td>\n",
              "      <td>0.284874</td>\n",
              "      <td>0.600692</td>\n",
              "      <td>60.324485</td>\n",
              "      <td>102.609569</td>\n",
              "      <td>105.926766</td>\n",
              "      <td>99.292372</td>\n",
              "      <td>1.674596</td>\n",
              "    </tr>\n",
              "    <tr>\n",
              "      <th>2012-01-04 15:59:59</th>\n",
              "      <td>105.028482</td>\n",
              "      <td>105.532157</td>\n",
              "      <td>104.623893</td>\n",
              "      <td>105.441330</td>\n",
              "      <td>0.700116</td>\n",
              "      <td>0.992829</td>\n",
              "      <td>0.313710</td>\n",
              "      <td>0.679119</td>\n",
              "      <td>60.780546</td>\n",
              "      <td>102.703511</td>\n",
              "      <td>106.223547</td>\n",
              "      <td>99.183474</td>\n",
              "      <td>1.619858</td>\n",
              "    </tr>\n",
              "    <tr>\n",
              "      <th>2012-01-05 15:59:59</th>\n",
              "      <td>104.871617</td>\n",
              "      <td>105.878961</td>\n",
              "      <td>104.392712</td>\n",
              "      <td>105.722076</td>\n",
              "      <td>0.957229</td>\n",
              "      <td>1.087949</td>\n",
              "      <td>0.327064</td>\n",
              "      <td>0.760885</td>\n",
              "      <td>61.588912</td>\n",
              "      <td>102.809850</td>\n",
              "      <td>106.552671</td>\n",
              "      <td>99.067028</td>\n",
              "      <td>1.610314</td>\n",
              "    </tr>\n",
              "  </tbody>\n",
              "</table>\n",
              "</div>\n",
              "      <button class=\"colab-df-convert\" onclick=\"convertToInteractive('df-77f08052-5ef5-406a-acf5-bda578a3c1c6')\"\n",
              "              title=\"Convert this dataframe to an interactive table.\"\n",
              "              style=\"display:none;\">\n",
              "        \n",
              "  <svg xmlns=\"http://www.w3.org/2000/svg\" height=\"24px\"viewBox=\"0 0 24 24\"\n",
              "       width=\"24px\">\n",
              "    <path d=\"M0 0h24v24H0V0z\" fill=\"none\"/>\n",
              "    <path d=\"M18.56 5.44l.94 2.06.94-2.06 2.06-.94-2.06-.94-.94-2.06-.94 2.06-2.06.94zm-11 1L8.5 8.5l.94-2.06 2.06-.94-2.06-.94L8.5 2.5l-.94 2.06-2.06.94zm10 10l.94 2.06.94-2.06 2.06-.94-2.06-.94-.94-2.06-.94 2.06-2.06.94z\"/><path d=\"M17.41 7.96l-1.37-1.37c-.4-.4-.92-.59-1.43-.59-.52 0-1.04.2-1.43.59L10.3 9.45l-7.72 7.72c-.78.78-.78 2.05 0 2.83L4 21.41c.39.39.9.59 1.41.59.51 0 1.02-.2 1.41-.59l7.78-7.78 2.81-2.81c.8-.78.8-2.07 0-2.86zM5.41 20L4 18.59l7.72-7.72 1.47 1.35L5.41 20z\"/>\n",
              "  </svg>\n",
              "      </button>\n",
              "      \n",
              "  <style>\n",
              "    .colab-df-container {\n",
              "      display:flex;\n",
              "      flex-wrap:wrap;\n",
              "      gap: 12px;\n",
              "    }\n",
              "\n",
              "    .colab-df-convert {\n",
              "      background-color: #E8F0FE;\n",
              "      border: none;\n",
              "      border-radius: 50%;\n",
              "      cursor: pointer;\n",
              "      display: none;\n",
              "      fill: #1967D2;\n",
              "      height: 32px;\n",
              "      padding: 0 0 0 0;\n",
              "      width: 32px;\n",
              "    }\n",
              "\n",
              "    .colab-df-convert:hover {\n",
              "      background-color: #E2EBFA;\n",
              "      box-shadow: 0px 1px 2px rgba(60, 64, 67, 0.3), 0px 1px 3px 1px rgba(60, 64, 67, 0.15);\n",
              "      fill: #174EA6;\n",
              "    }\n",
              "\n",
              "    [theme=dark] .colab-df-convert {\n",
              "      background-color: #3B4455;\n",
              "      fill: #D2E3FC;\n",
              "    }\n",
              "\n",
              "    [theme=dark] .colab-df-convert:hover {\n",
              "      background-color: #434B5C;\n",
              "      box-shadow: 0px 1px 3px 1px rgba(0, 0, 0, 0.15);\n",
              "      filter: drop-shadow(0px 1px 2px rgba(0, 0, 0, 0.3));\n",
              "      fill: #FFFFFF;\n",
              "    }\n",
              "  </style>\n",
              "\n",
              "      <script>\n",
              "        const buttonEl =\n",
              "          document.querySelector('#df-77f08052-5ef5-406a-acf5-bda578a3c1c6 button.colab-df-convert');\n",
              "        buttonEl.style.display =\n",
              "          google.colab.kernel.accessAllowed ? 'block' : 'none';\n",
              "\n",
              "        async function convertToInteractive(key) {\n",
              "          const element = document.querySelector('#df-77f08052-5ef5-406a-acf5-bda578a3c1c6');\n",
              "          const dataTable =\n",
              "            await google.colab.kernel.invokeFunction('convertToInteractive',\n",
              "                                                     [key], {});\n",
              "          if (!dataTable) return;\n",
              "\n",
              "          const docLinkHtml = 'Like what you see? Visit the ' +\n",
              "            '<a target=\"_blank\" href=https://colab.research.google.com/notebooks/data_table.ipynb>data table notebook</a>'\n",
              "            + ' to learn more about interactive tables.';\n",
              "          element.innerHTML = '';\n",
              "          dataTable['output_type'] = 'display_data';\n",
              "          await google.colab.output.renderOutput(dataTable, element);\n",
              "          const docLink = document.createElement('div');\n",
              "          docLink.innerHTML = docLinkHtml;\n",
              "          element.appendChild(docLink);\n",
              "        }\n",
              "      </script>\n",
              "    </div>\n",
              "  </div>\n",
              "  "
            ],
            "text/plain": [
              "                       SPY:open    SPY:high  ...  SPY:bb_bbl   SPY:atr\n",
              "Date                                         ...                      \n",
              "2012-01-03 15:59:59  105.490874  106.002808  ...   99.292372  1.674596\n",
              "2012-01-04 15:59:59  105.028482  105.532157  ...   99.183474  1.619858\n",
              "2012-01-05 15:59:59  104.871617  105.878961  ...   99.067028  1.610314\n",
              "\n",
              "[3 rows x 13 columns]"
            ]
          },
          "metadata": {},
          "execution_count": 13
        }
      ],
      "source": [
        "idx0 = eval_qt_env._init_step\n",
        "idx1 = idx0+3\n",
        "eval_qt_env._df_obs_scaled[idx0:idx1]         # observation"
      ]
    },
    {
      "cell_type": "code",
      "execution_count": 14,
      "metadata": {
        "colab": {
          "base_uri": "https://localhost:8080/",
          "height": 143
        },
        "id": "kwTqmjxnp9AV",
        "outputId": "f62ead3c-82ab-46d1-e4c4-456c64004566"
      },
      "outputs": [
        {
          "output_type": "execute_result",
          "data": {
            "text/html": [
              "\n",
              "  <div id=\"df-34c61bff-82ae-4e7e-9a30-d1900f831a0b\">\n",
              "    <div class=\"colab-df-container\">\n",
              "      <div>\n",
              "<style scoped>\n",
              "    .dataframe tbody tr th:only-of-type {\n",
              "        vertical-align: middle;\n",
              "    }\n",
              "\n",
              "    .dataframe tbody tr th {\n",
              "        vertical-align: top;\n",
              "    }\n",
              "\n",
              "    .dataframe thead th {\n",
              "        text-align: right;\n",
              "    }\n",
              "</style>\n",
              "<table border=\"1\" class=\"dataframe\">\n",
              "  <thead>\n",
              "    <tr style=\"text-align: right;\">\n",
              "      <th></th>\n",
              "      <th>SPY</th>\n",
              "    </tr>\n",
              "  </thead>\n",
              "  <tbody>\n",
              "    <tr>\n",
              "      <th>2012-01-03 15:59:59</th>\n",
              "      <td>127.500000</td>\n",
              "    </tr>\n",
              "    <tr>\n",
              "      <th>2012-01-04 15:59:59</th>\n",
              "      <td>127.699997</td>\n",
              "    </tr>\n",
              "    <tr>\n",
              "      <th>2012-01-05 15:59:59</th>\n",
              "      <td>128.039993</td>\n",
              "    </tr>\n",
              "  </tbody>\n",
              "</table>\n",
              "</div>\n",
              "      <button class=\"colab-df-convert\" onclick=\"convertToInteractive('df-34c61bff-82ae-4e7e-9a30-d1900f831a0b')\"\n",
              "              title=\"Convert this dataframe to an interactive table.\"\n",
              "              style=\"display:none;\">\n",
              "        \n",
              "  <svg xmlns=\"http://www.w3.org/2000/svg\" height=\"24px\"viewBox=\"0 0 24 24\"\n",
              "       width=\"24px\">\n",
              "    <path d=\"M0 0h24v24H0V0z\" fill=\"none\"/>\n",
              "    <path d=\"M18.56 5.44l.94 2.06.94-2.06 2.06-.94-2.06-.94-.94-2.06-.94 2.06-2.06.94zm-11 1L8.5 8.5l.94-2.06 2.06-.94-2.06-.94L8.5 2.5l-.94 2.06-2.06.94zm10 10l.94 2.06.94-2.06 2.06-.94-2.06-.94-.94-2.06-.94 2.06-2.06.94z\"/><path d=\"M17.41 7.96l-1.37-1.37c-.4-.4-.92-.59-1.43-.59-.52 0-1.04.2-1.43.59L10.3 9.45l-7.72 7.72c-.78.78-.78 2.05 0 2.83L4 21.41c.39.39.9.59 1.41.59.51 0 1.02-.2 1.41-.59l7.78-7.78 2.81-2.81c.8-.78.8-2.07 0-2.86zM5.41 20L4 18.59l7.72-7.72 1.47 1.35L5.41 20z\"/>\n",
              "  </svg>\n",
              "      </button>\n",
              "      \n",
              "  <style>\n",
              "    .colab-df-container {\n",
              "      display:flex;\n",
              "      flex-wrap:wrap;\n",
              "      gap: 12px;\n",
              "    }\n",
              "\n",
              "    .colab-df-convert {\n",
              "      background-color: #E8F0FE;\n",
              "      border: none;\n",
              "      border-radius: 50%;\n",
              "      cursor: pointer;\n",
              "      display: none;\n",
              "      fill: #1967D2;\n",
              "      height: 32px;\n",
              "      padding: 0 0 0 0;\n",
              "      width: 32px;\n",
              "    }\n",
              "\n",
              "    .colab-df-convert:hover {\n",
              "      background-color: #E2EBFA;\n",
              "      box-shadow: 0px 1px 2px rgba(60, 64, 67, 0.3), 0px 1px 3px 1px rgba(60, 64, 67, 0.15);\n",
              "      fill: #174EA6;\n",
              "    }\n",
              "\n",
              "    [theme=dark] .colab-df-convert {\n",
              "      background-color: #3B4455;\n",
              "      fill: #D2E3FC;\n",
              "    }\n",
              "\n",
              "    [theme=dark] .colab-df-convert:hover {\n",
              "      background-color: #434B5C;\n",
              "      box-shadow: 0px 1px 3px 1px rgba(0, 0, 0, 0.15);\n",
              "      filter: drop-shadow(0px 1px 2px rgba(0, 0, 0, 0.3));\n",
              "      fill: #FFFFFF;\n",
              "    }\n",
              "  </style>\n",
              "\n",
              "      <script>\n",
              "        const buttonEl =\n",
              "          document.querySelector('#df-34c61bff-82ae-4e7e-9a30-d1900f831a0b button.colab-df-convert');\n",
              "        buttonEl.style.display =\n",
              "          google.colab.kernel.accessAllowed ? 'block' : 'none';\n",
              "\n",
              "        async function convertToInteractive(key) {\n",
              "          const element = document.querySelector('#df-34c61bff-82ae-4e7e-9a30-d1900f831a0b');\n",
              "          const dataTable =\n",
              "            await google.colab.kernel.invokeFunction('convertToInteractive',\n",
              "                                                     [key], {});\n",
              "          if (!dataTable) return;\n",
              "\n",
              "          const docLinkHtml = 'Like what you see? Visit the ' +\n",
              "            '<a target=\"_blank\" href=https://colab.research.google.com/notebooks/data_table.ipynb>data table notebook</a>'\n",
              "            + ' to learn more about interactive tables.';\n",
              "          element.innerHTML = '';\n",
              "          dataTable['output_type'] = 'display_data';\n",
              "          await google.colab.output.renderOutput(dataTable, element);\n",
              "          const docLink = document.createElement('div');\n",
              "          docLink.innerHTML = docLinkHtml;\n",
              "          element.appendChild(docLink);\n",
              "        }\n",
              "      </script>\n",
              "    </div>\n",
              "  </div>\n",
              "  "
            ],
            "text/plain": [
              "                            SPY\n",
              "2012-01-03 15:59:59  127.500000\n",
              "2012-01-04 15:59:59  127.699997\n",
              "2012-01-05 15:59:59  128.039993"
            ]
          },
          "metadata": {},
          "execution_count": 14
        }
      ],
      "source": [
        "eval_qt_env._df_exch[idx0:idx1]"
      ]
    },
    {
      "cell_type": "markdown",
      "metadata": {
        "id": "qQzG_oaKrxOR"
      },
      "source": [
        "At the end of 2012-01-03, if action = 1 or we all in SPY, then we buy 100_000/127.50 or 784 shares, commission=784x127.50x0.0001=9.996, and the remaining cash=100_000-784x127.5-9.996=30.\n",
        "\n",
        "Then the market moves to 2012-01-04, and SPY price goes up to 127.70. Our 784 shares are now worth 784x127.70, and NAV including cash becomes 784x127.70+30=100_146.80.\n",
        "\n",
        "NAV change is the reward, in this case is 146.80.\n",
        "\n",
        "As shown below."
      ]
    },
    {
      "cell_type": "code",
      "execution_count": 15,
      "metadata": {
        "colab": {
          "base_uri": "https://localhost:8080/"
        },
        "id": "kFUPO8__scqV",
        "outputId": "2dc37182-e9b2-450c-ec86-08e37eb4cf4f"
      },
      "outputs": [
        {
          "output_type": "execute_result",
          "data": {
            "text/plain": [
              "SPY          0.0\n",
              "Cash    100000.0\n",
              "NAV     100000.0\n",
              "Name: 2012-01-03 15:59:59, dtype: float64"
            ]
          },
          "metadata": {},
          "execution_count": 15
        }
      ],
      "source": [
        "eval_qt_env._df_positions.iloc[idx0]"
      ]
    },
    {
      "cell_type": "code",
      "execution_count": 16,
      "metadata": {
        "colab": {
          "base_uri": "https://localhost:8080/"
        },
        "id": "yNs9mfsstPWF",
        "outputId": "0a7a8331-3592-49bc-9327-521f6ebf45cb"
      },
      "outputs": [
        {
          "output_type": "execute_result",
          "data": {
            "text/plain": [
              "SPY        784.000000\n",
              "Cash        30.004000\n",
              "NAV     100146.801607\n",
              "Name: 2012-01-04 15:59:59, dtype: float64"
            ]
          },
          "metadata": {},
          "execution_count": 16
        }
      ],
      "source": [
        "eval_qt_env._df_positions.iloc[idx0+1]"
      ]
    },
    {
      "cell_type": "code",
      "source": [
        "reward,  100146.801607-100000.0"
      ],
      "metadata": {
        "colab": {
          "base_uri": "https://localhost:8080/"
        },
        "id": "b8TBUnX63xTg",
        "outputId": "f34570f3-4d62-465a-dc87-cafe30d52b5a"
      },
      "execution_count": 20,
      "outputs": [
        {
          "output_type": "execute_result",
          "data": {
            "text/plain": [
              "(146.801607421875, 146.80160700000124)"
            ]
          },
          "metadata": {},
          "execution_count": 20
        }
      ]
    },
    {
      "cell_type": "markdown",
      "metadata": {
        "id": "IPJuV6AEt6qo"
      },
      "source": [
        "Create TF-Agents environment from Gym environment."
      ]
    },
    {
      "cell_type": "code",
      "execution_count": 21,
      "metadata": {
        "id": "1upn2Q1GHs6k"
      },
      "outputs": [],
      "source": [
        "train_qt_env = gym.wrappers.FlattenObservation(train_qt_env)\n",
        "train_py_env = suite_gym.wrap_env(train_qt_env)\n",
        "train_env = tf_py_environment.TFPyEnvironment(train_py_env)\n",
        "\n",
        "eval_qt_env = gym.wrappers.FlattenObservation(eval_qt_env)\n",
        "eval_py_env = suite_gym.wrap_env(eval_qt_env)\n",
        "eval_env = tf_py_environment.TFPyEnvironment(eval_py_env)"
      ]
    },
    {
      "cell_type": "code",
      "execution_count": 22,
      "metadata": {
        "colab": {
          "base_uri": "https://localhost:8080/"
        },
        "id": "Bb4vRZ0h20Nf",
        "outputId": "cb405d06-f683-4786-b63c-94d516aab880"
      },
      "outputs": [
        {
          "output_type": "execute_result",
          "data": {
            "text/plain": [
              "BoundedTensorSpec(shape=(), dtype=tf.int64, name='action', minimum=array(0), maximum=array(1))"
            ]
          },
          "metadata": {},
          "execution_count": 22
        }
      ],
      "source": [
        "train_env.action_spec()"
      ]
    },
    {
      "cell_type": "code",
      "execution_count": 23,
      "metadata": {
        "colab": {
          "base_uri": "https://localhost:8080/"
        },
        "id": "lhtK_lt3H_WM",
        "outputId": "0238b0bc-4200-4e09-94f7-449cae9bdb1c"
      },
      "outputs": [
        {
          "output_type": "execute_result",
          "data": {
            "text/plain": [
              "TimeStep(\n",
              "{'discount': BoundedTensorSpec(shape=(), dtype=tf.float32, name='discount', minimum=array(0., dtype=float32), maximum=array(1., dtype=float32)),\n",
              " 'observation': BoundedTensorSpec(shape=(140,), dtype=tf.float32, name='observation', minimum=array(-3.4028235e+38, dtype=float32), maximum=array(3.4028235e+38, dtype=float32)),\n",
              " 'reward': TensorSpec(shape=(), dtype=tf.float32, name='reward'),\n",
              " 'step_type': TensorSpec(shape=(), dtype=tf.int32, name='step_type')})"
            ]
          },
          "metadata": {},
          "execution_count": 23
        }
      ],
      "source": [
        "train_env.time_step_spec()"
      ]
    },
    {
      "cell_type": "markdown",
      "metadata": {
        "id": "IcOJcG2JDNV1"
      },
      "source": [
        "Some helper functions"
      ]
    },
    {
      "cell_type": "code",
      "execution_count": 24,
      "metadata": {
        "id": "4IWSBdyGDO-u"
      },
      "outputs": [],
      "source": [
        "def embed_mp4(filename):\n",
        "  \"\"\"Embeds an mp4 file in the notebook.\"\"\"\n",
        "  video = open(filename,'rb').read()\n",
        "  b64 = base64.b64encode(video)\n",
        "  tag = '''\n",
        "  <video width=\"640\" height=\"480\" controls>\n",
        "    <source src=\"data:video/mp4;base64,{0}\" type=\"video/mp4\">\n",
        "  Your browser does not support the video tag.\n",
        "  </video>'''.format(b64.decode())\n",
        "\n",
        "  return IPython.display.HTML(tag)\n",
        "\n",
        "def create_policy_eval_video(env, policy, filename, num_episodes=5, fps=30):\n",
        "  filename = filename + \".mp4\"\n",
        "  with imageio.get_writer(filename, fps=fps) as video:\n",
        "    for _ in range(num_episodes):\n",
        "      time_step = env.reset()\n",
        "      video.append_data(env.pyenv.envs[0].render())\n",
        "\n",
        "      while not time_step.is_last():\n",
        "        action_step = policy.action(time_step)\n",
        "        time_step = env.step(action_step.action)\n",
        "        video.append_data(env.pyenv.envs[0].render())\n",
        "\n",
        "  return embed_mp4(filename)"
      ]
    },
    {
      "cell_type": "markdown",
      "metadata": {
        "id": "DeAYErGcCxUU"
      },
      "source": [
        "## Spontaneous Trader"
      ]
    },
    {
      "cell_type": "code",
      "execution_count": 25,
      "metadata": {
        "id": "Mwwcc4gizi3A"
      },
      "outputs": [],
      "source": [
        "random_policy = random_tf_policy.RandomTFPolicy(train_env.time_step_spec(), train_env.action_spec())"
      ]
    },
    {
      "cell_type": "code",
      "execution_count": 26,
      "metadata": {
        "id": "E2HAttsa17t4"
      },
      "outputs": [],
      "source": [
        "time_step = train_py_env.reset()"
      ]
    },
    {
      "cell_type": "code",
      "execution_count": 27,
      "metadata": {
        "colab": {
          "base_uri": "https://localhost:8080/"
        },
        "id": "4FZTW40I2axQ",
        "outputId": "1a459a8a-36be-4618-e440-2372d59229d3"
      },
      "outputs": [
        {
          "output_type": "execute_result",
          "data": {
            "text/plain": [
              "BoundedTensorSpec(shape=(), dtype=tf.int64, name='action', minimum=array(0), maximum=array(1))"
            ]
          },
          "metadata": {},
          "execution_count": 27
        }
      ],
      "source": [
        "random_policy.action_spec"
      ]
    },
    {
      "cell_type": "code",
      "execution_count": 28,
      "metadata": {
        "id": "Bmh-cYuE2EXn"
      },
      "outputs": [],
      "source": [
        "time_step = train_env.reset()\n",
        "action_step = random_policy.action(time_step)"
      ]
    },
    {
      "cell_type": "markdown",
      "metadata": {
        "id": "u-iWKiHPRNA7"
      },
      "source": [
        "Below shows spontaneous trader's random trading behavior.\n",
        "\n",
        "The upper half is SPY price curve along with red buy and green sell marks. The lower half is NAV or total asset value.\n",
        "\n",
        "Due to random trading window and random trading actions, re-run below code each time will generate slightly different video."
      ]
    },
    {
      "cell_type": "code",
      "execution_count": null,
      "metadata": {
        "colab": {
          "base_uri": "https://localhost:8080/",
          "height": 501
        },
        "id": "LLY13m9nzj0_",
        "outputId": "eb1b0d76-fe43-41bc-9bbe-08e96759351c"
      },
      "outputs": [
        {
          "data": {
            "text/html": [
              "\n",
              "  <video width=\"640\" height=\"480\" controls>\n",
              "    <source src=\"data:video/mp4;base64,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\" type=\"video/mp4\">\n",
              "  Your browser does not support the video tag.\n",
              "  </video>"
            ],
            "text/plain": [
              "<IPython.core.display.HTML object>"
            ]
          },
          "execution_count": 55,
          "metadata": {},
          "output_type": "execute_result"
        }
      ],
      "source": [
        "create_policy_eval_video(train_env, random_policy, \"random-agent\", num_episodes=1)"
      ]
    },
    {
      "cell_type": "code",
      "execution_count": null,
      "metadata": {
        "colab": {
          "base_uri": "https://localhost:8080/",
          "height": 424
        },
        "id": "QRXunkpb-LHP",
        "outputId": "2373cdc3-3139-48ed-d707-4763a2ded5c3"
      },
      "outputs": [
        {
          "data": {
            "text/html": [
              "\n",
              "  <div id=\"df-319dc5b6-7695-4ac8-bc35-144c62239392\">\n",
              "    <div class=\"colab-df-container\">\n",
              "      <div>\n",
              "<style scoped>\n",
              "    .dataframe tbody tr th:only-of-type {\n",
              "        vertical-align: middle;\n",
              "    }\n",
              "\n",
              "    .dataframe tbody tr th {\n",
              "        vertical-align: top;\n",
              "    }\n",
              "\n",
              "    .dataframe thead th {\n",
              "        text-align: right;\n",
              "    }\n",
              "</style>\n",
              "<table border=\"1\" class=\"dataframe\">\n",
              "  <thead>\n",
              "    <tr style=\"text-align: right;\">\n",
              "      <th></th>\n",
              "      <th>SPY</th>\n",
              "      <th>Cash</th>\n",
              "      <th>NAV</th>\n",
              "    </tr>\n",
              "  </thead>\n",
              "  <tbody>\n",
              "    <tr>\n",
              "      <th>2010-01-04 15:59:59</th>\n",
              "      <td>0.0</td>\n",
              "      <td>100000.0</td>\n",
              "      <td>100000.0</td>\n",
              "    </tr>\n",
              "    <tr>\n",
              "      <th>2010-01-05 15:59:59</th>\n",
              "      <td>0.0</td>\n",
              "      <td>100000.0</td>\n",
              "      <td>100000.0</td>\n",
              "    </tr>\n",
              "    <tr>\n",
              "      <th>2010-01-06 15:59:59</th>\n",
              "      <td>0.0</td>\n",
              "      <td>100000.0</td>\n",
              "      <td>100000.0</td>\n",
              "    </tr>\n",
              "    <tr>\n",
              "      <th>2010-01-07 15:59:59</th>\n",
              "      <td>0.0</td>\n",
              "      <td>100000.0</td>\n",
              "      <td>100000.0</td>\n",
              "    </tr>\n",
              "    <tr>\n",
              "      <th>2010-01-08 15:59:59</th>\n",
              "      <td>0.0</td>\n",
              "      <td>100000.0</td>\n",
              "      <td>100000.0</td>\n",
              "    </tr>\n",
              "    <tr>\n",
              "      <th>...</th>\n",
              "      <td>...</td>\n",
              "      <td>...</td>\n",
              "      <td>...</td>\n",
              "    </tr>\n",
              "    <tr>\n",
              "      <th>2020-12-23 15:59:59</th>\n",
              "      <td>0.0</td>\n",
              "      <td>0.0</td>\n",
              "      <td>0.0</td>\n",
              "    </tr>\n",
              "    <tr>\n",
              "      <th>2020-12-24 15:59:59</th>\n",
              "      <td>0.0</td>\n",
              "      <td>0.0</td>\n",
              "      <td>0.0</td>\n",
              "    </tr>\n",
              "    <tr>\n",
              "      <th>2020-12-28 15:59:59</th>\n",
              "      <td>0.0</td>\n",
              "      <td>0.0</td>\n",
              "      <td>0.0</td>\n",
              "    </tr>\n",
              "    <tr>\n",
              "      <th>2020-12-29 15:59:59</th>\n",
              "      <td>0.0</td>\n",
              "      <td>0.0</td>\n",
              "      <td>0.0</td>\n",
              "    </tr>\n",
              "    <tr>\n",
              "      <th>2020-12-30 15:59:59</th>\n",
              "      <td>0.0</td>\n",
              "      <td>0.0</td>\n",
              "      <td>0.0</td>\n",
              "    </tr>\n",
              "  </tbody>\n",
              "</table>\n",
              "<p>2768 rows × 3 columns</p>\n",
              "</div>\n",
              "      <button class=\"colab-df-convert\" onclick=\"convertToInteractive('df-319dc5b6-7695-4ac8-bc35-144c62239392')\"\n",
              "              title=\"Convert this dataframe to an interactive table.\"\n",
              "              style=\"display:none;\">\n",
              "        \n",
              "  <svg xmlns=\"http://www.w3.org/2000/svg\" height=\"24px\"viewBox=\"0 0 24 24\"\n",
              "       width=\"24px\">\n",
              "    <path d=\"M0 0h24v24H0V0z\" fill=\"none\"/>\n",
              "    <path d=\"M18.56 5.44l.94 2.06.94-2.06 2.06-.94-2.06-.94-.94-2.06-.94 2.06-2.06.94zm-11 1L8.5 8.5l.94-2.06 2.06-.94-2.06-.94L8.5 2.5l-.94 2.06-2.06.94zm10 10l.94 2.06.94-2.06 2.06-.94-2.06-.94-.94-2.06-.94 2.06-2.06.94z\"/><path d=\"M17.41 7.96l-1.37-1.37c-.4-.4-.92-.59-1.43-.59-.52 0-1.04.2-1.43.59L10.3 9.45l-7.72 7.72c-.78.78-.78 2.05 0 2.83L4 21.41c.39.39.9.59 1.41.59.51 0 1.02-.2 1.41-.59l7.78-7.78 2.81-2.81c.8-.78.8-2.07 0-2.86zM5.41 20L4 18.59l7.72-7.72 1.47 1.35L5.41 20z\"/>\n",
              "  </svg>\n",
              "      </button>\n",
              "      \n",
              "  <style>\n",
              "    .colab-df-container {\n",
              "      display:flex;\n",
              "      flex-wrap:wrap;\n",
              "      gap: 12px;\n",
              "    }\n",
              "\n",
              "    .colab-df-convert {\n",
              "      background-color: #E8F0FE;\n",
              "      border: none;\n",
              "      border-radius: 50%;\n",
              "      cursor: pointer;\n",
              "      display: none;\n",
              "      fill: #1967D2;\n",
              "      height: 32px;\n",
              "      padding: 0 0 0 0;\n",
              "      width: 32px;\n",
              "    }\n",
              "\n",
              "    .colab-df-convert:hover {\n",
              "      background-color: #E2EBFA;\n",
              "      box-shadow: 0px 1px 2px rgba(60, 64, 67, 0.3), 0px 1px 3px 1px rgba(60, 64, 67, 0.15);\n",
              "      fill: #174EA6;\n",
              "    }\n",
              "\n",
              "    [theme=dark] .colab-df-convert {\n",
              "      background-color: #3B4455;\n",
              "      fill: #D2E3FC;\n",
              "    }\n",
              "\n",
              "    [theme=dark] .colab-df-convert:hover {\n",
              "      background-color: #434B5C;\n",
              "      box-shadow: 0px 1px 3px 1px rgba(0, 0, 0, 0.15);\n",
              "      filter: drop-shadow(0px 1px 2px rgba(0, 0, 0, 0.3));\n",
              "      fill: #FFFFFF;\n",
              "    }\n",
              "  </style>\n",
              "\n",
              "      <script>\n",
              "        const buttonEl =\n",
              "          document.querySelector('#df-319dc5b6-7695-4ac8-bc35-144c62239392 button.colab-df-convert');\n",
              "        buttonEl.style.display =\n",
              "          google.colab.kernel.accessAllowed ? 'block' : 'none';\n",
              "\n",
              "        async function convertToInteractive(key) {\n",
              "          const element = document.querySelector('#df-319dc5b6-7695-4ac8-bc35-144c62239392');\n",
              "          const dataTable =\n",
              "            await google.colab.kernel.invokeFunction('convertToInteractive',\n",
              "                                                     [key], {});\n",
              "          if (!dataTable) return;\n",
              "\n",
              "          const docLinkHtml = 'Like what you see? Visit the ' +\n",
              "            '<a target=\"_blank\" href=https://colab.research.google.com/notebooks/data_table.ipynb>data table notebook</a>'\n",
              "            + ' to learn more about interactive tables.';\n",
              "          element.innerHTML = '';\n",
              "          dataTable['output_type'] = 'display_data';\n",
              "          await google.colab.output.renderOutput(dataTable, element);\n",
              "          const docLink = document.createElement('div');\n",
              "          docLink.innerHTML = docLinkHtml;\n",
              "          element.appendChild(docLink);\n",
              "        }\n",
              "      </script>\n",
              "    </div>\n",
              "  </div>\n",
              "  "
            ],
            "text/plain": [
              "                     SPY      Cash       NAV\n",
              "2010-01-04 15:59:59  0.0  100000.0  100000.0\n",
              "2010-01-05 15:59:59  0.0  100000.0  100000.0\n",
              "2010-01-06 15:59:59  0.0  100000.0  100000.0\n",
              "2010-01-07 15:59:59  0.0  100000.0  100000.0\n",
              "2010-01-08 15:59:59  0.0  100000.0  100000.0\n",
              "...                  ...       ...       ...\n",
              "2020-12-23 15:59:59  0.0       0.0       0.0\n",
              "2020-12-24 15:59:59  0.0       0.0       0.0\n",
              "2020-12-28 15:59:59  0.0       0.0       0.0\n",
              "2020-12-29 15:59:59  0.0       0.0       0.0\n",
              "2020-12-30 15:59:59  0.0       0.0       0.0\n",
              "\n",
              "[2768 rows x 3 columns]"
            ]
          },
          "execution_count": 23,
          "metadata": {},
          "output_type": "execute_result"
        }
      ],
      "source": [
        "train_env.pyenv.envs[0].env._df_positions"
      ]
    },
    {
      "cell_type": "markdown",
      "metadata": {
        "id": "hf15K_3VBkDl"
      },
      "source": [
        "## Reinforcement Trader"
      ]
    },
    {
      "cell_type": "markdown",
      "metadata": {
        "id": "-BaqOBrnDVpc"
      },
      "source": [
        "### Recruit a Trader\n",
        "\n",
        "Hree we recruit a DQN trader, giving her $100,000 and let her trade SPY.\n",
        "\n",
        "Hopefully after 1 millon times of simulated training, she is able to to find a good quantititive trading rule to trade SPY. \n",
        "\n",
        "Her trading rule is a black box. We don't care how she trades, as long as she keeps bringing in profits.\n",
        "\n",
        "Then she is expected to apply her deep neutral network trading rule to other stocks via so-called transfer learning."
      ]
    },
    {
      "cell_type": "code",
      "execution_count": null,
      "metadata": {
        "id": "xhe43xOzKKaL"
      },
      "outputs": [],
      "source": [
        "learning_rate = 1e-3 \n",
        "num_eval_episodes = 10\n",
        "replay_buffer_max_length = 100000"
      ]
    },
    {
      "cell_type": "code",
      "execution_count": null,
      "metadata": {
        "id": "gM1AHMMWJuJD"
      },
      "outputs": [],
      "source": [
        "fc_layer_params = (100, 50)\n",
        "action_tensor_spec = tensor_spec.from_spec(train_env.action_spec())\n",
        "num_actions = action_tensor_spec.maximum - action_tensor_spec.minimum + 1\n",
        "\n",
        "# Define a helper function to create Dense layers configured with the right\n",
        "# activation and kernel initializer.\n",
        "def dense_layer(num_units):\n",
        "  return tf.keras.layers.Dense(\n",
        "      num_units,\n",
        "      activation=tf.keras.activations.relu,\n",
        "      kernel_initializer=tf.keras.initializers.VarianceScaling(\n",
        "          scale=2.0, mode='fan_in', distribution='truncated_normal'))\n",
        "\n",
        "# QNetwork consists of a sequence of Dense layers followed by a dense layer\n",
        "# with `num_actions` units to generate one q_value per available action as\n",
        "# its output.\n",
        "dense_layers = [dense_layer(num_units) for num_units in fc_layer_params]\n",
        "q_values_layer = tf.keras.layers.Dense(\n",
        "    num_actions,\n",
        "    activation=None,\n",
        "    kernel_initializer=tf.keras.initializers.RandomUniform(\n",
        "        minval=-0.03, maxval=0.03),\n",
        "    bias_initializer=tf.keras.initializers.Constant(-0.2))\n",
        "q_net = sequential.Sequential(dense_layers + [q_values_layer])"
      ]
    },
    {
      "cell_type": "code",
      "execution_count": null,
      "metadata": {
        "id": "2ZVdpwxaJ2XE"
      },
      "outputs": [],
      "source": [
        "optimizer = tf.keras.optimizers.Adam(learning_rate=learning_rate)\n",
        "\n",
        "train_step_counter = tf.Variable(0)\n",
        "\n",
        "agent = dqn_agent.DqnAgent(\n",
        "    train_env.time_step_spec(),\n",
        "    train_env.action_spec(),\n",
        "    q_network=q_net,\n",
        "    optimizer=optimizer,\n",
        "    td_errors_loss_fn=common.element_wise_squared_loss,\n",
        "    train_step_counter=train_step_counter)\n",
        "\n",
        "agent.initialize()"
      ]
    },
    {
      "cell_type": "markdown",
      "metadata": {
        "id": "2EaISgUXdqHr"
      },
      "source": [
        "Here we use a three layer fully-connected deep neural network.\n",
        "\n",
        "The input observation is 14 days x 10 features, flattened to shape 140. The first layer has 100 neurons. Therefore, it requires $140 \\times 100+100=14,100$ parameters.\n",
        "\n",
        "The second layer has 50 neurons, implying $100 \\times 50 + 50 = 5,050$ parameters. \n",
        "\n",
        "The output layer is a binary decision of either buy or sell, which needs $50 \\times 2 + 2 = 102$ parameters."
      ]
    },
    {
      "cell_type": "code",
      "execution_count": null,
      "metadata": {
        "colab": {
          "base_uri": "https://localhost:8080/"
        },
        "id": "xbjdk9sKKIXM",
        "outputId": "d6220e36-a9e1-4136-c3c1-acf180942531"
      },
      "outputs": [
        {
          "name": "stdout",
          "output_type": "stream",
          "text": [
            "Model: \"sequential\"\n",
            "_________________________________________________________________\n",
            "Layer (type)                 Output Shape              Param #   \n",
            "=================================================================\n",
            "dense (Dense)                multiple                  14100     \n",
            "_________________________________________________________________\n",
            "dense_1 (Dense)              multiple                  5050      \n",
            "_________________________________________________________________\n",
            "dense_2 (Dense)              multiple                  102       \n",
            "=================================================================\n",
            "Total params: 19,252\n",
            "Trainable params: 19,252\n",
            "Non-trainable params: 0\n",
            "_________________________________________________________________\n"
          ]
        }
      ],
      "source": [
        "q_net.summary()"
      ]
    },
    {
      "cell_type": "code",
      "execution_count": null,
      "metadata": {
        "id": "NlSKYvXqKh-M"
      },
      "outputs": [],
      "source": [
        "eval_policy = agent.policy\n",
        "collect_policy = agent.collect_policy"
      ]
    },
    {
      "cell_type": "code",
      "execution_count": null,
      "metadata": {
        "id": "pe9SoBKSOPGM"
      },
      "outputs": [],
      "source": [
        "random_policy = random_tf_policy.RandomTFPolicy(train_env.time_step_spec(), train_env.action_spec())"
      ]
    },
    {
      "cell_type": "code",
      "execution_count": null,
      "metadata": {
        "id": "KDCMutP3OQmL"
      },
      "outputs": [],
      "source": [
        "time_step = train_env.reset()"
      ]
    },
    {
      "cell_type": "code",
      "execution_count": null,
      "metadata": {
        "colab": {
          "base_uri": "https://localhost:8080/"
        },
        "id": "fmAhPXXvOXD0",
        "outputId": "12278ace-f0b7-4e3c-ceb4-48e55dd1e1de"
      },
      "outputs": [
        {
          "data": {
            "text/plain": [
              "PolicyStep(action=<tf.Tensor: shape=(1,), dtype=int64, numpy=array([0])>, state=(), info=())"
            ]
          },
          "execution_count": 31,
          "metadata": {},
          "output_type": "execute_result"
        }
      ],
      "source": [
        "random_policy.action(time_step)"
      ]
    },
    {
      "cell_type": "code",
      "execution_count": null,
      "metadata": {
        "id": "kVhzzv5IOZKC"
      },
      "outputs": [],
      "source": [
        "def compute_avg_return(environment, policy, num_episodes=5):\n",
        "\n",
        "  total_return = 0.0\n",
        "  for _ in range(num_episodes):\n",
        "\n",
        "    time_step = environment.reset()\n",
        "    episode_return = 0.0\n",
        "    zeros = 0\n",
        "    ones = 0\n",
        "\n",
        "    while not time_step.is_last():\n",
        "      action_step = policy.action(time_step)\n",
        "      if action_step.action.numpy()[0] == 1:\n",
        "        ones+=1\n",
        "      else:\n",
        "        zeros+=1\n",
        "      time_step = environment.step(action_step.action)\n",
        "      episode_return += time_step.reward\n",
        "    total_return += episode_return\n",
        "\n",
        "  avg_return = total_return / num_episodes\n",
        "  return avg_return.numpy()[0], zeros, ones"
      ]
    },
    {
      "cell_type": "code",
      "execution_count": null,
      "metadata": {
        "colab": {
          "base_uri": "https://localhost:8080/"
        },
        "id": "yYyFBcU1ObND",
        "outputId": "8b149805-14e9-435c-c34e-a92a09c27735"
      },
      "outputs": [
        {
          "data": {
            "text/plain": [
              "(34374.926, 1013, 987)"
            ]
          },
          "execution_count": 118,
          "metadata": {},
          "output_type": "execute_result"
        }
      ],
      "source": [
        "compute_avg_return(eval_env, random_policy, num_episodes=1)"
      ]
    },
    {
      "cell_type": "code",
      "execution_count": null,
      "metadata": {
        "id": "EzhOMNPwOd2D"
      },
      "outputs": [],
      "source": [
        "replay_buffer = TFUniformReplayBuffer(\n",
        "    data_spec=agent.collect_data_spec,\n",
        "    batch_size=train_env.batch_size,\n",
        "    max_length=100_000)"
      ]
    },
    {
      "cell_type": "code",
      "execution_count": null,
      "metadata": {
        "id": "WFtaeyCrOwfs"
      },
      "outputs": [],
      "source": [
        "# replay_buffer_observer = replay_buffer.add_batch"
      ]
    },
    {
      "cell_type": "code",
      "execution_count": null,
      "metadata": {
        "id": "hA5Ksnnb4wI3"
      },
      "outputs": [],
      "source": [
        "train_env.reset()\n",
        "\n",
        "init_driver = DynamicStepDriver(\n",
        "    train_env,\n",
        "    random_policy,\n",
        "    observers=[replay_buffer.add_batch],\n",
        "    num_steps=2_500)\n",
        "final_time_step, final_policy_state = init_driver.run()"
      ]
    },
    {
      "cell_type": "code",
      "execution_count": null,
      "metadata": {
        "colab": {
          "base_uri": "https://localhost:8080/"
        },
        "id": "eOLRciJL4xu9",
        "outputId": "063af983-0378-45bb-fb62-83f57693dd4e"
      },
      "outputs": [
        {
          "name": "stdout",
          "output_type": "stream",
          "text": [
            "WARNING:tensorflow:From <ipython-input-37-508fce8195e4>:1: ReplayBuffer.get_next (from tf_agents.replay_buffers.replay_buffer) is deprecated and will be removed in a future version.\n",
            "Instructions for updating:\n",
            "Use `as_dataset(..., single_deterministic_pass=False) instead.\n"
          ]
        }
      ],
      "source": [
        "trajectories, buffer_info = replay_buffer.get_next(sample_batch_size=2, num_steps=3)"
      ]
    },
    {
      "cell_type": "code",
      "execution_count": null,
      "metadata": {
        "colab": {
          "base_uri": "https://localhost:8080/"
        },
        "id": "cDEoVGC643FG",
        "outputId": "157c8a02-3bcb-425f-9e9a-c92dd9450ee6"
      },
      "outputs": [
        {
          "data": {
            "text/plain": [
              "TensorShape([2, 3, 140])"
            ]
          },
          "execution_count": 38,
          "metadata": {},
          "output_type": "execute_result"
        }
      ],
      "source": [
        "trajectories.observation.shape"
      ]
    },
    {
      "cell_type": "code",
      "execution_count": null,
      "metadata": {
        "colab": {
          "base_uri": "https://localhost:8080/"
        },
        "id": "fAnFqRmy43jV",
        "outputId": "15e0d8ae-af62-4aea-a425-28d157aff3c9"
      },
      "outputs": [
        {
          "data": {
            "text/plain": [
              "TensorShape([2, 2, 140])"
            ]
          },
          "execution_count": 39,
          "metadata": {},
          "output_type": "execute_result"
        }
      ],
      "source": [
        "from tf_agents.trajectories.trajectory import to_transition\n",
        "time_steps, action_steps, next_time_steps = to_transition(trajectories)\n",
        "time_steps.observation.shape"
      ]
    },
    {
      "cell_type": "markdown",
      "metadata": {
        "id": "WhREwBCPIt5F"
      },
      "source": [
        "Each row of the replay buffer only stores a single observation step. But since the DQN Agent needs both the current and next observation to compute the loss, the dataset pipeline will sample two adjacent rows for each item in the batch (`num_steps=2`)."
      ]
    },
    {
      "cell_type": "code",
      "execution_count": null,
      "metadata": {
        "id": "P6OaD_gV47Jf"
      },
      "outputs": [],
      "source": [
        "dataset = replay_buffer.as_dataset(\n",
        "    num_parallel_calls=3,\n",
        "    sample_batch_size=64,\n",
        "    num_steps=2).prefetch(3)"
      ]
    },
    {
      "cell_type": "code",
      "execution_count": null,
      "metadata": {
        "colab": {
          "base_uri": "https://localhost:8080/"
        },
        "id": "x3OGR6iBHkKr",
        "outputId": "9ec2673f-1b92-4069-d744-f2819dfd4018"
      },
      "outputs": [
        {
          "data": {
            "text/plain": [
              "<PrefetchDataset shapes: (Trajectory(\n",
              "{action: (64, 2),\n",
              " discount: (64, 2),\n",
              " next_step_type: (64, 2),\n",
              " observation: (64, 2, 140),\n",
              " policy_info: (),\n",
              " reward: (64, 2),\n",
              " step_type: (64, 2)}), BufferInfo(ids=(64, 2), probabilities=(64,))), types: (Trajectory(\n",
              "{action: tf.int64,\n",
              " discount: tf.float32,\n",
              " next_step_type: tf.int32,\n",
              " observation: tf.float32,\n",
              " policy_info: (),\n",
              " reward: tf.float32,\n",
              " step_type: tf.int32}), BufferInfo(ids=tf.int64, probabilities=tf.float32))>"
            ]
          },
          "execution_count": 41,
          "metadata": {},
          "output_type": "execute_result"
        }
      ],
      "source": [
        "dataset"
      ]
    },
    {
      "cell_type": "code",
      "execution_count": null,
      "metadata": {
        "id": "WKQ78qeu47mf"
      },
      "outputs": [],
      "source": [
        "iterator = iter(dataset)"
      ]
    },
    {
      "cell_type": "code",
      "execution_count": null,
      "metadata": {
        "id": "NNc3DoMY49FX"
      },
      "outputs": [],
      "source": [
        "num_iterations = 1_000_000   # less intelligence, more persistance; 24x7 player\n",
        "save_interval = 100_000\n",
        "eval_interval = 50_000\n",
        "log_interval = 5_000"
      ]
    },
    {
      "cell_type": "code",
      "execution_count": null,
      "metadata": {
        "id": "XQjIJVrR5Hdf"
      },
      "outputs": [],
      "source": [
        "# Create a driver to collect experience.\n",
        "collect_driver = DynamicStepDriver(\n",
        "    train_env,\n",
        "    agent.collect_policy,\n",
        "    observers=[replay_buffer.add_batch],\n",
        "    num_steps=4) # collect 4 steps for each training iteration"
      ]
    },
    {
      "cell_type": "markdown",
      "metadata": {
        "id": "697LY8DbByPk"
      },
      "source": [
        "### Training the Trader"
      ]
    },
    {
      "cell_type": "code",
      "execution_count": null,
      "metadata": {
        "id": "BmlqAAWH5JpP"
      },
      "outputs": [],
      "source": [
        "# (Optional) Optimize by wrapping some of the code in a graph using TF function.\n",
        "collect_driver.run = common.function(collect_driver.run)\n",
        "agent.train = common.function(agent.train)\n",
        "\n",
        "# Reset the train step.\n",
        "agent.train_step_counter.assign(0)\n",
        "\n",
        "# Evaluate the agent's policy once before training.\n",
        "avg_return = compute_avg_return(train_env, agent.policy, num_episodes=1)[0]\n",
        "returns = np.array([avg_return])\n",
        "\n",
        "# Reset the environment.\n",
        "time_step = None\n",
        "policy_state = agent.collect_policy.get_initial_state(train_env.batch_size)"
      ]
    },
    {
      "cell_type": "code",
      "execution_count": null,
      "metadata": {
        "colab": {
          "base_uri": "https://localhost:8080/"
        },
        "id": "q6eNW5c16A_h",
        "outputId": "db1b10ce-1588-46a0-cdf8-21c5761dc78c"
      },
      "outputs": [
        {
          "name": "stdout",
          "output_type": "stream",
          "text": [
            " step 1005000step = 1005000: loss = 824410.125\n",
            " step 1010000step = 1010000: loss = 527526.6875\n",
            " step 1015000step = 1015000: loss = 1142547.5\n",
            " step 1020000step = 1020000: loss = 627220.8125\n",
            " step 1025000step = 1025000: loss = 1009357.375\n",
            " step 1030000step = 1030000: loss = 631802.25\n",
            " step 1035000step = 1035000: loss = 700278.4375\n",
            " step 1040000step = 1040000: loss = 501516.8125\n",
            " step 1045000step = 1045000: loss = 1320529.5\n",
            " step 1050000step = 1050000: loss = 451690.1875\n",
            "step = 1050000: Average Return = (15235.019, 0, 250)\n",
            " step 1055000step = 1055000: loss = 885937.1875\n",
            " step 1060000step = 1060000: loss = 596331.0625\n",
            " step 1065000step = 1065000: loss = 580219.875\n",
            " step 1070000step = 1070000: loss = 511500.28125\n",
            " step 1075000step = 1075000: loss = 1367649.875\n",
            " step 1080000step = 1080000: loss = 666939.125\n",
            " step 1085000step = 1085000: loss = 1391710.25\n",
            " step 1090000step = 1090000: loss = 706070.75\n",
            " step 1095000step = 1095000: loss = 972368.5\n",
            " step 1100000step = 1100000: loss = 508614.9375\n",
            "step = 1100000: Average Return = (-518.07684, 18, 232)\n",
            " step 1105000step = 1105000: loss = 581248.6875\n",
            " step 1110000step = 1110000: loss = 616479.5\n",
            " step 1115000step = 1115000: loss = 1471200.625\n",
            " step 1120000step = 1120000: loss = 1319057.25\n",
            " step 1125000step = 1125000: loss = 3086097.75\n",
            " step 1130000step = 1130000: loss = 526596.9375\n",
            " step 1135000step = 1135000: loss = 496292.375\n",
            " step 1140000step = 1140000: loss = 379677.15625\n",
            " step 1145000step = 1145000: loss = 3318787.0\n",
            " step 1150000step = 1150000: loss = 3128436.5\n",
            "step = 1150000: Average Return = (0.0, 250, 0)\n",
            " step 1155000step = 1155000: loss = 504258.90625\n",
            " step 1160000step = 1160000: loss = 581748.625\n",
            " step 1165000step = 1165000: loss = 667048.875\n",
            " step 1170000step = 1170000: loss = 755206.375\n",
            " step 1175000step = 1175000: loss = 694674.6875\n",
            " step 1180000step = 1180000: loss = 644821.625\n",
            " step 1185000step = 1185000: loss = 495518.28125\n",
            " step 1190000step = 1190000: loss = 3662789.25\n",
            " step 1195000step = 1195000: loss = 712657.375\n",
            " step 1200000step = 1200000: loss = 614653.1875\n",
            "step = 1200000: Average Return = (6881.6396, 125, 125)\n",
            " step 1200001"
          ]
        }
      ],
      "source": [
        "num_iterations = 1_200_000\n",
        "while True:\n",
        "    # Collect a few steps using collect_policy and save to the replay buffer.\n",
        "    time_step, policy_state = collect_driver.run(time_step, policy_state)\n",
        "\n",
        "    # Sample a batch of data from the buffer and update the agent's network.\n",
        "    experience, unused_info = next(iterator)\n",
        "    train_loss = agent.train(experience).loss\n",
        "\n",
        "    step = agent.train_step_counter.numpy()\n",
        "    print(f'\\r step {step}', end='')\n",
        "\n",
        "    if step % log_interval == 0:\n",
        "        print('step = {0}: loss = {1}'.format(step, train_loss))\n",
        "\n",
        "    if step % eval_interval == 0:\n",
        "        avg_return = compute_avg_return(train_env, agent.policy, num_episodes=1)[0]\n",
        "        print('step = {0}: Average Return = {1}'.format(step, avg_return))\n",
        "        returns = np.append(returns, avg_return)\n",
        "\n",
        "    # if step % save_interval == 0:\n",
        "    #     save_checkpoint_to_local()\n",
        "\n",
        "    if step > num_iterations:\n",
        "        break"
      ]
    },
    {
      "cell_type": "markdown",
      "metadata": {
        "id": "VgJvZ4bqEQzb"
      },
      "source": [
        "### Save the Trader Model\n",
        "\n",
        "The policy is saved to github. We can wget from github and unzip it."
      ]
    },
    {
      "cell_type": "code",
      "execution_count": null,
      "metadata": {
        "id": "jVoEC5TNswZz"
      },
      "outputs": [],
      "source": [
        "def create_zip_file(dirname, base_filename):\n",
        "  return shutil.make_archive(base_filename, 'zip', dirname)"
      ]
    },
    {
      "cell_type": "code",
      "execution_count": null,
      "metadata": {
        "id": "yNSjnH7Nr-Xb"
      },
      "outputs": [],
      "source": [
        "tempdir = os.getenv(\"TEST_TMPDIR\", tempfile.gettempdir())\n",
        "\n",
        "policy_dir = os.path.join(tempdir, 'policy')\n",
        "tf_policy_saver = policy_saver.PolicySaver(agent.policy)"
      ]
    },
    {
      "cell_type": "code",
      "execution_count": null,
      "metadata": {
        "colab": {
          "base_uri": "https://localhost:8080/"
        },
        "id": "kIWSMYs-sVdh",
        "outputId": "3239dc27-fffa-46fb-9bba-f93c08410600"
      },
      "outputs": [
        {
          "name": "stderr",
          "output_type": "stream",
          "text": [
            "WARNING:absl:Function `function_with_signature` contains input name(s) 0/step_type, 0/reward, 0/discount, 0/observation with unsupported characters which will be renamed to step_type, reward, discount, observation in the SavedModel.\n",
            "WARNING:absl:Found untraced functions such as sequential_layer_call_fn, sequential_layer_call_and_return_conditional_losses, sequential_layer_call_fn, sequential_layer_call_and_return_conditional_losses, sequential_layer_call_and_return_conditional_losses while saving (showing 5 of 20). These functions will not be directly callable after loading.\n"
          ]
        },
        {
          "name": "stdout",
          "output_type": "stream",
          "text": [
            "INFO:tensorflow:Assets written to: /tmp/policy/assets\n"
          ]
        },
        {
          "name": "stderr",
          "output_type": "stream",
          "text": [
            "/usr/local/lib/python3.7/dist-packages/tensorflow/python/saved_model/nested_structure_coder.py:561: UserWarning: Encoding a StructuredValue with type tf_agents.policies.greedy_policy.DeterministicWithLogProb_ACTTypeSpec; loading this StructuredValue will require that this type be imported and registered.\n",
            "  \"imported and registered.\" % type_spec_class_name)\n",
            "INFO:tensorflow:Assets written to: /tmp/policy/assets\n"
          ]
        }
      ],
      "source": [
        "tf_policy_saver.save(policy_dir)\n",
        "policy_zip_filename = create_zip_file(policy_dir, os.path.join(tempdir, 'exported_policy'))"
      ]
    },
    {
      "cell_type": "code",
      "execution_count": null,
      "metadata": {
        "colab": {
          "base_uri": "https://localhost:8080/"
        },
        "id": "SnxRP9Y4zD0q",
        "outputId": "8df3b2b3-8772-42f7-9e18-98ef8378c429"
      },
      "outputs": [
        {
          "name": "stdout",
          "output_type": "stream",
          "text": [
            "/tmp/exported_policy.zip\n"
          ]
        }
      ],
      "source": [
        "!ls /tmp/exported_policy.zip"
      ]
    },
    {
      "cell_type": "code",
      "execution_count": null,
      "metadata": {
        "colab": {
          "base_uri": "https://localhost:8080/",
          "height": 34
        },
        "id": "xx2swYc3ssQp",
        "outputId": "227546e7-834b-4f99-8159-5f40cd428b68"
      },
      "outputs": [
        {
          "data": {
            "application/javascript": [
              "\n",
              "    async function download(id, filename, size) {\n",
              "      if (!google.colab.kernel.accessAllowed) {\n",
              "        return;\n",
              "      }\n",
              "      const div = document.createElement('div');\n",
              "      const label = document.createElement('label');\n",
              "      label.textContent = `Downloading \"${filename}\": `;\n",
              "      div.appendChild(label);\n",
              "      const progress = document.createElement('progress');\n",
              "      progress.max = size;\n",
              "      div.appendChild(progress);\n",
              "      document.body.appendChild(div);\n",
              "\n",
              "      const buffers = [];\n",
              "      let downloaded = 0;\n",
              "\n",
              "      const channel = await google.colab.kernel.comms.open(id);\n",
              "      // Send a message to notify the kernel that we're ready.\n",
              "      channel.send({})\n",
              "\n",
              "      for await (const message of channel.messages) {\n",
              "        // Send a message to notify the kernel that we're ready.\n",
              "        channel.send({})\n",
              "        if (message.buffers) {\n",
              "          for (const buffer of message.buffers) {\n",
              "            buffers.push(buffer);\n",
              "            downloaded += buffer.byteLength;\n",
              "            progress.value = downloaded;\n",
              "          }\n",
              "        }\n",
              "      }\n",
              "      const blob = new Blob(buffers, {type: 'application/binary'});\n",
              "      const a = document.createElement('a');\n",
              "      a.href = window.URL.createObjectURL(blob);\n",
              "      a.download = filename;\n",
              "      div.appendChild(a);\n",
              "      a.click();\n",
              "      div.remove();\n",
              "    }\n",
              "  "
            ],
            "text/plain": [
              "<IPython.core.display.Javascript object>"
            ]
          },
          "metadata": {},
          "output_type": "display_data"
        },
        {
          "data": {
            "application/javascript": [
              "download(\"download_7a21b3ca-249f-4e4e-abbb-1065192358f3\", \"exported_policy.zip\", 83024)"
            ],
            "text/plain": [
              "<IPython.core.display.Javascript object>"
            ]
          },
          "metadata": {},
          "output_type": "display_data"
        }
      ],
      "source": [
        "files.download(policy_zip_filename)"
      ]
    },
    {
      "cell_type": "markdown",
      "metadata": {
        "id": "gAEQgMgH4QuM"
      },
      "source": [
        "export checkpoint"
      ]
    },
    {
      "cell_type": "code",
      "execution_count": null,
      "metadata": {
        "id": "Edva1ail29lu"
      },
      "outputs": [],
      "source": [
        "checkpoint_dir = os.path.join(tempdir, 'checkpoint')\n",
        "train_checkpointer = common.Checkpointer(\n",
        "    ckpt_dir=checkpoint_dir,\n",
        "    max_to_keep=1,\n",
        "    agent=agent,\n",
        "    policy=agent.policy,\n",
        "    replay_buffer=replay_buffer,\n",
        "    global_step=train_step_counter\n",
        ")"
      ]
    },
    {
      "cell_type": "code",
      "execution_count": null,
      "metadata": {
        "id": "DB-HSKXx34iW"
      },
      "outputs": [],
      "source": [
        "train_checkpointer.save(train_step_counter)"
      ]
    },
    {
      "cell_type": "code",
      "execution_count": null,
      "metadata": {
        "colab": {
          "base_uri": "https://localhost:8080/"
        },
        "id": "vzhIiWDGmYCg",
        "outputId": "e94f326d-bdf0-4e51-9200-ccd2535f5444"
      },
      "outputs": [
        {
          "name": "stdout",
          "output_type": "stream",
          "text": [
            "total 58128\n",
            "-rw-r--r-- 1 root root      178 Dec 29 00:32 checkpoint\n",
            "-rw-r--r-- 1 root root 59514571 Dec 29 00:32 ckpt-1000001.data-00000-of-00001\n",
            "-rw-r--r-- 1 root root     2786 Dec 29 00:32 ckpt-1000001.index\n"
          ]
        }
      ],
      "source": [
        "# !rm -rf /tmp/checkpoint\n",
        "!ls /tmp/checkpoint -l"
      ]
    },
    {
      "cell_type": "code",
      "execution_count": null,
      "metadata": {
        "id": "lX2invMq4BYv"
      },
      "outputs": [],
      "source": [
        "checkpoint_zip_filename = create_zip_file(checkpoint_dir, os.path.join(tempdir, 'exported_cp'))"
      ]
    },
    {
      "cell_type": "code",
      "execution_count": null,
      "metadata": {
        "colab": {
          "base_uri": "https://localhost:8080/",
          "height": 34
        },
        "id": "mozB25aF3nlN",
        "outputId": "5baf84ea-bd39-42f7-c671-1d02a11436a3"
      },
      "outputs": [
        {
          "data": {
            "application/javascript": [
              "\n",
              "    async function download(id, filename, size) {\n",
              "      if (!google.colab.kernel.accessAllowed) {\n",
              "        return;\n",
              "      }\n",
              "      const div = document.createElement('div');\n",
              "      const label = document.createElement('label');\n",
              "      label.textContent = `Downloading \"${filename}\": `;\n",
              "      div.appendChild(label);\n",
              "      const progress = document.createElement('progress');\n",
              "      progress.max = size;\n",
              "      div.appendChild(progress);\n",
              "      document.body.appendChild(div);\n",
              "\n",
              "      const buffers = [];\n",
              "      let downloaded = 0;\n",
              "\n",
              "      const channel = await google.colab.kernel.comms.open(id);\n",
              "      // Send a message to notify the kernel that we're ready.\n",
              "      channel.send({})\n",
              "\n",
              "      for await (const message of channel.messages) {\n",
              "        // Send a message to notify the kernel that we're ready.\n",
              "        channel.send({})\n",
              "        if (message.buffers) {\n",
              "          for (const buffer of message.buffers) {\n",
              "            buffers.push(buffer);\n",
              "            downloaded += buffer.byteLength;\n",
              "            progress.value = downloaded;\n",
              "          }\n",
              "        }\n",
              "      }\n",
              "      const blob = new Blob(buffers, {type: 'application/binary'});\n",
              "      const a = document.createElement('a');\n",
              "      a.href = window.URL.createObjectURL(blob);\n",
              "      a.download = filename;\n",
              "      div.appendChild(a);\n",
              "      a.click();\n",
              "      div.remove();\n",
              "    }\n",
              "  "
            ],
            "text/plain": [
              "<IPython.core.display.Javascript object>"
            ]
          },
          "metadata": {},
          "output_type": "display_data"
        },
        {
          "data": {
            "application/javascript": [
              "download(\"download_4e959459-fef3-42b7-8000-193334cc01e4\", \"exported_cp.zip\", 6103091)"
            ],
            "text/plain": [
              "<IPython.core.display.Javascript object>"
            ]
          },
          "metadata": {},
          "output_type": "display_data"
        }
      ],
      "source": [
        "files.download(checkpoint_zip_filename)"
      ]
    },
    {
      "cell_type": "markdown",
      "metadata": {
        "id": "JFj9yVq545jf"
      },
      "source": [
        "Restore checkpoint"
      ]
    },
    {
      "cell_type": "code",
      "execution_count": null,
      "metadata": {
        "id": "LJ5jiVHW4_qe"
      },
      "outputs": [],
      "source": [
        "saved_policy = tf.saved_model.load(policy_dir)"
      ]
    },
    {
      "cell_type": "markdown",
      "metadata": {
        "id": "ErHSZkcuB3gU"
      },
      "source": [
        "### Evaluate Trader Performance "
      ]
    },
    {
      "cell_type": "markdown",
      "metadata": {
        "id": "t6AIafOLGscg"
      },
      "source": [
        ""
      ]
    },
    {
      "cell_type": "code",
      "execution_count": null,
      "metadata": {
        "colab": {
          "base_uri": "https://localhost:8080/",
          "height": 501
        },
        "id": "rSBzMqEy5Phf",
        "outputId": "22e931f4-3fec-4ba6-b263-2b7980d8e8fe"
      },
      "outputs": [
        {
          "data": {
            "text/html": [
              "\n",
              "  <video width=\"640\" height=\"480\" controls>\n",
              "    <source src=\"data:video/mp4;base64,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\" type=\"video/mp4\">\n",
              "  Your browser does not support the video tag.\n",
              "  </video>"
            ],
            "text/plain": [
              "<IPython.core.display.HTML object>"
            ]
          },
          "execution_count": 140,
          "metadata": {},
          "output_type": "execute_result"
        }
      ],
      "source": [
        "create_policy_eval_video(eval_env, agent.policy, \"trained-agent\", num_episodes=1)"
      ]
    },
    {
      "cell_type": "code",
      "execution_count": null,
      "metadata": {
        "id": "zs3yfxi0yPiw"
      },
      "outputs": [],
      "source": [
        "compute_avg_return(eval_env, random_policy, num_episodes=1)\n",
        "\n",
        "x_left = eval_env.pyenv.envs[0].env._init_step\n",
        "x_right = eval_env.pyenv.envs[0].env._current_step     # _maxsteps+1\n",
        "df_price = eval_env.pyenv.envs[0].env._df_exch[x_left:x_right].copy()\n",
        "df_spontaneous = eval_env.pyenv.envs[0].env._df_positions['NAV'][x_left:x_right].copy()"
      ]
    },
    {
      "cell_type": "code",
      "execution_count": null,
      "metadata": {
        "colab": {
          "base_uri": "https://localhost:8080/"
        },
        "id": "CvIcIpn-0W2g",
        "outputId": "2a651c98-f505-4603-e64d-5dc16d05e622"
      },
      "outputs": [
        {
          "name": "stdout",
          "output_type": "stream",
          "text": [
            "(139012.14, 438, 1562)\n"
          ]
        }
      ],
      "source": [
        "print(compute_avg_return(eval_env, saved_policy, num_episodes=1))\n",
        "df_reinforcement = eval_env.pyenv.envs[0].env._df_positions['NAV'][x_left:x_right].copy()"
      ]
    },
    {
      "cell_type": "code",
      "execution_count": null,
      "metadata": {
        "colab": {
          "base_uri": "https://localhost:8080/",
          "height": 457
        },
        "id": "NnCLsyFR4YZy",
        "outputId": "e9f7e9df-288d-429c-9bbc-c5907a36dc11"
      },
      "outputs": [
        {
          "data": {
            "text/html": [
              "\n",
              "  <div id=\"df-ca1716df-bbc8-4602-8ee2-eaf444818fe6\">\n",
              "    <div class=\"colab-df-container\">\n",
              "      <div>\n",
              "<style scoped>\n",
              "    .dataframe tbody tr th:only-of-type {\n",
              "        vertical-align: middle;\n",
              "    }\n",
              "\n",
              "    .dataframe tbody tr th {\n",
              "        vertical-align: top;\n",
              "    }\n",
              "\n",
              "    .dataframe thead th {\n",
              "        text-align: right;\n",
              "    }\n",
              "</style>\n",
              "<table border=\"1\" class=\"dataframe\">\n",
              "  <thead>\n",
              "    <tr style=\"text-align: right;\">\n",
              "      <th></th>\n",
              "      <th>random</th>\n",
              "      <th>tf-agent</th>\n",
              "      <th>benchmark</th>\n",
              "    </tr>\n",
              "  </thead>\n",
              "  <tbody>\n",
              "    <tr>\n",
              "      <th>Annual return</th>\n",
              "      <td>0.079287</td>\n",
              "      <td>0.116104</td>\n",
              "      <td>0.121725</td>\n",
              "    </tr>\n",
              "    <tr>\n",
              "      <th>Cumulative returns</th>\n",
              "      <td>0.831727</td>\n",
              "      <td>1.390122</td>\n",
              "      <td>1.487294</td>\n",
              "    </tr>\n",
              "    <tr>\n",
              "      <th>Annual volatility</th>\n",
              "      <td>0.090710</td>\n",
              "      <td>0.113069</td>\n",
              "      <td>0.128985</td>\n",
              "    </tr>\n",
              "    <tr>\n",
              "      <th>Sharpe ratio</th>\n",
              "      <td>0.886646</td>\n",
              "      <td>1.028216</td>\n",
              "      <td>0.955339</td>\n",
              "    </tr>\n",
              "    <tr>\n",
              "      <th>Calmar ratio</th>\n",
              "      <td>0.551160</td>\n",
              "      <td>0.776651</td>\n",
              "      <td>0.603244</td>\n",
              "    </tr>\n",
              "    <tr>\n",
              "      <th>Stability</th>\n",
              "      <td>0.962235</td>\n",
              "      <td>0.940382</td>\n",
              "      <td>0.950932</td>\n",
              "    </tr>\n",
              "    <tr>\n",
              "      <th>Max drawdown</th>\n",
              "      <td>-0.143855</td>\n",
              "      <td>-0.149494</td>\n",
              "      <td>-0.201785</td>\n",
              "    </tr>\n",
              "    <tr>\n",
              "      <th>Omega ratio</th>\n",
              "      <td>1.247272</td>\n",
              "      <td>1.230952</td>\n",
              "      <td>1.185798</td>\n",
              "    </tr>\n",
              "    <tr>\n",
              "      <th>Sortino ratio</th>\n",
              "      <td>1.283426</td>\n",
              "      <td>1.496901</td>\n",
              "      <td>1.345309</td>\n",
              "    </tr>\n",
              "    <tr>\n",
              "      <th>Skew</th>\n",
              "      <td>-0.251531</td>\n",
              "      <td>-0.130487</td>\n",
              "      <td>-0.401799</td>\n",
              "    </tr>\n",
              "    <tr>\n",
              "      <th>Kurtosis</th>\n",
              "      <td>10.129646</td>\n",
              "      <td>4.908394</td>\n",
              "      <td>3.278997</td>\n",
              "    </tr>\n",
              "    <tr>\n",
              "      <th>Tail ratio</th>\n",
              "      <td>1.195240</td>\n",
              "      <td>1.057826</td>\n",
              "      <td>0.952313</td>\n",
              "    </tr>\n",
              "    <tr>\n",
              "      <th>Daily value at risk</th>\n",
              "      <td>-0.011109</td>\n",
              "      <td>-0.013784</td>\n",
              "      <td>-0.015762</td>\n",
              "    </tr>\n",
              "  </tbody>\n",
              "</table>\n",
              "</div>\n",
              "      <button class=\"colab-df-convert\" onclick=\"convertToInteractive('df-ca1716df-bbc8-4602-8ee2-eaf444818fe6')\"\n",
              "              title=\"Convert this dataframe to an interactive table.\"\n",
              "              style=\"display:none;\">\n",
              "        \n",
              "  <svg xmlns=\"http://www.w3.org/2000/svg\" height=\"24px\"viewBox=\"0 0 24 24\"\n",
              "       width=\"24px\">\n",
              "    <path d=\"M0 0h24v24H0V0z\" fill=\"none\"/>\n",
              "    <path d=\"M18.56 5.44l.94 2.06.94-2.06 2.06-.94-2.06-.94-.94-2.06-.94 2.06-2.06.94zm-11 1L8.5 8.5l.94-2.06 2.06-.94-2.06-.94L8.5 2.5l-.94 2.06-2.06.94zm10 10l.94 2.06.94-2.06 2.06-.94-2.06-.94-.94-2.06-.94 2.06-2.06.94z\"/><path d=\"M17.41 7.96l-1.37-1.37c-.4-.4-.92-.59-1.43-.59-.52 0-1.04.2-1.43.59L10.3 9.45l-7.72 7.72c-.78.78-.78 2.05 0 2.83L4 21.41c.39.39.9.59 1.41.59.51 0 1.02-.2 1.41-.59l7.78-7.78 2.81-2.81c.8-.78.8-2.07 0-2.86zM5.41 20L4 18.59l7.72-7.72 1.47 1.35L5.41 20z\"/>\n",
              "  </svg>\n",
              "      </button>\n",
              "      \n",
              "  <style>\n",
              "    .colab-df-container {\n",
              "      display:flex;\n",
              "      flex-wrap:wrap;\n",
              "      gap: 12px;\n",
              "    }\n",
              "\n",
              "    .colab-df-convert {\n",
              "      background-color: #E8F0FE;\n",
              "      border: none;\n",
              "      border-radius: 50%;\n",
              "      cursor: pointer;\n",
              "      display: none;\n",
              "      fill: #1967D2;\n",
              "      height: 32px;\n",
              "      padding: 0 0 0 0;\n",
              "      width: 32px;\n",
              "    }\n",
              "\n",
              "    .colab-df-convert:hover {\n",
              "      background-color: #E2EBFA;\n",
              "      box-shadow: 0px 1px 2px rgba(60, 64, 67, 0.3), 0px 1px 3px 1px rgba(60, 64, 67, 0.15);\n",
              "      fill: #174EA6;\n",
              "    }\n",
              "\n",
              "    [theme=dark] .colab-df-convert {\n",
              "      background-color: #3B4455;\n",
              "      fill: #D2E3FC;\n",
              "    }\n",
              "\n",
              "    [theme=dark] .colab-df-convert:hover {\n",
              "      background-color: #434B5C;\n",
              "      box-shadow: 0px 1px 3px 1px rgba(0, 0, 0, 0.15);\n",
              "      filter: drop-shadow(0px 1px 2px rgba(0, 0, 0, 0.3));\n",
              "      fill: #FFFFFF;\n",
              "    }\n",
              "  </style>\n",
              "\n",
              "      <script>\n",
              "        const buttonEl =\n",
              "          document.querySelector('#df-ca1716df-bbc8-4602-8ee2-eaf444818fe6 button.colab-df-convert');\n",
              "        buttonEl.style.display =\n",
              "          google.colab.kernel.accessAllowed ? 'block' : 'none';\n",
              "\n",
              "        async function convertToInteractive(key) {\n",
              "          const element = document.querySelector('#df-ca1716df-bbc8-4602-8ee2-eaf444818fe6');\n",
              "          const dataTable =\n",
              "            await google.colab.kernel.invokeFunction('convertToInteractive',\n",
              "                                                     [key], {});\n",
              "          if (!dataTable) return;\n",
              "\n",
              "          const docLinkHtml = 'Like what you see? Visit the ' +\n",
              "            '<a target=\"_blank\" href=https://colab.research.google.com/notebooks/data_table.ipynb>data table notebook</a>'\n",
              "            + ' to learn more about interactive tables.';\n",
              "          element.innerHTML = '';\n",
              "          dataTable['output_type'] = 'display_data';\n",
              "          await google.colab.output.renderOutput(dataTable, element);\n",
              "          const docLink = document.createElement('div');\n",
              "          docLink.innerHTML = docLinkHtml;\n",
              "          element.appendChild(docLink);\n",
              "        }\n",
              "      </script>\n",
              "    </div>\n",
              "  </div>\n",
              "  "
            ],
            "text/plain": [
              "                        random  tf-agent  benchmark\n",
              "Annual return         0.079287  0.116104   0.121725\n",
              "Cumulative returns    0.831727  1.390122   1.487294\n",
              "Annual volatility     0.090710  0.113069   0.128985\n",
              "Sharpe ratio          0.886646  1.028216   0.955339\n",
              "Calmar ratio          0.551160  0.776651   0.603244\n",
              "Stability             0.962235  0.940382   0.950932\n",
              "Max drawdown         -0.143855 -0.149494  -0.201785\n",
              "Omega ratio           1.247272  1.230952   1.185798\n",
              "Sortino ratio         1.283426  1.496901   1.345309\n",
              "Skew                 -0.251531 -0.130487  -0.401799\n",
              "Kurtosis             10.129646  4.908394   3.278997\n",
              "Tail ratio            1.195240  1.057826   0.952313\n",
              "Daily value at risk  -0.011109 -0.013784  -0.015762"
            ]
          },
          "execution_count": 176,
          "metadata": {},
          "output_type": "execute_result"
        }
      ],
      "source": [
        "df_all = pd.concat([df_spontaneous, df_reinforcement, df_price], axis=1)\n",
        "df_all.columns = ['spontaneous', 'tf-agent', 'benchmark']\n",
        "df_ret = df_all / df_all.shift(1) - 1\n",
        "df_ret = df_ret[1:]\n",
        "random_perf_stats = pf.timeseries.perf_stats(df_ret['spontaneous']) \n",
        "agent_perf_stats = pf.timeseries.perf_stats(df_ret['tf-agent'])\n",
        "benchmark_perf_stats = pf.timeseries.perf_stats(df_ret['benchmark'])\n",
        "perf_stats = pd.concat([random_perf_stats, agent_perf_stats, benchmark_perf_stats], axis=1)\n",
        "perf_stats.columns = ['random', 'tf-agent', 'benchmark']\n",
        "perf_stats"
      ]
    },
    {
      "cell_type": "markdown",
      "metadata": {
        "id": "rsrkl5ico38s"
      },
      "source": [
        "The reinforcement trader outperforms random spontaneous trader. She delivers slightly less annual return than buy-and-hold (11.6% vs 12.17%), but with better risk-adjusted measures (Sharpe 1.028 vs 0.955)."
      ]
    },
    {
      "cell_type": "code",
      "execution_count": null,
      "metadata": {
        "id": "roITJDZTphon"
      },
      "outputs": [],
      "source": [
        ""
      ]
    }
  ],
  "metadata": {
    "colab": {
      "collapsed_sections": [],
      "name": "reinforcement_trader",
      "provenance": [],
      "toc_visible": true,
      "authorship_tag": "ABX9TyOmB/Ye/OfFG1D7s0S2zE8B",
      "include_colab_link": true
    },
    "kernelspec": {
      "display_name": "Python 3",
      "name": "python3"
    },
    "language_info": {
      "name": "python"
    }
  },
  "nbformat": 4,
  "nbformat_minor": 0
}