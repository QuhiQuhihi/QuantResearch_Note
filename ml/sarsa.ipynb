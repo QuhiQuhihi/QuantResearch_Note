{
  "nbformat": 4,
  "nbformat_minor": 0,
  "metadata": {
    "colab": {
      "name": "sarsa.ipynb",
      "provenance": [],
      "collapsed_sections": [],
      "authorship_tag": "ABX9TyM2WMxoThIS2veShVBHNn0O",
      "include_colab_link": true
    },
    "kernelspec": {
      "name": "python3",
      "display_name": "Python 3"
    }
  },
  "cells": [
    {
      "cell_type": "markdown",
      "metadata": {
        "id": "view-in-github",
        "colab_type": "text"
      },
      "source": [
        "<a href=\"https://colab.research.google.com/github/letianzj/QuantResearch/blob/master/ml/sarsa.ipynb\" target=\"_parent\"><img src=\"https://colab.research.google.com/assets/colab-badge.svg\" alt=\"Open In Colab\"/></a>"
      ]
    },
    {
      "cell_type": "markdown",
      "metadata": {
        "id": "JlNkxcEuDTVn",
        "colab_type": "text"
      },
      "source": [
        "## SARSA FrozenLake\n",
        "\n",
        "Use SARSA to solve FrozenLake game.\n",
        "\n",
        "[OpenAI Gym FrozenLake](https://gym.openai.com/envs/FrozenLake-v0/) is defined on a 4x4 matrix. The agent wants to go from top left (S) to bottom right (G). Each grid can be either frozen surface (F) or hold (H). Four possible actions or moves are Left: 0, Down: 1, Right: 2, Up: 3. If the agent reaches goal (G), she receives reward of 1.\n",
        "\n",
        "SARSA is on policy, value based, TD method to solve control problems. The Q-value is updated by\n",
        "\n",
        "$$\n",
        "Q(s, a) \\leftarrow Q(s,a) + \\alpha \\left( r+\\gamma Q(s',a') - Q(s,a) \\right)\n",
        "$$\n",
        "\n",
        "__Reference__\n",
        "* Sutton, Richard S., and Andrew G. Barto. Reinforcement learning: An introduction. MIT press, 2018.\n",
        "* [RL by David Silver](https://www.davidsilver.uk/teaching/)\n",
        "* [Lil'Log](https://lilianweng.github.io/lil-log/)\n",
        "* [Deep Learning with TensorFlow](https://github.com/dragen1860/Deep-Learning-with-TensorFlow-book)\n",
        "* [Reinforcement Learning](https://github.com/dennybritz/reinforcement-learning)\n",
        "* [marcinbogdanski](https://marcinbogdanski.github.io/reinforcement-learning.html)"
      ]
    },
    {
      "cell_type": "code",
      "metadata": {
        "id": "0lOf7OSWHOvv",
        "colab_type": "code",
        "colab": {}
      },
      "source": [
        "import numpy as np\n",
        "import pandas as pd\n",
        "import matplotlib.pyplot as plt\n",
        "import gym"
      ],
      "execution_count": 16,
      "outputs": []
    },
    {
      "cell_type": "code",
      "metadata": {
        "id": "xtBE-yWBHZZh",
        "colab_type": "code",
        "colab": {}
      },
      "source": [
        "env = gym.make('FrozenLake-v0', is_slippery=True)   # may not head for the direction chosen"
      ],
      "execution_count": 17,
      "outputs": []
    },
    {
      "cell_type": "code",
      "metadata": {
        "id": "0QH8az9cJpmI",
        "colab_type": "code",
        "colab": {}
      },
      "source": [
        "n_episodes = 1000\n",
        "alpha = 0.5                 # TD learning rate\n",
        "epsilon = 0.1               # epsilon greedy\n",
        "epsilon_final = 0.05\n",
        "epsilon_decay = (epsilon-epsilon_final)/n_episodes   # epsilon annealing\n",
        "gamma = 0.99                # discount factor\n",
        "\n",
        "# Q-Table, default to 0\n",
        "Q = np.zeros((env.observation_space.n, env.action_space.n))\n",
        "# action space\n",
        "actions = range(env.action_space.n)"
      ],
      "execution_count": 33,
      "outputs": []
    },
    {
      "cell_type": "code",
      "metadata": {
        "id": "vQotgJIHK4EW",
        "colab_type": "code",
        "colab": {
          "base_uri": "https://localhost:8080/",
          "height": 102
        },
        "outputId": "3023fd1a-00cf-4bde-9d18-7d788cb13e3b"
      },
      "source": [
        "reward_history = []\n",
        "step_history = []\n",
        "\n",
        "for n_episode in range(n_episodes):\n",
        "    s = env.reset()          # reset to initial state\n",
        "    # env.render()\n",
        "    done = False\n",
        "    reward = 0.\n",
        "    step = 0\n",
        "\n",
        "    # choose action according to epsilon greedy\n",
        "    a = 0\n",
        "    if np.random.rand() < epsilon:\n",
        "        a = env.action_space.sample()\n",
        "    else:   # randomly pick one in case of a tie\n",
        "        candidates = np.argwhere(Q[s, :] == np.amax(Q[s, :]))\n",
        "        candidates = candidates.reshape(-1,)\n",
        "        a = np.random.choice(candidates)\n",
        "\n",
        "    while not done:\n",
        "        # use a' to interact with environment\n",
        "        s_prime, r, done, info = env.step(a)\n",
        "        step += 1\n",
        "        reward += r\n",
        "\n",
        "        # choose action_prime according to epsilon greedy\n",
        "        a_prime = 0\n",
        "        if np.random.rand() < epsilon:\n",
        "            a_prime = env.action_space.sample()\n",
        "        else:   # randomly pick one in case of a tie\n",
        "            candidates = np.argwhere(Q[s_prime, :] == np.amax(Q[s_prime, :]))\n",
        "            candidates = candidates.reshape(-1,)\n",
        "            a_prime = np.random.choice(candidates)\n",
        "        \n",
        "        # update q table\n",
        "        Q[s, a] = Q[s, a] + alpha * (r + gamma * Q[s_prime, a_prime] - Q[s, a])\n",
        "\n",
        "        # ready for next step\n",
        "        s = s_prime\n",
        "        a = a_prime\n",
        "\n",
        "    reward_history.append(reward)\n",
        "    step_history.append(step)\n",
        "\n",
        "    epsilon -= epsilon_decay\n",
        "\n",
        "    if (n_episode + 1) % 200 == 0:\n",
        "        print(f'Episode {n_episode + 1}/{n_episodes}.')"
      ],
      "execution_count": 37,
      "outputs": [
        {
          "output_type": "stream",
          "text": [
            "Episode 200/1000.\n",
            "Episode 400/1000.\n",
            "Episode 600/1000.\n",
            "Episode 800/1000.\n",
            "Episode 1000/1000.\n"
          ],
          "name": "stdout"
        }
      ]
    },
    {
      "cell_type": "code",
      "metadata": {
        "id": "oJ5zWez2_dle",
        "colab_type": "code",
        "colab": {}
      },
      "source": [
        "env.close()"
      ],
      "execution_count": 38,
      "outputs": []
    },
    {
      "cell_type": "code",
      "metadata": {
        "id": "iFX-ogw0zSQk",
        "colab_type": "code",
        "colab": {
          "base_uri": "https://localhost:8080/",
          "height": 353
        },
        "outputId": "e27a7e58-7247-4da7-edef-3c3e47f0a15b"
      },
      "source": [
        "df_stats = pd.DataFrame.from_dict({'rewards': reward_history, 'steps': step_history})\n",
        "fig, ax = plt.subplots(1, 2, figsize=(16,5))\n",
        "df_stats['rewards'].rolling(100).mean().plot(ax=ax[0])\n",
        "ax[0].set_title('Average rewards')\n",
        "df_stats['steps'].rolling(100).mean().plot(ax=ax[1])\n",
        "ax[1].set_title('Average steps')"
      ],
      "execution_count": 39,
      "outputs": [
        {
          "output_type": "execute_result",
          "data": {
            "text/plain": [
              "Text(0.5, 1.0, 'Average steps')"
            ]
          },
          "metadata": {
            "tags": []
          },
          "execution_count": 39
        },
        {
          "output_type": "display_data",
          "data": {
            "image/png": "[encoded data removed]",
            "text/plain": [
              "<Figure size 1152x360 with 2 Axes>"
            ]
          },
          "metadata": {
            "tags": [],
            "needs_background": "light"
          }
        }
      ]
    },
    {
      "cell_type": "code",
      "metadata": {
        "id": "lAmz6UWC_mex",
        "colab_type": "code",
        "colab": {}
      },
      "source": [
        ""
      ],
      "execution_count": null,
      "outputs": []
    }
  ]
}