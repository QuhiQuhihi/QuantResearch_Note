{
  "nbformat": 4,
  "nbformat_minor": 0,
  "metadata": {
    "colab": {
      "name": "dqn.ipynb",
      "provenance": [],
      "collapsed_sections": [],
      "authorship_tag": "ABX9TyOcxeZuqintpwn9JTs+YxVy",
      "include_colab_link": true
    },
    "kernelspec": {
      "name": "python3",
      "display_name": "Python 3"
    }
  },
  "cells": [
    {
      "cell_type": "markdown",
      "metadata": {
        "id": "view-in-github",
        "colab_type": "text"
      },
      "source": [
        "<a href=\"https://colab.research.google.com/github/letianzj/QuantResearch/blob/master/ml/dqn.ipynb\" target=\"_parent\"><img src=\"https://colab.research.google.com/assets/colab-badge.svg\" alt=\"Open In Colab\"/></a>"
      ]
    },
    {
      "cell_type": "markdown",
      "metadata": {
        "id": "JlNkxcEuDTVn",
        "colab_type": "text"
      },
      "source": [
        "## DQN CartPole\n",
        "\n",
        "Use deep q network to solve CartPole game.\n",
        "\n",
        "[OpenAI Gym CartPole](https://gym.openai.com/envs/CartPole-v0/) has four states, cart position, cart speed, pole angle, and pole speed. The actions are either going left or right. The objective is to keep pole from falling. Every move that doesn't lead to a fall gets reward 1.\n",
        "\n",
        "DQN is off policy, value based, TD method to solve control problems. In 2015, DeepMind used DQN to play 50 Atari games and was able to achieve human-levle performance. It uses a DNN to model the q-value functions whose loss function is\n",
        "\n",
        "$$\n",
        "L = \\left( r+\\gamma \\underset{a' \\in A}{\\max}Q(s',a') - Q(s,a) \\right)^2  \\tag{1}\n",
        "$$\n",
        "\n",
        "DQN adds experience replay buffer and freezing target network to improve performance.\n",
        "\n",
        "This notebook follows closely [here](https://github.com/dragen1860/Deep-Learning-with-TensorFlow-book/blob/master/ch14-%E5%BC%BA%E5%8C%96%E5%AD%A6%E4%B9%A0/dqn_tf.py). Just added some comments for my own understanding.\n",
        "\n",
        "\n",
        "[Reference]\n",
        "* Sutton, Richard S., and Andrew G. Barto. Reinforcement learning: An introduction. MIT press, 2018.\n",
        "* [RL by David Silver](https://www.davidsilver.uk/teaching/)\n",
        "* [Lil'Log](https://lilianweng.github.io/lil-log/)\n",
        "* [Deep Learning with TensorFlow](https://github.com/dragen1860/Deep-Learning-with-TensorFlow-book)"
      ]
    },
    {
      "cell_type": "code",
      "metadata": {
        "id": "0lOf7OSWHOvv",
        "colab_type": "code",
        "colab": {}
      },
      "source": [
        "import os\n",
        "import numpy as np\n",
        "import matplotlib.pyplot as plt\n",
        "import gym\n",
        "import collections\n",
        "import random\n",
        "import tensorflow as tf\n",
        "from tensorflow import keras"
      ],
      "execution_count": null,
      "outputs": []
    },
    {
      "cell_type": "code",
      "metadata": {
        "id": "xtBE-yWBHZZh",
        "colab_type": "code",
        "colab": {}
      },
      "source": [
        "env = gym.make('CartPole-v1')\n",
        "env.seed(1234)\n",
        "tf.random.set_seed(1234)\n",
        "np.random.seed(1234)"
      ],
      "execution_count": null,
      "outputs": []
    },
    {
      "cell_type": "code",
      "metadata": {
        "id": "6aJ__wslg1Vm",
        "colab_type": "code",
        "colab": {}
      },
      "source": [
        "# Hyperparameters\n",
        "episodes = 10000\n",
        "learning_rate = 0.0002\n",
        "gamma = 0.99\n",
        "buffer_limit = 50000\n",
        "batch_size = 32"
      ],
      "execution_count": null,
      "outputs": []
    },
    {
      "cell_type": "code",
      "metadata": {
        "id": "jbLHauFqg2C5",
        "colab_type": "code",
        "colab": {}
      },
      "source": [
        "class ReplayBuffer():\n",
        "    def __init__(self):\n",
        "        self.buffer = collections.deque(maxlen=buffer_limit)\n",
        "\n",
        "    def add_experience(self, transition):\n",
        "        self.buffer.append(transition)\n",
        "\n",
        "    def sample(self, n):\n",
        "        mini_batch = random.sample(self.buffer, n)\n",
        "        s_lst, a_lst, r_lst, s_prime_lst, done_mask_lst = [], [], [], [], []\n",
        "        for transition in mini_batch:\n",
        "            s, a, r, s_prime, done_mask = transition\n",
        "            s_lst.append(s)\n",
        "            a_lst.append([a])\n",
        "            r_lst.append([r])\n",
        "            s_prime_lst.append(s_prime)\n",
        "            done_mask_lst.append([done_mask])\n",
        "        # return Tensor\n",
        "        return tf.constant(s_lst, dtype=tf.float32),\\\n",
        "                      tf.constant(a_lst, dtype=tf.int32), \\\n",
        "                      tf.constant(r_lst, dtype=tf.float32), \\\n",
        "                      tf.constant(s_prime_lst, dtype=tf.float32), \\\n",
        "                      tf.constant(done_mask_lst, dtype=tf.float32)\n",
        "\n",
        "    def size(self):\n",
        "        return len(self.buffer)"
      ],
      "execution_count": null,
      "outputs": []
    },
    {
      "cell_type": "code",
      "metadata": {
        "id": "2xfhtwoNhHEu",
        "colab_type": "code",
        "colab": {}
      },
      "source": [
        "class DQN(keras.Model):\n",
        "    def __init__(self):\n",
        "        super(DQN, self).__init__()\n",
        "        self.fc1 = keras.layers.Dense(256, kernel_initializer='he_normal')\n",
        "        self.fc2 = keras.layers.Dense(256, kernel_initializer='he_normal')\n",
        "        self.fc3 = keras.layers.Dense(2, kernel_initializer='he_normal')\n",
        "\n",
        "    # input s, output Q value/logit\n",
        "    def call(self, x, training=None):\n",
        "        x = tf.nn.relu(self.fc1(x))\n",
        "        x = tf.nn.relu(self.fc2(x))\n",
        "        x = self.fc3(x)\n",
        "        return x\n",
        "\n",
        "    def get_action(self, s, epsilon):\n",
        "        s = tf.constant(s, dtype=tf.float32)        # to tensor\n",
        "        s = tf.expand_dims(s, axis=0)               # [4] => [1,4]\n",
        "        out = self(s)[0]                            # logits, shape = [1, 2]\n",
        "        coin = random.random()\n",
        "        # epsilon greedy\n",
        "        if coin < epsilon:\n",
        "            return random.randint(0, 1)\n",
        "        else:  # action with max Q value\n",
        "            return int(tf.argmax(out))\n",
        "\n",
        "\n",
        "def train(q, q_target, memory, optimizer):\n",
        "    # update Q-Net according to equation (1), keep target net constant\n",
        "    huber = keras.losses.Huber()\n",
        "    for i in range(10):  # train on some samples\n",
        "        # sample from replay buffer\n",
        "        s, a, r, s_prime, done_mask = memory.sample(batch_size)\n",
        "        with tf.GradientTape() as tape:\n",
        "            q_out = q(s)  # s: [b, 4] ==> [b, 2], Q(s,a)\n",
        "            # pick up q-value according to indices; a: [b, 1] action, indices: [b, 1];\n",
        "            indices = tf.expand_dims(tf.range(a.shape[0]), axis=1)\n",
        "            indices = tf.concat([indices, a], axis=1)       # [b, 2]; for every sample in the batch, which action is selected\n",
        "            q_a = tf.gather_nd(q_out, indices) # [b], Q(s, a) for actions chosen\n",
        "            q_a = tf.expand_dims(q_a, axis=1) # [b]=> [b,1]\n",
        "            # max Q(s',a) from target net,  [b,4]=>[b,2]=>[b,1]\n",
        "            max_q_prime = tf.reduce_max(q_target(s_prime),axis=1,keepdims=True)\n",
        "            # Q(s,a_t) target value based on Bellman equation\n",
        "            target = r + gamma * max_q_prime * done_mask\n",
        "            # Loss of equation (1)\n",
        "            loss = huber(q_a, target)\n",
        "\n",
        "        # Update Q-Net by minimizing Bellman loss\n",
        "        grads = tape.gradient(loss, q.trainable_variables)\n",
        "        optimizer.apply_gradients(zip(grads, q.trainable_variables))"
      ],
      "execution_count": null,
      "outputs": []
    },
    {
      "cell_type": "code",
      "metadata": {
        "id": "zhGLIwiAYsQ-",
        "colab_type": "code",
        "colab": {}
      },
      "source": [
        "q = DQN()\n",
        "q_target = DQN()\n",
        "q.build(input_shape=(2,4))\n",
        "q_target.build(input_shape=(2,4))\n",
        "for src, dest in zip(q.variables, q_target.variables):\n",
        "    dest.assign(src)     # q weights ==> q-target weights\n",
        "memory = ReplayBuffer()\n",
        "\n",
        "print_interval = 20\n",
        "score = 0.0\n",
        "avg_score = []\n",
        "optimizer = keras.optimizers.Adam(lr=learning_rate)\n",
        "\n",
        "for n_epi in range(episodes):\n",
        "    # epsilon decay\n",
        "    epsilon = max(0.01, 0.08 - 0.01 * (n_epi / 200))\n",
        "    s = env.reset()       # s is intial obs after reset\n",
        "    for t in range(600):  # run one episode\n",
        "        a = q.get_action(s, epsilon)\n",
        "        s_prime, r, done, info = env.step(a)\n",
        "        done_mask = 0.0 if done else 1.0\n",
        "        memory.add_experience((s, a, r / 100.0, s_prime, done_mask))\n",
        "        s = s_prime\n",
        "        score += r  # total return\n",
        "        if done:\n",
        "            break\n",
        "\n",
        "    if memory.size() > 2000:  # train as soon as there are 2000 expriences\n",
        "        train(q, q_target, memory, optimizer)\n",
        "\n",
        "    if n_epi % print_interval == 0 and n_epi != 0:\n",
        "        for src, dest in zip(q.variables, q_target.variables):\n",
        "            dest.assign(src)  # Update Target Net\n",
        "        # print(\"# of episode :{}, avg score : {:.1f}, buffer size : {}, \" \\\n",
        "        #       \"epsilon : {:.1f}%\" \\\n",
        "        #       .format(n_epi, score / print_interval, memory.size(), epsilon * 100))\n",
        "        avg_score.append(score / print_interval)\n",
        "        score = 0.0\n",
        "env.close()\n"
      ],
      "execution_count": null,
      "outputs": []
    },
    {
      "cell_type": "code",
      "metadata": {
        "id": "Z3Peln-Ru0rl",
        "colab_type": "code",
        "colab": {
          "base_uri": "https://localhost:8080/",
          "height": 279
        },
        "outputId": "45eadeff-7d89-461a-d02c-9a83320b7b18"
      },
      "source": [
        "plt.plot(np.arange(len(avg_score)), avg_score)\n",
        "plt.plot(np.arange(len(avg_score)), avg_score, 's')\n",
        "plt.xlabel('epoch')\n",
        "plt.ylabel('avg score')\n",
        "plt.show()"
      ],
      "execution_count": null,
      "outputs": [
        {
          "output_type": "display_data",
          "data": {
            "image/png": "[encoded data removed]",
            "text/plain": [
              "<Figure size 432x288 with 1 Axes>"
            ]
          },
          "metadata": {
            "tags": [],
            "needs_background": "light"
          }
        }
      ]
    },
    {
      "cell_type": "code",
      "metadata": {
        "id": "Wt-Iln8jKQ29",
        "colab_type": "code",
        "colab": {}
      },
      "source": [
        ""
      ],
      "execution_count": null,
      "outputs": []
    }
  ]
}