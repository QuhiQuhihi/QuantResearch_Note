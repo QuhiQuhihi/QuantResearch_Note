{
  "nbformat": 4,
  "nbformat_minor": 0,
  "metadata": {
    "colab": {
      "name": "ppo.ipynb",
      "provenance": [],
      "collapsed_sections": [],
      "authorship_tag": "ABX9TyOPG23g9ISoTlhGTCWrBVV1",
      "include_colab_link": true
    },
    "kernelspec": {
      "name": "python3",
      "display_name": "Python 3"
    }
  },
  "cells": [
    {
      "cell_type": "markdown",
      "metadata": {
        "id": "view-in-github",
        "colab_type": "text"
      },
      "source": [
        "<a href=\"https://colab.research.google.com/github/letianzj/QuantResearch/blob/master/ml/ppo.ipynb\" target=\"_parent\"><img src=\"https://colab.research.google.com/assets/colab-badge.svg\" alt=\"Open In Colab\"/></a>"
      ]
    },
    {
      "cell_type": "markdown",
      "metadata": {
        "id": "JlNkxcEuDTVn",
        "colab_type": "text"
      },
      "source": [
        "## PPO CartPole\n",
        "\n",
        "Use PPO (Proximal Policy Optimization) to solve CartPole game.\n",
        "\n",
        "[OpenAI Gym CartPole](https://gym.openai.com/envs/CartPole-v0/) has four states, cart position, cart speed, pole angle, and pole speed. The actions are either going left or right. The objective is to keep pole from falling. Every move that doesn't lead to a fall gets reward 1.\n",
        "\n",
        "PPO is off-policy TD method. It re-uses old experiences by importance sampling. Inherit notations from [reinforce notebook](./reinforce.ipynb),\n",
        "\n",
        "$$\n",
        "\\begin{aligned}\n",
        "J(\\theta) &= E_{\\tau \\sim \\pi_{\\theta}(\\tau)}[R(\\tau)] \\\\\n",
        " &= \\sum_{t=1}^T E_{(s_t, a_t) \\sim \\pi_{\\theta}(s_t, a_t)}\\left[ r(s_t, a_t) \\right] \\\\\n",
        " &= \\sum_{t=1}^T E_{(s_t, a_t) \\sim \\pi_{\\theta'}(s_t, a_t)}\\left[ \\frac{\\pi_{\\theta}(s_t, a_t)}{\\pi_{\\theta'}(s_t, a_t)} r(s_t, a_t) \\right] \\\\\n",
        " &\\approx \\sum_{t=1}^T E_{(s_t, a_t) \\sim \\pi_{\\theta'}(s_t, a_t)}\\left[ \\frac{\\pi_{\\theta}(a_t|s_t)}{\\pi_{\\theta'}(a_t|s_t)} r(s_t, a_t) \\right] \\\\\n",
        "\\end{aligned}\n",
        "$$\n",
        "\n",
        "where last equation assumes $\\pi_{\\theta}(s_t) \\approx \\pi_{\\theta'}(s_t)$, or state $s_t$ has similar probability of occurrence under two policies.\n",
        "\n",
        "PPO improves TRPO (Trust Region Policy Optimization) by moving KL-Divergence condition from constraints to Lagrangian penalties in the objective function. KL-Divergence is a better measure than simple parameter distance.\n",
        "\n",
        "$$\n",
        "J_{PPO}^{\\theta'}(\\theta)=E_{(s_t, a_t) \\sim \\pi_{\\theta'}(s_t, a_t)}\\left[ \\frac{\\pi_{\\theta}(a_t|s_t)}{\\pi_{\\theta'}(a_t|s_t)} A^{\\theta'}(s_t, a_t) \\right] - \\beta KL(\\theta, \\theta')\n",
        "$$\n",
        "\n",
        "PPO2 replaces KL-Divergence by eplison clips to keep policies close.\n",
        "\n",
        "This notebook follows closely [here](https://github.com/dragen1860/Deep-Learning-with-TensorFlow-book/blob/master/ch14-%E5%BC%BA%E5%8C%96%E5%AD%A6%E4%B9%A0/ppo_tf_cartpole.py). Just added some comments for my own understanding.\n",
        "\n",
        "\n",
        "[Reference]\n",
        "* Sutton, Richard S., and Andrew G. Barto. Reinforcement learning: An introduction. MIT press, 2018.\n",
        "* [RL by David Silver](https://www.davidsilver.uk/teaching/)\n",
        "* [OpenAI Spinning Up](https://spinningup.openai.com/en/latest/algorithms/ppo.html)\n",
        "* [OpenAI Baseline](https://github.com/openai/baselines/tree/master/baselines/ppo2)\n",
        "* [Deep Learning with TensorFlow](https://github.com/dragen1860/Deep-Learning-with-TensorFlow-book)"
      ]
    },
    {
      "cell_type": "code",
      "metadata": {
        "id": "0lOf7OSWHOvv",
        "colab_type": "code",
        "colab": {}
      },
      "source": [
        "import os\n",
        "import numpy as np\n",
        "import matplotlib.pyplot as plt\n",
        "import gym\n",
        "from collections import namedtuple\n",
        "import random\n",
        "import tensorflow as tf\n",
        "from tensorflow import keras"
      ],
      "execution_count": 9,
      "outputs": []
    },
    {
      "cell_type": "code",
      "metadata": {
        "id": "xtBE-yWBHZZh",
        "colab_type": "code",
        "colab": {}
      },
      "source": [
        "env = gym.make('CartPole-v1')\n",
        "env.seed(1234)\n",
        "tf.random.set_seed(1234)\n",
        "np.random.seed(1234)"
      ],
      "execution_count": 10,
      "outputs": []
    },
    {
      "cell_type": "code",
      "metadata": {
        "id": "6aJ__wslg1Vm",
        "colab_type": "code",
        "colab": {}
      },
      "source": [
        "# Hyperparameters\n",
        "episodes = 500\n",
        "gamma = 0.98\n",
        "epsilon = 0.2\n",
        "batch_size = 32"
      ],
      "execution_count": 11,
      "outputs": []
    },
    {
      "cell_type": "code",
      "metadata": {
        "id": "jbLHauFqg2C5",
        "colab_type": "code",
        "colab": {}
      },
      "source": [
        "Transition = namedtuple('Transition', ['state', 'action', 'a_log_prob', 'reward', 'next_state'])\n",
        "\n",
        "class Actor(keras.Model):\n",
        "    def __init__(self):\n",
        "        super(Actor, self).__init__()\n",
        "        self.fc1 = keras.layers.Dense(100, kernel_initializer='he_normal')\n",
        "        self.fc2 = keras.layers.Dense(2, kernel_initializer='he_normal')\n",
        "\n",
        "    def call(self, inputs):\n",
        "        \"\"\"\n",
        "        input: s, output: pi(a|s)\n",
        "        \"\"\"\n",
        "        x = tf.nn.relu(self.fc1(inputs))\n",
        "        x = self.fc2(x)\n",
        "        x = tf.nn.softmax(x, axis=1)\n",
        "        return x\n",
        "\n",
        "class Critic(keras.Model):\n",
        "    def __init__(self):\n",
        "        super(Critic, self).__init__()\n",
        "        self.fc1 = keras.layers.Dense(100, kernel_initializer='he_normal')\n",
        "        self.fc2 = keras.layers.Dense(1, kernel_initializer='he_normal')\n",
        "\n",
        "    def call(self, inputs):\n",
        "        \"\"\"\n",
        "        input: s, output: v(s)\n",
        "        \"\"\"\n",
        "        x = tf.nn.relu(self.fc1(inputs))\n",
        "        x = self.fc2(x)\n",
        "        return x"
      ],
      "execution_count": 12,
      "outputs": []
    },
    {
      "cell_type": "code",
      "metadata": {
        "id": "2xfhtwoNhHEu",
        "colab_type": "code",
        "colab": {}
      },
      "source": [
        "class PPO2():\n",
        "    def __init__(self):\n",
        "        super(PPO2, self).__init__()\n",
        "        self.actor = Actor()\n",
        "        self.critic = Critic()\n",
        "        self.buffer = []              # experience buffer\n",
        "        self.actor_optimizer = keras.optimizers.Adam(1e-3)\n",
        "        self.critic_optimizer = keras.optimizers.Adam(3e-3)\n",
        "\n",
        "    def select_action(self, s):\n",
        "        s = tf.constant(s, dtype=tf.float32)         # [4]\n",
        "        s = tf.expand_dims(s, axis=0)       # [4] => [1,4]\n",
        "        prob = self.actor(s)           # [1, 2]\n",
        "        a = tf.random.categorical(tf.math.log(prob), 1)[0]    # [1, 1] ==> [1]\n",
        "        a = int(a)  # Tensor ==> int\n",
        "        return a, float(prob[0][a])           # a, prob(a|s)\n",
        "\n",
        "    def get_value(self, s):\n",
        "        s = tf.constant(s, dtype=tf.float32)       # [4]\n",
        "        s = tf.expand_dims(s, axis=0)      # [4] => [1,4]\n",
        "        v = self.critic(s)[0]           # [1, 1] ==> [1]\n",
        "        return float(v)                 # v(s)\n",
        "\n",
        "    def store_transition(self, transition):\n",
        "        # store experience\n",
        "        self.buffer.append(transition)\n",
        "\n",
        "    def optimize(self):\n",
        "        # convert sample to tensor\n",
        "        state = tf.constant([t.state for t in self.buffer], dtype=tf.float32)         # (buff, 4)\n",
        "        action = tf.constant([t.action for t in self.buffer], dtype=tf.int32)         # (buff,)\n",
        "        action = tf.reshape(action,[-1,1])                             # (buff,) ==> (buff, 1)\n",
        "        reward = [t.reward for t in self.buffer]\n",
        "        old_action_log_prob = tf.constant([t.a_log_prob for t in self.buffer], dtype=tf.float32)    # (buff,)\n",
        "        old_action_log_prob = tf.reshape(old_action_log_prob, [-1,1])                 # (buff, ) ==> (buff, 1)\n",
        "        # rewards to go, assuming one MC\n",
        "        R = 0\n",
        "        Rs = []\n",
        "        for r in reward[::-1]:\n",
        "            R = r + gamma * R\n",
        "            Rs.insert(0, R)\n",
        "        Rs = tf.constant(Rs, dtype=tf.float32)                # (buff,)\n",
        "        # Reuse buffer roughly 10 times\n",
        "        for _ in range(round(10*len(self.buffer)/batch_size)):\n",
        "            # sample batch size\n",
        "            index = np.random.choice(np.arange(len(self.buffer)), batch_size, replace=False)   # permutation\n",
        "            with tf.GradientTape() as tape1, tf.GradientTape() as tape2:\n",
        "                v_target = tf.expand_dims(tf.gather(Rs, index, axis=0), axis=1)      # [b,1]\n",
        "                v = self.critic(tf.gather(state, index, axis=0))              # baseline, [b,4] ==> [b, 1]\n",
        "                delta = v_target - v                   # advantage, [b, 1]\n",
        "                advantage = tf.stop_gradient(delta)     # freeze advantage in optimizing PPO2 loss, [b, 1]\n",
        "                # retrieve pi(at|st)\n",
        "                a = tf.gather(action, index, axis=0)         # [b, 1]\n",
        "                pi = self.actor(tf.gather(state, index, axis=0))        # [b, 4] ==> [b, 2]\n",
        "                indices = tf.expand_dims(tf.range(a.shape[0]), axis=1)        # [b, 1]\n",
        "                indices = tf.concat([indices, a], axis=1)               # [32, 2]\n",
        "                pi_a = tf.gather_nd(pi, indices)    # pi(at|st), [b]\n",
        "                pi_a = tf.expand_dims(pi_a, axis=1)  # [b]=> [b,1] \n",
        "                # importance sampling\n",
        "                ratio = (pi_a / tf.gather(old_action_log_prob, index, axis=0))   # [b, 1]\n",
        "                surr1 = ratio * advantage                  # [b, 1]\n",
        "                surr2 = tf.clip_by_value(ratio, 1 - epsilon, 1 + epsilon) * advantage   # clipped, [b, 1]\n",
        "                policy_loss = -tf.reduce_mean(tf.minimum(surr1, surr2))   # PPO2 loss function\n",
        "                # v(s) close to MC rewards\n",
        "                value_loss = keras.losses.MSE(v_target, v)             # (b,)\n",
        "            # optimize actor\n",
        "            grads = tape1.gradient(policy_loss, self.actor.trainable_variables)\n",
        "            self.actor_optimizer.apply_gradients(zip(grads, self.actor.trainable_variables))\n",
        "            # optimize critic\n",
        "            grads = tape2.gradient(value_loss, self.critic.trainable_variables)\n",
        "            self.critic_optimizer.apply_gradients(zip(grads, self.critic.trainable_variables))\n",
        "\n",
        "        self.buffer = []  # clear buffer"
      ],
      "execution_count": 13,
      "outputs": []
    },
    {
      "cell_type": "code",
      "metadata": {
        "id": "zhGLIwiAYsQ-",
        "colab_type": "code",
        "colab": {
          "base_uri": "https://localhost:8080/",
          "height": 442
        },
        "outputId": "9fc347d1-e6fa-4e23-8e7e-4d3b6dabdcde"
      },
      "source": [
        "agent = PPO2()\n",
        "returns = [] # average returns over 20 episodes\n",
        "total = 0 # total returns\n",
        "for i_epoch in range(episodes):\n",
        "    state = env.reset() # reset to intial state\n",
        "    for t in range(500): # maximum 500 steps\n",
        "        action, action_prob = agent.select_action(state)\n",
        "        next_state, reward, done, _ = env.step(action)\n",
        "\n",
        "        trans = Transition(state, action, action_prob, reward, next_state)\n",
        "        agent.store_transition(trans)\n",
        "\n",
        "        state = next_state\n",
        "        total += reward\n",
        "        if done:\n",
        "            if len(agent.buffer) >= batch_size:\n",
        "                agent.optimize() # train agent\n",
        "            break\n",
        "\n",
        "    if i_epoch % 20 == 0:\n",
        "        returns.append(total/20)\n",
        "        total = 0\n",
        "        print(i_epoch, returns[-1])"
      ],
      "execution_count": 14,
      "outputs": [
        {
          "output_type": "stream",
          "text": [
            "0 0.6\n",
            "20 38.25\n",
            "40 56.3\n",
            "60 141.85\n",
            "80 264.65\n",
            "100 415.75\n",
            "120 426.4\n",
            "140 442.7\n",
            "160 446.25\n",
            "180 448.15\n",
            "200 472.2\n",
            "220 410.1\n",
            "240 423.1\n",
            "260 473.75\n",
            "280 478.4\n",
            "300 472.65\n",
            "320 412.25\n",
            "340 490.5\n",
            "360 462.05\n",
            "380 390.15\n",
            "400 368.2\n",
            "420 357.0\n",
            "440 469.85\n",
            "460 500.0\n",
            "480 474.75\n"
          ],
          "name": "stdout"
        }
      ]
    },
    {
      "cell_type": "code",
      "metadata": {
        "id": "Z3Peln-Ru0rl",
        "colab_type": "code",
        "colab": {
          "base_uri": "https://localhost:8080/",
          "height": 279
        },
        "outputId": "e6020309-4a1e-4335-88df-6697edeb16cb"
      },
      "source": [
        "plt.plot(np.arange(len(returns))*20, returns)\n",
        "plt.plot(np.arange(len(returns))*20, returns, 's')\n",
        "plt.xlabel('epoch')\n",
        "plt.ylabel('total return')\n",
        "plt.show()"
      ],
      "execution_count": 16,
      "outputs": [
        {
          "output_type": "display_data",
          "data": {
            "image/png": "[encoded data removed]",
            "text/plain": [
              "<Figure size 432x288 with 1 Axes>"
            ]
          },
          "metadata": {
            "tags": [],
            "needs_background": "light"
          }
        }
      ]
    },
    {
      "cell_type": "code",
      "metadata": {
        "id": "Wt-Iln8jKQ29",
        "colab_type": "code",
        "colab": {}
      },
      "source": [
        ""
      ],
      "execution_count": null,
      "outputs": []
    }
  ]
}