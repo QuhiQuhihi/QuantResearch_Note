{
  "nbformat": 4,
  "nbformat_minor": 0,
  "metadata": {
    "colab": {
      "name": "a3c.ipynb",
      "provenance": [],
      "collapsed_sections": [],
      "authorship_tag": "ABX9TyPABBzUO8+ILyBRYxd7+Fw2",
      "include_colab_link": true
    },
    "kernelspec": {
      "name": "python3",
      "display_name": "Python 3"
    }
  },
  "cells": [
    {
      "cell_type": "markdown",
      "metadata": {
        "id": "view-in-github",
        "colab_type": "text"
      },
      "source": [
        "<a href=\"https://colab.research.google.com/github/letianzj/QuantResearch/blob/master/ml/a3c.ipynb\" target=\"_parent\"><img src=\"https://colab.research.google.com/assets/colab-badge.svg\" alt=\"Open In Colab\"/></a>"
      ]
    },
    {
      "cell_type": "markdown",
      "metadata": {
        "id": "JlNkxcEuDTVn",
        "colab_type": "text"
      },
      "source": [
        "## A3C CartPole\n",
        "\n",
        "Use A3C to solve CartPole game.\n",
        "\n",
        "[OpenAI Gym CartPole](https://gym.openai.com/envs/CartPole-v0/) has four states, cart position, cart speed, pole angle, and pole speed. The actions are either going left or right. The objective is to keep pole from falling. Every move that doesn't lead to a fall gets reward 1.\n",
        "\n",
        "A3C (Asynchronous Advantage Actor-Critic) is the asynchronous version of A2C proposed by DeepMind. Each worker pulls model parameters from glboal network and then feed updated parameters back after local training. Actor learns policy network while critic learns value network, and\n",
        "\n",
        "$$\n",
        "\\begin{aligned}\n",
        "\\frac{\\partial J}{\\partial \\theta}&=E_{\\tau \\sim \\pi_{\\theta}(\\tau)} \\left[\\sum_{t=1}^{T} \\frac{\\partial}{\\partial\\theta}log \\left( \\pi_{\\theta}(a_t|s_t) \\right) A^{\\pi}(s_t, a_t)  \\right] \\\\\n",
        "A^{\\pi}(s_t,a_t) &= R(\\tau) - V^{\\pi}(s_t)\n",
        "\\end{aligned}\n",
        "$$\n",
        "\n",
        "The losses care computed respectively as,\n",
        "\n",
        "$$\n",
        "\\begin{aligned}\n",
        "ValueLoss &= \\sum (R - V(s))^2 \\\\\n",
        "PolicyLoss &= -log(\\pi(s))*A(s)\n",
        "\\end{aligned}\n",
        "$$\n",
        "\n",
        "This notebook follows closely [here](https://blog.tensorflow.org/2018/07/deep-reinforcement-learning-keras-eager-execution.html) and [here](https://github.com/dragen1860/Deep-Learning-with-TensorFlow-book/blob/master/ch14-%E5%BC%BA%E5%8C%96%E5%AD%A6%E4%B9%A0/a3c_tf_cartpole.py).\n",
        "\n",
        "__Reference__\n",
        "* Sutton, Richard S., and Andrew G. Barto. Reinforcement learning: An introduction. MIT press, 2018.\n",
        "* [RL by David Silver](https://www.davidsilver.uk/teaching/)\n",
        "* [OpenAI Spinning Up](https://spinningup.openai.com/en/latest/)\n",
        "* [OpenAI Baseline](https://github.com/openai/baselines/tree/master/baselines/a2c)\n",
        "* [Deep Learning with TensorFlow](https://github.com/dragen1860/Deep-Learning-with-TensorFlow-book)\n",
        "* [Tensorflow Blog](https://blog.tensorflow.org/2018/07/deep-reinforcement-learning-keras-eager-execution.html)"
      ]
    },
    {
      "cell_type": "code",
      "metadata": {
        "id": "0lOf7OSWHOvv",
        "colab_type": "code",
        "colab": {}
      },
      "source": [
        "import os\n",
        "import gym\n",
        "import numpy as np\n",
        "import multiprocessing\n",
        "import threading\n",
        "from queue import Queue\n",
        "import matplotlib.pyplot as plt\n",
        "import tensorflow as tf\n",
        "from tensorflow import keras\n",
        "\n",
        "tf.random.set_seed(1231)\n",
        "np.random.seed(1231)"
      ],
      "execution_count": 84,
      "outputs": []
    },
    {
      "cell_type": "code",
      "metadata": {
        "id": "DBkjnGo3gQVJ",
        "colab_type": "code",
        "colab": {}
      },
      "source": [
        "class ActorCritic(keras.Model):\n",
        "    def __init__(self, state_size, action_size):\n",
        "        super(ActorCritic, self).__init__()\n",
        "        self.state_size = state_size\n",
        "        self.action_size = action_size\n",
        "        # Actor\n",
        "        self.dense1 = keras.layers.Dense(128, activation='relu')\n",
        "        self.policy_logits = keras.layers.Dense(action_size)\n",
        "        # Critic\n",
        "        self.dense2 = keras.layers.Dense(128, activation='relu')\n",
        "        self.values = keras.layers.Dense(1)\n",
        "\n",
        "    def call(self, inputs):\n",
        "        # input s, output Pi(a|s), shape=(b, 2)\n",
        "        x = self.dense1(inputs)\n",
        "        logits = self.policy_logits(x)     \n",
        "        # input s, output v(s), shape=(b,)\n",
        "        v = self.dense2(inputs)\n",
        "        values = self.values(v)             \n",
        "        return logits, values"
      ],
      "execution_count": 85,
      "outputs": []
    },
    {
      "cell_type": "code",
      "metadata": {
        "id": "Q9Qlv_LOg-CB",
        "colab_type": "code",
        "colab": {}
      },
      "source": [
        "class Memory:\n",
        "    def __init__(self):\n",
        "        self.states = []\n",
        "        self.actions = []\n",
        "        self.rewards = []\n",
        "\n",
        "    def store(self, state, action, reward):\n",
        "        self.states.append(state)\n",
        "        self.actions.append(action)\n",
        "        self.rewards.append(reward)\n",
        "\n",
        "    def clear(self):\n",
        "        self.states = []\n",
        "        self.actions = []\n",
        "        self.rewards = []"
      ],
      "execution_count": 86,
      "outputs": []
    },
    {
      "cell_type": "code",
      "metadata": {
        "id": "JHQetx3pgEd2",
        "colab_type": "code",
        "colab": {}
      },
      "source": [
        "class Worker(threading.Thread): \n",
        "    def __init__(self,  server, opt, result_queue, idx):\n",
        "        super(Worker, self).__init__()\n",
        "        self.result_queue = result_queue    # shared queue to track results\n",
        "        self.server = server       # global network\n",
        "        self.opt = opt             # global optimizer\n",
        "        self.client = ActorCritic(4, 2)      # local agent\n",
        "        self.worker_idx = idx     # worker id\n",
        "        self.env = gym.make('CartPole-v1').unwrapped\n",
        "        self.ep_loss = 0.0\n",
        "\n",
        "    def run(self): \n",
        "        mem = Memory() # local memory queue for local experiences\n",
        "        for epi_counter in range(500): # run one episode\n",
        "            current_state = self.env.reset()\n",
        "            mem.clear()\n",
        "            ep_reward = 0.\n",
        "            ep_steps = 0  \n",
        "            done = False\n",
        "            while not done:\n",
        "                # (1, 4) ==> (1, 2), logits of Pi(a|s)\n",
        "                logits, _ = self.client(tf.constant(current_state.reshape([1,-1]), dtype=tf.float32))\n",
        "                probs = tf.nn.softmax(logits)          # logits ==> prob\n",
        "                # random action according to \\pi\n",
        "                action = np.random.choice(np.arange(2), p=probs.numpy()[0])\n",
        "                new_state, reward, done, _ = self.env.step(action)\n",
        "                ep_reward += reward\n",
        "                mem.store(current_state, action, reward) # save experience\n",
        "                ep_steps += 1\n",
        "                current_state = new_state\n",
        "\n",
        "                if ep_steps >= 500 or done: # maximum 500 steps; or finished one episode\n",
        "                    # optimize total loss\n",
        "                    with tf.GradientTape() as tape:\n",
        "                        total_loss = self.compute_loss(done, new_state, mem) \n",
        "                    grads = tape.gradient(total_loss, self.client.trainable_weights)\n",
        "                    # ATTENTION: use global optimizer to update global network with the gradients\n",
        "                    self.opt.apply_gradients(zip(grads, self.server.trainable_weights))\n",
        "\n",
        "                    # ATTENTION: fetch global parameters to local agent\n",
        "                    self.client.set_weights(self.server.get_weights())\n",
        "                    mem.clear() # clear memory of this episode \n",
        "                    # save returns\n",
        "                    self.result_queue.put(ep_reward)\n",
        "                    # print(self.worker_idx, ep_reward)\n",
        "                    break\n",
        "        self.result_queue.put(None) # finish worker thread\n",
        "\n",
        "    def compute_loss(self,\n",
        "                     done,\n",
        "                     new_state,\n",
        "                     memory,\n",
        "                     gamma=0.99):\n",
        "        if done:\n",
        "            reward_sum = 0. # terminal, v(done)=0\n",
        "        else:\n",
        "            reward_sum = self.client(tf.constant(new_state[None, :],\n",
        "                                     dtype=tf.float32))[-1].numpy()[0]\n",
        "        # rewards-to-go along the trajectory\n",
        "        discounted_rewards = []\n",
        "        for reward in memory.rewards[::-1]:  # reverse buffer r\n",
        "            reward_sum = reward + gamma * reward_sum\n",
        "            discounted_rewards.append(reward_sum)\n",
        "        discounted_rewards.reverse()\n",
        "        # state ==> Pi(a|s) and v(s) for the policy\n",
        "        logits, values = self.client(tf.constant(np.vstack(memory.states), dtype=tf.float32))\n",
        "        # advantage = R() - v(s)\n",
        "        advantage = tf.constant(np.array(discounted_rewards)[:, None], dtype=tf.float32) - values\n",
        "        # Critic: v(s) close to R(), or minimize advantage\n",
        "        value_loss = advantage ** 2\n",
        "        # Calculate policy loss\n",
        "        policy = tf.nn.softmax(logits)       # logits of prob(a|s)\n",
        "        policy_loss = tf.nn.sparse_softmax_cross_entropy_with_logits(labels=memory.actions, logits=logits)\n",
        "        # stop v net when calculating policy net\n",
        "        policy_loss = policy_loss * tf.stop_gradient(advantage)\n",
        "        # Entropy Bonus\n",
        "        entropy = tf.nn.softmax_cross_entropy_with_logits(labels=policy, logits=logits)\n",
        "        policy_loss = policy_loss - 0.01 * entropy\n",
        "        # total_loss = value loss + policy loss\n",
        "        total_loss = tf.reduce_mean((0.5 * value_loss + policy_loss))\n",
        "        return total_loss"
      ],
      "execution_count": 87,
      "outputs": []
    },
    {
      "cell_type": "code",
      "metadata": {
        "id": "xKptU0h8HnFM",
        "colab_type": "code",
        "colab": {
          "base_uri": "https://localhost:8080/",
          "height": 68
        },
        "outputId": "767fcf0b-77d8-4bee-8494-406697980ad6"
      },
      "source": [
        "opt = keras.optimizers.Adam(1e-3)\n",
        "server = ActorCritic(4, 2)\n",
        "server(tf.random.normal((2, 4)))\n",
        "\n",
        "# train\n",
        "res_queue = Queue()\n",
        "workers = [Worker(server, opt, res_queue, i) for i in range(multiprocessing.cpu_count())]\n",
        "\n",
        "for i, worker in enumerate(workers):\n",
        "  print(\"Starting worker {}\".format(i))\n",
        "  worker.start()\n",
        "\n",
        "returns = []      #total returns\n",
        "while True:\n",
        "    reward = res_queue.get()\n",
        "    if reward is not None:\n",
        "        returns.append(reward)\n",
        "    else: # end\n",
        "        break\n",
        "\n",
        "[w.join() for w in workers]    # wait for thread join"
      ],
      "execution_count": 88,
      "outputs": [
        {
          "output_type": "stream",
          "text": [
            "Starting worker 0\n",
            "Starting worker 1\n"
          ],
          "name": "stdout"
        },
        {
          "output_type": "execute_result",
          "data": {
            "text/plain": [
              "[None, None]"
            ]
          },
          "metadata": {
            "tags": []
          },
          "execution_count": 88
        }
      ]
    },
    {
      "cell_type": "code",
      "metadata": {
        "id": "NSz4Nd4iERFR",
        "colab_type": "code",
        "colab": {
          "base_uri": "https://localhost:8080/",
          "height": 279
        },
        "outputId": "ea2cb755-30ba-4115-f32f-7129aaced7aa"
      },
      "source": [
        "plt.plot(np.arange(len(returns)), returns)\n",
        "plt.plot(np.arange(len(returns)), returns, 's')\n",
        "plt.xlabel('epoch')\n",
        "plt.ylabel('total return')\n",
        "plt.show()"
      ],
      "execution_count": 89,
      "outputs": [
        {
          "output_type": "display_data",
          "data": {
            "image/png": "[encoded data removed]",
            "text/plain": [
              "<Figure size 432x288 with 1 Axes>"
            ]
          },
          "metadata": {
            "tags": [],
            "needs_background": "light"
          }
        }
      ]
    },
    {
      "cell_type": "code",
      "metadata": {
        "id": "_jX5SdAmucMG",
        "colab_type": "code",
        "colab": {}
      },
      "source": [
        ""
      ],
      "execution_count": null,
      "outputs": []
    }
  ]
}