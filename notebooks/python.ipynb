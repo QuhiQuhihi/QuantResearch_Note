{
 "cells": [
  {
   "cell_type": "markdown",
   "metadata": {
    "colab_type": "text",
    "id": "view-in-github"
   },
   "source": [
    "<a href=\"https://colab.research.google.com/github/letianzj/QuantResearch/blob/master/notebooks/python.ipynb\" target=\"_parent\"><img src=\"https://colab.research.google.com/assets/colab-badge.svg\" alt=\"Open In Colab\"/></a>"
   ]
  },
  {
   "cell_type": "markdown",
   "metadata": {
    "colab_type": "text",
    "id": "d6lqkX0A-ihT"
   },
   "source": [
    "Some advanced topics of Python\n",
    "\n",
    "- [Numpy](#numpy)\n",
    "- [Pandas](#pandas)\n",
    "- [Other](#other)\n",
    "- [Reference](#reference)"
   ]
  },
  {
   "cell_type": "code",
   "execution_count": 1,
   "metadata": {},
   "outputs": [],
   "source": [
    "%matplotlib inline\n",
    "import numpy as np\n",
    "import pandas as pd"
   ]
  },
  {
   "cell_type": "markdown",
   "metadata": {
    "colab": {},
    "colab_type": "code",
    "id": "LkfIlw2MA-25"
   },
   "source": [
    "## Numpy <a name=\"numpy\"></a>\n",
    "\n",
    "\n",
    "Python integer is not a pure integer. The PyOject_HEAD contains a reference count, the type and size information.\n",
    "\n",
    "![image](./img/cint_vs_pyint.png)\n",
    "\n",
    "\n",
    "Similarly, a Python list is more than just a list. The items is a pointer to a block of pointers, each of which in turn points to a full Python object like the Python integer. It is called dynamic-type. In contrast, numpy array is of fixed type where a gorup of homogeneous data are saved in a contiguous segment. \n",
    "\n",
    "\n",
    "![image](./img/array_vs_list.png)\n",
    "\n",
    "\n",
    "- [Basic Attributes](#numpy_attributes)\n",
    "- [Indexing and Slicing](#numpy_indexing)\n",
    "- [ufunc](#numpy_ufunc)"
   ]
  },
  {
   "cell_type": "markdown",
   "metadata": {},
   "source": [
    "### Basic Attributes <a name=\"numpy_attributes\"></a>"
   ]
  },
  {
   "cell_type": "code",
   "execution_count": 2,
   "metadata": {},
   "outputs": [
    {
     "data": {
      "text/plain": [
       "array([[1, 2],\n",
       "       [1, 2],\n",
       "       [1, 2]])"
      ]
     },
     "execution_count": 2,
     "metadata": {},
     "output_type": "execute_result"
    }
   ],
   "source": [
    "x = np.full((3, 2), [1, 2], dtype=np.int32)\n",
    "x"
   ]
  },
  {
   "cell_type": "code",
   "execution_count": 3,
   "metadata": {},
   "outputs": [
    {
     "name": "stdout",
     "output_type": "stream",
     "text": [
      "(3, 2) 6 4 (8, 4)\n",
      "(2192347358208, False)\n"
     ]
    }
   ],
   "source": [
    "# 3 rows and 2 columns; size = 2x3 = 6; each int32 item has 4 bytes or 4x8=32bits\n",
    "# Jump 2 items or 2x4=8 bytes to the next row; Jump 1 item or 4 bytes to the next column\n",
    "print(x.shape, x.size, x.itemsize, x.strides)\n",
    "print(x.__array_interface__['data'])         # memory address"
   ]
  },
  {
   "cell_type": "code",
   "execution_count": 4,
   "metadata": {},
   "outputs": [
    {
     "name": "stdout",
     "output_type": "stream",
     "text": [
      "(2, 3) 6 4 (12, 4)\n",
      "(2192347358208, False)\n",
      "(2192347358208, False)\n"
     ]
    }
   ],
   "source": [
    "# A reshape does not make a copy; it is a view by altering shape and strides\n",
    "y = x.reshape(2,3)\n",
    "print(y.shape, y.size, y.itemsize, y.strides)\n",
    "print(y.__array_interface__['data'])\n",
    "# So is a transpose\n",
    "print((x.T).__array_interface__['data'])"
   ]
  },
  {
   "cell_type": "code",
   "execution_count": 5,
   "metadata": {},
   "outputs": [
    {
     "name": "stdout",
     "output_type": "stream",
     "text": [
      "(6,) 6 4 (4,)\n",
      "(2192347358240, False)\n"
     ]
    }
   ],
   "source": [
    "# Numpy will force a copy if it becomes non-contiguous.\n",
    "xt_flat = (x.T).reshape(6,)\n",
    "print(xt_flat.shape, xt_flat.size, xt_flat.itemsize, xt_flat.strides)\n",
    "print(xt_flat.__array_interface__['data'])"
   ]
  },
  {
   "cell_type": "markdown",
   "metadata": {},
   "source": [
    "### Indexing and Slicing<a name=\"numpy_indexing\"></a>"
   ]
  },
  {
   "cell_type": "code",
   "execution_count": 6,
   "metadata": {},
   "outputs": [
    {
     "name": "stdout",
     "output_type": "stream",
     "text": [
      "1\n"
     ]
    }
   ],
   "source": [
    "# indexing\n",
    "print(x[0,0])"
   ]
  },
  {
   "cell_type": "code",
   "execution_count": 7,
   "metadata": {},
   "outputs": [
    {
     "name": "stdout",
     "output_type": "stream",
     "text": [
      "2192347358208 2192347358208\n",
      "[[10  2]\n",
      " [ 1  2]\n",
      " [ 1  2]]\n",
      "[[10  2]\n",
      " [ 1  2]\n",
      " [ 1  2]]\n"
     ]
    }
   ],
   "source": [
    "# slicing x[start:stop:step] is a non-copy view; by modifying the shape and strides\n",
    "y = x[0:2, 0]\n",
    "print(y.__array_interface__['data'][0], x.__array_interface__['data'][0])   # same memory address\n",
    "y[0] = 10\n",
    "print(x)    # x changes\n",
    "y = np.array([5, 5])  # y points to another array, so x does not change\n",
    "print(x)"
   ]
  },
  {
   "cell_type": "code",
   "execution_count": 8,
   "metadata": {},
   "outputs": [
    {
     "data": {
      "text/plain": [
       "array([2, 0])"
      ]
     },
     "execution_count": 8,
     "metadata": {},
     "output_type": "execute_result"
    }
   ],
   "source": [
    "# Boolean mask\n",
    "np.sum(x < 2, axis=0)"
   ]
  },
  {
   "cell_type": "code",
   "execution_count": 9,
   "metadata": {},
   "outputs": [
    {
     "name": "stdout",
     "output_type": "stream",
     "text": [
      "[2 1 1]\n",
      "[[10  2]\n",
      " [ 1  2]\n",
      " [ 1  2]]\n"
     ]
    }
   ],
   "source": [
    "# fancy indexing\n",
    "row = np.array([0, 1, 2])\n",
    "col = np.array([1, 0, 0])\n",
    "y = x[row, col]\n",
    "print(y)     # three elements: (0,1), (1,0), (2,0)\n",
    "# fancy indexing returns a copy\n",
    "y[2] = 5\n",
    "print(x)       # x does not change"
   ]
  },
  {
   "cell_type": "markdown",
   "metadata": {},
   "source": [
    "### ufunc<a name=\"numpy_ufunc\"></a>\n",
    "\n",
    "Python loop is interpretive therefore slow. By using NumPy's universal functions (ufuncs), you claim that the loop can be vectorized and pushed into the compiled layer."
   ]
  },
  {
   "cell_type": "code",
   "execution_count": 10,
   "metadata": {},
   "outputs": [
    {
     "name": "stdout",
     "output_type": "stream",
     "text": [
      "96.1 ms ± 3.33 ms per loop (mean ± std. dev. of 7 runs, 10 loops each)\n",
      "1.02 ms ± 34.4 µs per loop (mean ± std. dev. of 7 runs, 1000 loops each)\n"
     ]
    }
   ],
   "source": [
    "big_array = np.random.rand(1_000_000)\n",
    "%timeit sum(big_array)\n",
    "%timeit np.sum(big_array)"
   ]
  },
  {
   "cell_type": "code",
   "execution_count": 11,
   "metadata": {},
   "outputs": [
    {
     "data": {
      "text/plain": [
       "array([[11.,  3.],\n",
       "       [ 2.,  3.],\n",
       "       [ 2.,  3.]])"
      ]
     },
     "execution_count": 11,
     "metadata": {},
     "output_type": "execute_result"
    }
   ],
   "source": [
    "# broadcasting\n",
    "y = np.ones((3,1))\n",
    "x+y     # y is broadcasted"
   ]
  },
  {
   "cell_type": "markdown",
   "metadata": {},
   "source": [
    "ufunc advanced: aggregation\n",
    "\n",
    "![image](./img/map_filter_reduce.jpg)"
   ]
  },
  {
   "cell_type": "code",
   "execution_count": 12,
   "metadata": {},
   "outputs": [
    {
     "name": "stdout",
     "output_type": "stream",
     "text": [
      "[1, 4, 9, 16, 25]\n",
      "[ 1  4  9 16 25]\n"
     ]
    }
   ],
   "source": [
    "# map\n",
    "def square(x):\n",
    "    return x*x\n",
    "\n",
    "x = [1, 2, 3, 4, 5]\n",
    "print(list(map(square, x)))\n",
    "\n",
    "vfunc = np.vectorize(square)\n",
    "print(vfunc(x))"
   ]
  },
  {
   "cell_type": "code",
   "execution_count": 13,
   "metadata": {},
   "outputs": [
    {
     "name": "stdout",
     "output_type": "stream",
     "text": [
      "[2, 4]\n",
      "[2 4]\n"
     ]
    }
   ],
   "source": [
    "# filter\n",
    "def check_even(number):\n",
    "    if number % 2 == 0:\n",
    "          return True  \n",
    "\n",
    "    return False\n",
    "\n",
    "even_numbers_iterator = filter(check_even, x)\n",
    "print(list(even_numbers_iterator))\n",
    "\n",
    "x = np.array(x)\n",
    "mask = x%2 ==0\n",
    "print(x[mask])"
   ]
  },
  {
   "cell_type": "code",
   "execution_count": 14,
   "metadata": {},
   "outputs": [
    {
     "data": {
      "text/plain": [
       "15"
      ]
     },
     "execution_count": 14,
     "metadata": {},
     "output_type": "execute_result"
    }
   ],
   "source": [
    "# reduce\n",
    "np.add.reduce(x)"
   ]
  },
  {
   "cell_type": "markdown",
   "metadata": {},
   "source": [
    "## Pandas <a name=\"pandas\"></a>\n",
    "\n",
    "Pandas Series is an indexed numpy array. Index is immutable and ordered (but not necessarily sorted).\n",
    "\n",
    "DataFrame consists of multiple column-oriented series that share an index. Each column has a dtype.\n",
    "\n",
    "- [Grouping](#pandas_grouping)\n",
    "- [Apply](#pandas_apply)\n",
    "- [Merge](#pandas_merge)"
   ]
  },
  {
   "cell_type": "code",
   "execution_count": 52,
   "metadata": {},
   "outputs": [
    {
     "data": {
      "text/html": [
       "<div>\n",
       "<style scoped>\n",
       "    .dataframe tbody tr th:only-of-type {\n",
       "        vertical-align: middle;\n",
       "    }\n",
       "\n",
       "    .dataframe tbody tr th {\n",
       "        vertical-align: top;\n",
       "    }\n",
       "\n",
       "    .dataframe thead th {\n",
       "        text-align: right;\n",
       "    }\n",
       "</style>\n",
       "<table border=\"1\" class=\"dataframe\">\n",
       "  <thead>\n",
       "    <tr style=\"text-align: right;\">\n",
       "      <th></th>\n",
       "      <th>P</th>\n",
       "      <th>S</th>\n",
       "      <th>Sym</th>\n",
       "    </tr>\n",
       "  </thead>\n",
       "  <tbody>\n",
       "    <tr>\n",
       "      <th>2020-01-01 09:30:00.000000002-05:00</th>\n",
       "      <td>10</td>\n",
       "      <td>94</td>\n",
       "      <td>AAPL</td>\n",
       "    </tr>\n",
       "    <tr>\n",
       "      <th>2020-01-01 09:30:00.000000003-05:00</th>\n",
       "      <td>91</td>\n",
       "      <td>43</td>\n",
       "      <td>AAPL</td>\n",
       "    </tr>\n",
       "    <tr>\n",
       "      <th>2020-01-01 09:30:00.000000004-05:00</th>\n",
       "      <td>63</td>\n",
       "      <td>31</td>\n",
       "      <td>AAPL</td>\n",
       "    </tr>\n",
       "    <tr>\n",
       "      <th>2020-01-01 09:30:00.000000005-05:00</th>\n",
       "      <td>20</td>\n",
       "      <td>70</td>\n",
       "      <td>AMZN</td>\n",
       "    </tr>\n",
       "    <tr>\n",
       "      <th>2020-01-01 09:30:00.000000006-05:00</th>\n",
       "      <td>9</td>\n",
       "      <td>60</td>\n",
       "      <td>AAPL</td>\n",
       "    </tr>\n",
       "  </tbody>\n",
       "</table>\n",
       "</div>"
      ],
      "text/plain": [
       "                                      P   S   Sym\n",
       "2020-01-01 09:30:00.000000002-05:00  10  94  AAPL\n",
       "2020-01-01 09:30:00.000000003-05:00  91  43  AAPL\n",
       "2020-01-01 09:30:00.000000004-05:00  63  31  AAPL\n",
       "2020-01-01 09:30:00.000000005-05:00  20  70  AMZN\n",
       "2020-01-01 09:30:00.000000006-05:00   9  60  AAPL"
      ]
     },
     "execution_count": 52,
     "metadata": {},
     "output_type": "execute_result"
    }
   ],
   "source": [
    "np.random.seed(0)\n",
    "df_orders = pd.DataFrame(np.random.randint(0,100,size=(100, 4)), columns=['BS', 'B', 'O', 'OS'])\n",
    "df_orders['Sym'] = np.random.choice(['AAPL', 'AMZN'], 100, replace=True)\n",
    "df_orders.index = pd.date_range(\"2020-01-01 09:30:00\", periods=100, freq='ns', tz='US/Eastern')\n",
    "\n",
    "df_trades = pd.DataFrame(np.random.randint(0,100,size=(100, 2)), columns=['P', 'S'])\n",
    "df_trades['Sym'] = np.random.choice(['AAPL', 'AMZN'], 100, replace=True)\n",
    "df_trades.index = pd.date_range(\"2020-01-01 09:30:00\", periods=100, freq='ns', tz='US/Eastern') + pd.Timedelta(2, 'N')\n",
    "\n",
    "df_trades.head(5)"
   ]
  },
  {
   "cell_type": "code",
   "execution_count": 85,
   "metadata": {},
   "outputs": [
    {
     "data": {
      "text/html": [
       "<div>\n",
       "<style scoped>\n",
       "    .dataframe tbody tr th:only-of-type {\n",
       "        vertical-align: middle;\n",
       "    }\n",
       "\n",
       "    .dataframe tbody tr th {\n",
       "        vertical-align: top;\n",
       "    }\n",
       "\n",
       "    .dataframe thead th {\n",
       "        text-align: right;\n",
       "    }\n",
       "</style>\n",
       "<table border=\"1\" class=\"dataframe\">\n",
       "  <thead>\n",
       "    <tr style=\"text-align: right;\">\n",
       "      <th></th>\n",
       "      <th>P</th>\n",
       "      <th>S</th>\n",
       "      <th>Sym</th>\n",
       "    </tr>\n",
       "  </thead>\n",
       "  <tbody>\n",
       "    <tr>\n",
       "      <th>2020-01-01 09:30:00.000000003-05:00</th>\n",
       "      <td>10</td>\n",
       "      <td>43</td>\n",
       "      <td>AAPL</td>\n",
       "    </tr>\n",
       "    <tr>\n",
       "      <th>2020-01-01 09:30:00.000000004-05:00</th>\n",
       "      <td>63</td>\n",
       "      <td>31</td>\n",
       "      <td>AAPL</td>\n",
       "    </tr>\n",
       "    <tr>\n",
       "      <th>2020-01-01 09:30:00.000000005-05:00</th>\n",
       "      <td>20</td>\n",
       "      <td>70</td>\n",
       "      <td>AMZN</td>\n",
       "    </tr>\n",
       "    <tr>\n",
       "      <th>2020-01-01 09:30:00.000000006-05:00</th>\n",
       "      <td>9</td>\n",
       "      <td>60</td>\n",
       "      <td>AAPL</td>\n",
       "    </tr>\n",
       "  </tbody>\n",
       "</table>\n",
       "</div>"
      ],
      "text/plain": [
       "                                      P   S   Sym\n",
       "2020-01-01 09:30:00.000000003-05:00  10  43  AAPL\n",
       "2020-01-01 09:30:00.000000004-05:00  63  31  AAPL\n",
       "2020-01-01 09:30:00.000000005-05:00  20  70  AMZN\n",
       "2020-01-01 09:30:00.000000006-05:00   9  60  AAPL"
      ]
     },
     "execution_count": 85,
     "metadata": {},
     "output_type": "execute_result"
    }
   ],
   "source": [
    "t1 = df_trades.index[0] + pd.Timedelta(1, 'N')\n",
    "t2 = t1 + pd.Timedelta(3, 'N')\n",
    "df_trades[t1:t2]       # slicing by index"
   ]
  },
  {
   "cell_type": "code",
   "execution_count": 86,
   "metadata": {},
   "outputs": [
    {
     "data": {
      "text/html": [
       "<div>\n",
       "<style scoped>\n",
       "    .dataframe tbody tr th:only-of-type {\n",
       "        vertical-align: middle;\n",
       "    }\n",
       "\n",
       "    .dataframe tbody tr th {\n",
       "        vertical-align: top;\n",
       "    }\n",
       "\n",
       "    .dataframe thead th {\n",
       "        text-align: right;\n",
       "    }\n",
       "</style>\n",
       "<table border=\"1\" class=\"dataframe\">\n",
       "  <thead>\n",
       "    <tr style=\"text-align: right;\">\n",
       "      <th></th>\n",
       "      <th>P</th>\n",
       "      <th>S</th>\n",
       "      <th>Sym</th>\n",
       "    </tr>\n",
       "  </thead>\n",
       "  <tbody>\n",
       "    <tr>\n",
       "      <th>2020-01-01 09:30:00.000000003-05:00</th>\n",
       "      <td>10</td>\n",
       "      <td>43</td>\n",
       "      <td>AAPL</td>\n",
       "    </tr>\n",
       "    <tr>\n",
       "      <th>2020-01-01 09:30:00.000000004-05:00</th>\n",
       "      <td>63</td>\n",
       "      <td>31</td>\n",
       "      <td>AAPL</td>\n",
       "    </tr>\n",
       "  </tbody>\n",
       "</table>\n",
       "</div>"
      ],
      "text/plain": [
       "                                      P   S   Sym\n",
       "2020-01-01 09:30:00.000000003-05:00  10  43  AAPL\n",
       "2020-01-01 09:30:00.000000004-05:00  63  31  AAPL"
      ]
     },
     "execution_count": 86,
     "metadata": {},
     "output_type": "execute_result"
    }
   ],
   "source": [
    "df_trades[1:3]         # slicing by row number"
   ]
  },
  {
   "cell_type": "code",
   "execution_count": 88,
   "metadata": {},
   "outputs": [
    {
     "data": {
      "text/html": [
       "<div>\n",
       "<style scoped>\n",
       "    .dataframe tbody tr th:only-of-type {\n",
       "        vertical-align: middle;\n",
       "    }\n",
       "\n",
       "    .dataframe tbody tr th {\n",
       "        vertical-align: top;\n",
       "    }\n",
       "\n",
       "    .dataframe thead th {\n",
       "        text-align: right;\n",
       "    }\n",
       "</style>\n",
       "<table border=\"1\" class=\"dataframe\">\n",
       "  <thead>\n",
       "    <tr style=\"text-align: right;\">\n",
       "      <th></th>\n",
       "      <th>P</th>\n",
       "      <th>S</th>\n",
       "      <th>Sym</th>\n",
       "    </tr>\n",
       "  </thead>\n",
       "  <tbody>\n",
       "    <tr>\n",
       "      <th>2020-01-01 09:30:00.000000014-05:00</th>\n",
       "      <td>39</td>\n",
       "      <td>24</td>\n",
       "      <td>AMZN</td>\n",
       "    </tr>\n",
       "    <tr>\n",
       "      <th>2020-01-01 09:30:00.000000034-05:00</th>\n",
       "      <td>7</td>\n",
       "      <td>21</td>\n",
       "      <td>AMZN</td>\n",
       "    </tr>\n",
       "    <tr>\n",
       "      <th>2020-01-01 09:30:00.000000094-05:00</th>\n",
       "      <td>77</td>\n",
       "      <td>21</td>\n",
       "      <td>AAPL</td>\n",
       "    </tr>\n",
       "    <tr>\n",
       "      <th>2020-01-01 09:30:00.000000097-05:00</th>\n",
       "      <td>25</td>\n",
       "      <td>21</td>\n",
       "      <td>AAPL</td>\n",
       "    </tr>\n",
       "  </tbody>\n",
       "</table>\n",
       "</div>"
      ],
      "text/plain": [
       "                                      P   S   Sym\n",
       "2020-01-01 09:30:00.000000014-05:00  39  24  AMZN\n",
       "2020-01-01 09:30:00.000000034-05:00   7  21  AMZN\n",
       "2020-01-01 09:30:00.000000094-05:00  77  21  AAPL\n",
       "2020-01-01 09:30:00.000000097-05:00  25  21  AAPL"
      ]
     },
     "execution_count": 88,
     "metadata": {},
     "output_type": "execute_result"
    }
   ],
   "source": [
    "df_trades[(df_trades.S > 20) & (df_trades.S < 25)]     # masking"
   ]
  },
  {
   "cell_type": "markdown",
   "metadata": {},
   "source": [
    "### Grouping\n",
    "\n",
    "groupby: split/appply/combine"
   ]
  },
  {
   "cell_type": "markdown",
   "metadata": {},
   "source": [
    "## Reference <a name=\"reference\"></a>\n",
    "\n",
    "* [Numpy QuickStart](https://numpy.org/doc/stable/user/quickstart.html)\n",
    "\n",
    "* [Pandas User Guide](https://pandas.pydata.org/docs/user_guide/index.html)\n",
    "\n",
    "* [Python Data Science Handbook](https://jakevdp.github.io/PythonDataScienceHandbook/)"
   ]
  },
  {
   "cell_type": "code",
   "execution_count": null,
   "metadata": {},
   "outputs": [],
   "source": []
  }
 ],
 "metadata": {
  "colab": {
   "include_colab_link": true,
   "name": "Untitled2.ipynb",
   "provenance": []
  },
  "kernelspec": {
   "display_name": "Python 3",
   "language": "python",
   "name": "python3"
  },
  "language_info": {
   "codemirror_mode": {
    "name": "ipython",
    "version": 3
   },
   "file_extension": ".py",
   "mimetype": "text/x-python",
   "name": "python",
   "nbconvert_exporter": "python",
   "pygments_lexer": "ipython3",
   "version": "3.8.3"
  }
 },
 "nbformat": 4,
 "nbformat_minor": 1
}
