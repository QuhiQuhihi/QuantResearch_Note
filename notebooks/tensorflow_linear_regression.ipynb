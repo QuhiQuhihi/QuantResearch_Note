{
  "nbformat": 4,
  "nbformat_minor": 0,
  "metadata": {
    "colab": {
      "name": "tensorflow_linear_regression.ipynb",
      "provenance": [],
      "collapsed_sections": [],
      "authorship_tag": "ABX9TyOn9SRNlj/aTpmBusIyZmOQ",
      "include_colab_link": true
    },
    "kernelspec": {
      "name": "python3",
      "display_name": "Python 3"
    }
  },
  "cells": [
    {
      "cell_type": "markdown",
      "metadata": {
        "id": "view-in-github",
        "colab_type": "text"
      },
      "source": [
        "<a href=\"https://colab.research.google.com/github/letianzj/QuantResearch/blob/master/notebooks/tensorflow_linear_regression.ipynb\" target=\"_parent\"><img src=\"https://colab.research.google.com/assets/colab-badge.svg\" alt=\"Open In Colab\"/></a>"
      ]
    },
    {
      "cell_type": "code",
      "metadata": {
        "id": "AH_tdJZQQqRC",
        "colab_type": "code",
        "colab": {}
      },
      "source": [
        "import numpy as np \n",
        "import pandas as pd\n",
        "from matplotlib import pyplot as plt \n",
        "import tensorflow as tf"
      ],
      "execution_count": 1,
      "outputs": []
    },
    {
      "cell_type": "markdown",
      "metadata": {
        "id": "BMkHwIeqThuR",
        "colab_type": "text"
      },
      "source": [
        "### 0. Data Preparation"
      ]
    },
    {
      "cell_type": "code",
      "metadata": {
        "id": "E77lkB1URQ_0",
        "colab_type": "code",
        "colab": {
          "base_uri": "https://localhost:8080/",
          "height": 102
        },
        "outputId": "761372b2-5c8b-43cb-bacc-e088029e20e4"
      },
      "source": [
        "tf.random.set_seed(0)\n",
        "np.random.seed(0)\n",
        "\n",
        "\n",
        "sample_size = 500\n",
        "batch_size = 10\n",
        "sigma_e = 3.0             # true value of parameter error sigma\n",
        "xs = 100 * np.random.rand(sample_size)\n",
        "es = np.random.normal(0, sigma_e, sample_size)\n",
        "ys = 1.0 + 2.0 * xs + es\n",
        "\n",
        "ds = tf.data.Dataset.from_tensor_slices((xs, ys)).shuffle(buffer_size=sample_size).batch(batch_size)\n",
        "for x, y in ds.take(1):         # take first batch\n",
        "    print(x, y)"
      ],
      "execution_count": 119,
      "outputs": [
        {
          "output_type": "stream",
          "text": [
            "tf.Tensor(\n",
            "[94.53015335 42.40889884 42.40322519 84.90383084 43.44166256  2.01075462\n",
            " 55.20782767 40.71832972 49.04588086 10.20448107], shape=(10,), dtype=float64) tf.Tensor(\n",
            "[189.93610426  85.85229439  84.8538211  170.60625922  86.47141214\n",
            "   3.74855637 115.39504027  81.28272318  97.11208653  21.64374268], shape=(10,), dtype=float64)\n"
          ],
          "name": "stdout"
        }
      ]
    },
    {
      "cell_type": "markdown",
      "metadata": {
        "id": "_am7GSBUTG-X",
        "colab_type": "text"
      },
      "source": [
        "### 1. Low-Level Implementattion\n",
        "\n",
        "The convergence depends on initial states of w and b, batch_size, learning rate, and loss function (mse or rmse), etc."
      ]
    },
    {
      "cell_type": "code",
      "metadata": {
        "id": "8WiG4duHSjmp",
        "colab_type": "code",
        "colab": {
          "base_uri": "https://localhost:8080/",
          "height": 102
        },
        "outputId": "742717a9-5d06-4868-9de6-7f55a30126d8"
      },
      "source": [
        "w = tf.Variable(tf.random.normal(shape=[1], dtype=tf.float64))      # scaler, shape=[] or shape=[1,]\n",
        "b = tf.Variable(0,  dtype = tf.float64)          # scaler\n",
        "\n",
        "epochs = 100\n",
        "learning_rate = 0.001\n",
        "ws = []\n",
        "bs = []\n",
        "for epoch in tf.range(1,epochs+1):      # for each epoch\n",
        "  for x, y in ds:           # for each batch\n",
        "    with tf.GradientTape() as tape:\n",
        "      y_bar = x*w + b                    # broadcasting\n",
        "      loss = tf.sqrt(tf.reduce_mean( (y-y_bar)**2 ))\n",
        "      # loss = tf.reduce_mean( (y-y_bar)**2 )\n",
        "    # Back propagation to calculate gradient\n",
        "    dloss_dw, dloss_db = tape.gradient(loss, [w, b])\n",
        "    # apply_gradients\n",
        "    w.assign(w - learning_rate * dloss_dw)         # assign, keeps tf.Variable; operator ==> tf.Tensor\n",
        "    b.assign(b - learning_rate * dloss_db)\n",
        "    ws.append(w.numpy()[0])\n",
        "    bs.append(b.numpy())\n",
        "\n",
        "  if epoch % 20 == 0:\n",
        "    tf.print('w=', w[0], ' ,b=', b, ' ,mse=', loss)"
      ],
      "execution_count": 120,
      "outputs": [
        {
          "output_type": "stream",
          "text": [
            "w= 2.0092433160037424  ,b= 0.083804579058864792  ,mse= 2.5152901410985193\n",
            "w= 2.0133854164832647  ,b= 0.12503606117564978  ,mse= 3.4116469321528675\n",
            "w= 1.9745402878296359  ,b= 0.16570829832847597  ,mse= 2.181400506321292\n",
            "w= 2.0332908978757693  ,b= 0.20492633276977928  ,mse= 1.9839655160821144\n",
            "w= 1.9998285047327671  ,b= 0.23774513013090734  ,mse= 4.39657509939333\n"
          ],
          "name": "stdout"
        }
      ]
    },
    {
      "cell_type": "code",
      "metadata": {
        "id": "Z7cukP17ZVRu",
        "colab_type": "code",
        "colab": {
          "base_uri": "https://localhost:8080/",
          "height": 382
        },
        "outputId": "c6c8b4e7-c780-4573-ceac-cfaef0c3c146"
      },
      "source": [
        "fig, axes = plt.subplots(nrows=1, ncols=2, figsize=(12, 5))\n",
        "fig.tight_layout()\n",
        "axes[0].plot(ws)\n",
        "axes[1].plot(bs)"
      ],
      "execution_count": 121,
      "outputs": [
        {
          "output_type": "execute_result",
          "data": {
            "text/plain": [
              "[<matplotlib.lines.Line2D at 0x7ff96d9d2a58>]"
            ]
          },
          "metadata": {
            "tags": []
          },
          "execution_count": 121
        },
        {
          "output_type": "display_data",
          "data": {
            "image/png": "[encoded data removed]",
            "text/plain": [
              "<Figure size 864x360 with 2 Axes>"
            ]
          },
          "metadata": {
            "tags": [],
            "needs_background": "light"
          }
        }
      ]
    },
    {
      "cell_type": "markdown",
      "metadata": {
        "id": "bcSvUnxhfqKm",
        "colab_type": "text"
      },
      "source": [
        "### 2. High-Level Implementation"
      ]
    },
    {
      "cell_type": "code",
      "metadata": {
        "id": "v62AgNvnfwLV",
        "colab_type": "code",
        "colab": {
          "base_uri": "https://localhost:8080/",
          "height": 187
        },
        "outputId": "c437311c-0549-47a9-e1d4-6f7b1190817e"
      },
      "source": [
        "tf.keras.backend.clear_session()\n",
        "\n",
        "model = tf.keras.models.Sequential()\n",
        "model.add(tf.keras.layers.Dense(1,input_shape =(1,)))        # total param # = 2\n",
        "model.summary()"
      ],
      "execution_count": 123,
      "outputs": [
        {
          "output_type": "stream",
          "text": [
            "Model: \"sequential\"\n",
            "_________________________________________________________________\n",
            "Layer (type)                 Output Shape              Param #   \n",
            "=================================================================\n",
            "dense (Dense)                (None, 1)                 2         \n",
            "=================================================================\n",
            "Total params: 2\n",
            "Trainable params: 2\n",
            "Non-trainable params: 0\n",
            "_________________________________________________________________\n"
          ],
          "name": "stdout"
        }
      ]
    },
    {
      "cell_type": "code",
      "metadata": {
        "id": "iMMxiROvgYKW",
        "colab_type": "code",
        "colab": {}
      },
      "source": [
        "loss_fn = tf.keras.losses.mean_squared_error\n",
        "optimizer = tf.keras.optimizers.Adam(learning_rate=0.001)\n",
        "model.compile(optimizer=optimizer, loss=loss_fn, metrics=[tf.keras.metrics.RootMeanSquaredError()])"
      ],
      "execution_count": 125,
      "outputs": []
    },
    {
      "cell_type": "markdown",
      "metadata": {
        "id": "nvUCh47ti2bb",
        "colab_type": "text"
      },
      "source": [
        "We can either mix it with low-level api"
      ]
    },
    {
      "cell_type": "code",
      "metadata": {
        "id": "ufaKd-4pire9",
        "colab_type": "code",
        "colab": {
          "base_uri": "https://localhost:8080/",
          "height": 187
        },
        "outputId": "78450502-9945-4894-800c-2ce7a518a509"
      },
      "source": [
        "epochs = 200\n",
        "\n",
        "for epoch in tf.range(1,epochs+1):      # for each epoch\n",
        "  loss = tf.constant(0.0)\n",
        "  for x, y in ds:           # for each batch\n",
        "    with tf.GradientTape() as tape:\n",
        "      y_bar = model(y)                # __call__\n",
        "      loss = loss_fn(tf.reshape(y, [-1]), tf.reshape(y_bar, [-1]))\n",
        "    # Back propagation to calculate gradient\n",
        "    grads = tape.gradient(loss, model.variables)\n",
        "    # apply_gradients\n",
        "    model.optimizer.apply_gradients(zip(grads, model.variables))\n",
        "  \n",
        "  if epoch%20==0:\n",
        "    tf.print('w=', w, ' ,b=', b, ' ,mse=', loss)"
      ],
      "execution_count": 126,
      "outputs": [
        {
          "output_type": "stream",
          "text": [
            "w= [1.9998285047327671]  ,b= 0.23774513013090734  ,mse= 32856.3203\n",
            "w= [1.9998285047327671]  ,b= 0.23774513013090734  ,mse= 6936.47\n",
            "w= [1.9998285047327671]  ,b= 0.23774513013090734  ,mse= 790.176208\n",
            "w= [1.9998285047327671]  ,b= 0.23774513013090734  ,mse= 7.72515583\n",
            "w= [1.9998285047327671]  ,b= 0.23774513013090734  ,mse= 0.698684156\n",
            "w= [1.9998285047327671]  ,b= 0.23774513013090734  ,mse= 1.83272243\n",
            "w= [1.9998285047327671]  ,b= 0.23774513013090734  ,mse= 1.08908737\n",
            "w= [1.9998285047327671]  ,b= 0.23774513013090734  ,mse= 0.85788995\n",
            "w= [1.9998285047327671]  ,b= 0.23774513013090734  ,mse= 0.855531335\n",
            "w= [1.9998285047327671]  ,b= 0.23774513013090734  ,mse= 0.84222728\n"
          ],
          "name": "stdout"
        }
      ]
    },
    {
      "cell_type": "markdown",
      "metadata": {
        "id": "pIo0f3WMjA9t",
        "colab_type": "text"
      },
      "source": [
        "Or just call model.fit"
      ]
    },
    {
      "cell_type": "code",
      "metadata": {
        "id": "iWVw5VxcjDJi",
        "colab_type": "code",
        "colab": {
          "base_uri": "https://localhost:8080/",
          "height": 34
        },
        "outputId": "fed7b0e2-42ca-4862-bf61-122d98875081"
      },
      "source": [
        "tf.keras.backend.clear_session()\n",
        "model.reset_states()\n",
        "\n",
        "model.fit(tf.convert_to_tensor(xs), tf.convert_to_tensor(ys), batch_size = 10, epochs = 200, verbose=0) \n",
        "tf.print('w=', model.layers[0].kernel, ' b=', model.layers[0].bias)"
      ],
      "execution_count": 128,
      "outputs": [
        {
          "output_type": "stream",
          "text": [
            "w= [[1.99535918]]  b= [0.967212737]\n"
          ],
          "name": "stdout"
        }
      ]
    },
    {
      "cell_type": "code",
      "metadata": {
        "id": "APG0pQJOl5cS",
        "colab_type": "code",
        "colab": {}
      },
      "source": [
        ""
      ],
      "execution_count": null,
      "outputs": []
    }
  ]
}